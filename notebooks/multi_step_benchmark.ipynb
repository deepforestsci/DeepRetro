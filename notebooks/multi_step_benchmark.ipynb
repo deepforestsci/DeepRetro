{
 "cells": [
  {
   "cell_type": "code",
   "execution_count": 1,
   "id": "a70bb37e",
   "metadata": {},
   "outputs": [],
   "source": [
    "import pickle\n",
    "import random\n",
    "import logging\n",
    "import time\n",
    "import pickle\n",
    "import json\n",
    "import os\n",
    "import pathlib\n",
    "from os.path import dirname, abspath\n",
    "from rdkit import Chem\n",
    "\n",
    "import numpy as np\n",
    "import torch\n",
    "from rdkit import RDLogger\n",
    "\n",
    "import rootutils\n",
    "root_dir = rootutils.setup_root(\".\",\n",
    "                               indicator=\".project-root\",\n",
    "                               pythonpath=True)"
   ]
  },
  {
   "cell_type": "code",
   "execution_count": 2,
   "metadata": {},
   "outputs": [],
   "source": [
    "# load /home/ubuntu/recursiveLLM/data/routes_possible_test_hard.pkl\n",
    "with open('/home/ubuntu/recursiveLLM/data/routes_possible_test_hard.pkl', 'rb') as f:\n",
    "    routes = pickle.load(f)\n",
    "    # print the keys of the dictionary"
   ]
  },
  {
   "cell_type": "code",
   "execution_count": 3,
   "id": "e105575a",
   "metadata": {},
   "outputs": [
    {
     "data": {
      "text/plain": [
       "['CCCC[C@@H](C(=O)N1CCC[C@H]1C(=O)O)[C@@H](F)C(=O)OC>>CCCC[C@@H](C(=O)N1CCC[C@H]1C(=O)OC(C)(C)C)[C@@H](F)C(=O)OC',\n",
       " 'CCCC[C@@H](C(=O)N1CCC[C@H]1C(=O)OC(C)(C)C)[C@@H](F)C(=O)OC>>O=S(=O)(OS(=O)(=O)C(F)(F)F)C(F)(F)F.CCCC[C@@H](C(=O)N1CCC[C@H]1C(=O)OC(C)(C)C)[C@H](O)C(=O)OC',\n",
       " 'CCCC[C@@H](C(=O)N1CCC[C@H]1C(=O)OC(C)(C)C)[C@H](O)C(=O)OC>>CCCCC(C(=O)N1CCC[C@H]1C(=O)OC(C)(C)C)C1OC(OC)(c2ccccc2)OC1=O',\n",
       " 'CCCCC(C(=O)N1CCC[C@H]1C(=O)OC(C)(C)C)C1OC(OC)(c2ccccc2)OC1=O>>CCCCC(C(=O)O)C1OC(OC)(c2ccccc2)OC1=O.CC(C)(C)OC(=O)[C@@H]1CCCN1',\n",
       " 'CCCCC(C(=O)O)C1OC(OC)(c2ccccc2)OC1=O>>Cc1ccccc1.CCCC[C@@H](C(=O)O)[C@H](O)C(=O)O.CC1(C)C2CCC1(CS(=O)(=O)O)C(=O)C2',\n",
       " 'CCCC[C@@H](C(=O)O)[C@H](O)C(=O)O>>CCCC[C@@H](C(=O)OC)[C@H](O)C(=O)OC',\n",
       " 'CCCC[C@@H](C(=O)OC)[C@H](O)C(=O)OC>>CC=CC[C@@H](C(=O)OC)[C@H](O)C(=O)OC',\n",
       " 'CC=CC[C@@H](C(=O)OC)[C@H](O)C(=O)OC>>COC(=O)CC(O)C(=O)OC.[Li]CCCC']"
      ]
     },
     "execution_count": 3,
     "metadata": {},
     "output_type": "execute_result"
    }
   ],
   "source": [
    "routes[1]"
   ]
  },
  {
   "cell_type": "code",
   "execution_count": 4,
   "id": "a59e0b65",
   "metadata": {},
   "outputs": [],
   "source": [
    "target_mols = [Chem.CanonSmiles(route[0].split('>')[0]) for route in routes]\n",
    "num_targets = len(target_mols)\n",
    "target_mols_id = list(range(num_targets))\n",
    "max_len = 16 # for USPTO test molecules"
   ]
  },
  {
   "cell_type": "code",
   "execution_count": 5,
   "id": "ebd4844c",
   "metadata": {},
   "outputs": [
    {
     "data": {
      "text/plain": [
       "190"
      ]
     },
     "execution_count": 5,
     "metadata": {},
     "output_type": "execute_result"
    }
   ],
   "source": [
    "len(target_mols)"
   ]
  },
  {
   "cell_type": "code",
   "execution_count": 6,
   "id": "e5e432da",
   "metadata": {},
   "outputs": [],
   "source": [
    "random.seed(21)\n",
    "# sample 10 molecules from target_mols with seed 21\n",
    "sampled_mols = random.sample(target_mols, 10)\n",
    "# print the sampled molecules\n",
    "# save sampled_mols to csv file\n",
    "import pandas as pd\n",
    "df = pd.DataFrame(sampled_mols, columns=['smiles'])\n",
    "df.to_csv(f\"{root_dir}/data/USPTO_190_sample.csv\", index=False)\n"
   ]
  },
  {
   "cell_type": "code",
   "execution_count": 7,
   "id": "26575159",
   "metadata": {},
   "outputs": [
    {
     "data": {
      "text/plain": [
       "['Cn1nccc1[C@]1(O)CCCC[C@H]1O',\n",
       " 'CC1=NC2(N=C1N)c1cc(-c3cc(Cl)cc(C#N)c3)ccc1CCC21CC1',\n",
       " 'CCC/C=C/[C@H]1CC[C@H](C(CO)CO)CC1',\n",
       " 'C=CCC1C=C(C)CC(C)CC(OC)C2OC(O)(C(=O)C(=O)N3CCCCC3C(=O)OC(C(C)=CC3CCC(O)C(OC)C3)C(C)C=CC1O)C(C)CC2OC',\n",
       " 'CC(=O)NC[C@H]1CC[C@@H](C(=O)Nc2cccc(OC(F)(F)F)c2)N1',\n",
       " 'COC(=O)c1ccc2c(c1)C=CC(=C(Cl)Cl)CO2',\n",
       " 'Cc1ccc(C(C)(C)C)cc1S[C@@H]1O[C@H](CO)[C@@H](O)[C@H](O)[C@H]1O',\n",
       " 'COC(=O)[C@@H]1CCCC2(CCCCC2)[C@H]1O',\n",
       " 'CC(C)S(=O)(=O)N[C@H]1CCOC[C@H]1c1ccc(I)cc1',\n",
       " 'CN1CC[C@@H](c2c(O)cc(O)c3c(=O)cc(-c4ccc(C(F)(F)F)cc4)oc23)[C@@H]1CO']"
      ]
     },
     "execution_count": 7,
     "metadata": {},
     "output_type": "execute_result"
    }
   ],
   "source": [
    "sampled_mols"
   ]
  },
  {
   "cell_type": "code",
   "execution_count": null,
   "id": "d9c0a5a4",
   "metadata": {},
   "outputs": [],
   "source": []
  }
 ],
 "metadata": {
  "kernelspec": {
   "display_name": "dfs_si_challenge",
   "language": "python",
   "name": "python3"
  },
  "language_info": {
   "codemirror_mode": {
    "name": "ipython",
    "version": 3
   },
   "file_extension": ".py",
   "mimetype": "text/x-python",
   "name": "python",
   "nbconvert_exporter": "python",
   "pygments_lexer": "ipython3",
   "version": "3.9.20"
  }
 },
 "nbformat": 4,
 "nbformat_minor": 5
}
