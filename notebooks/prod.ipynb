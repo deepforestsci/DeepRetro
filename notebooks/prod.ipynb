{
 "cells": [
  {
   "cell_type": "code",
   "execution_count": 1,
   "metadata": {},
   "outputs": [
    {
     "name": "stderr",
     "output_type": "stream",
     "text": [
      "2024-09-12 12:03:22.397256: E external/local_xla/xla/stream_executor/cuda/cuda_fft.cc:485] Unable to register cuFFT factory: Attempting to register factory for plugin cuFFT when one has already been registered\n",
      "2024-09-12 12:03:22.475757: E external/local_xla/xla/stream_executor/cuda/cuda_dnn.cc:8454] Unable to register cuDNN factory: Attempting to register factory for plugin cuDNN when one has already been registered\n",
      "2024-09-12 12:03:22.508286: E external/local_xla/xla/stream_executor/cuda/cuda_blas.cc:1452] Unable to register cuBLAS factory: Attempting to register factory for plugin cuBLAS when one has already been registered\n",
      "2024-09-12 12:03:22.707996: I tensorflow/core/platform/cpu_feature_guard.cc:210] This TensorFlow binary is optimized to use available CPU instructions in performance-critical operations.\n",
      "To enable the following instructions: AVX2 FMA, in other operations, rebuild TensorFlow with the appropriate compiler flags.\n",
      "2024-09-12 12:03:23.636302: W tensorflow/compiler/tf2tensorrt/utils/py_utils.cc:38] TF-TRT Warning: Could not find TensorRT\n"
     ]
    }
   ],
   "source": [
    "from utilsV2 import clear_cache, run_prithvi"
   ]
  },
  {
   "cell_type": "code",
   "execution_count": 2,
   "metadata": {},
   "outputs": [],
   "source": [
    "# mols = [\n",
    "#     \"CN1CCC2(S[C@@H](C)N(C(CCC3=CNC4=C3C=CC=C4)=O)C2)CC1\",\n",
    "#     \"ClC1=CC(OCC2=C(C3CC3)ON=C2C4=C(Cl)C=CC=C4Cl)=CC=C1C5(O)CN(C6=NC=CC(C(O)=O)=C6)C5\"\n",
    "# ]\n",
    "\n",
    "# index = 0\n",
    "# molecule = mols[index]"
   ]
  },
  {
   "cell_type": "code",
   "execution_count": 3,
   "metadata": {},
   "outputs": [],
   "source": [
    "# # Sep 2nd Molecules\n",
    "# mols = [\n",
    "#     \"FC1=CC(C[C@@H](CN)NC(C2=CC(C3=C(Cl)C=NN3C)=C(Cl)S2)=O)=CC=C1\",\n",
    "#     \"FC1(F)CCC([C@H](NC(C2=NON=C2C)=O)C3=CN(N=CC([C@@H](COC)N4C[C@@H](C(F)(F)F)NC4=O)=C5)C5=N3)CC1\",\n",
    "#     \"FC1(F)CCC([C@H](N)C2=CN(N=CC([C@@H](COC)N3C[C@@H](C(F)(F)F)NC3=O)=C4)C4=N2)CC1\",\n",
    "#     \"O=C(C1=NON=C1C)Cl\"\n",
    "# ]\n",
    "\n",
    "# index = 0\n",
    "# molecule = mols[index]"
   ]
  },
  {
   "cell_type": "code",
   "execution_count": 4,
   "metadata": {},
   "outputs": [],
   "source": [
    "# Sep 13th due molecules\n",
    "\n",
    "mols = [\n",
    "    \"ClC(C(OC)=C1)=CC2=C1[C@@H]3[C@@H](N(C)CC2)CCC4=CC=CC=C43\",\n",
    "    \"O=C(NC1=CC(C(F)(F)F)=CC(NC(CCCCNC(N)=N)=O)=C1O[C@@H]2CCNC2)C3=NC=NC(C(NC4=C(O[C@H]5CNCC5)C(NC(CCCCNC(N)=N)=O)=CC(C(F)(F)F)=C4)=O)=C3\",\n",
    "    \"N(CC(OC)OC)(C)[C@@H]1[C@H](C=2C(CC1)=CC=CC2)C3=CC(OC)=C(Cl)C=C3\",\n",
    "    \"N(CC(OC)OC)(C)[C@@H]1C=2C(CC[C@H]1O)=CC=CC2\"\n",
    "]\n",
    "\n",
    "index = 3\n",
    "molecule = mols[index]"
   ]
  },
  {
   "cell_type": "code",
   "execution_count": 5,
   "metadata": {},
   "outputs": [],
   "source": [
    "clear_cache()"
   ]
  },
  {
   "cell_type": "code",
   "execution_count": 6,
   "metadata": {},
   "outputs": [],
   "source": [
    "try:\n",
    "    res_dict = run_prithvi(molecule)\n",
    "except Exception as e:\n",
    "    print(\"Error:\", e)\n"
   ]
  },
  {
   "cell_type": "code",
   "execution_count": 8,
   "metadata": {},
   "outputs": [
    {
     "data": {
      "text/plain": [
       "{'dependencies': {'1': ['2'], '2': []},\n",
       " 'steps': [{'step': '1',\n",
       "   'reactants': [{'smiles': 'CNCC(OC)OC',\n",
       "     'reactant_metadata': {'name': '',\n",
       "      'chemical_formula': 'C5H13NO2',\n",
       "      'mass': 119.094628656}},\n",
       "    {'smiles': 'c1ccc2c(c1)CCC1OC21',\n",
       "     'reactant_metadata': {'name': '',\n",
       "      'chemical_formula': 'C10H10O',\n",
       "      'mass': 146.07316494}}],\n",
       "   'reagents': [],\n",
       "   'products': [{'smiles': 'COC(CN(C)[C@@H]1c2ccccc2CC[C@H]1O)OC',\n",
       "     'product_metadata': {'name': '',\n",
       "      'chemical_formula': 'C15H23NO3',\n",
       "      'mass': 265.167793596}}],\n",
       "   'conditions': [],\n",
       "   'reactionmetrics': [{'scalabilityindex': '8',\n",
       "     'confidenceestimate': 0.99,\n",
       "     'closestliterature': ''}]},\n",
       "  {'step': '2',\n",
       "   'reactants': [{'smiles': 'C1=Cc2ccccc2CC1',\n",
       "     'reactant_metadata': {'name': '',\n",
       "      'chemical_formula': 'C10H10',\n",
       "      'mass': 130.07825032}},\n",
       "    {'smiles': 'O=C(OO)c1cccc(Cl)c1',\n",
       "     'reactant_metadata': {'name': '',\n",
       "      'chemical_formula': 'C7H5ClO3',\n",
       "      'mass': 171.99272169999998}}],\n",
       "   'reagents': [],\n",
       "   'products': [{'smiles': 'c1ccc2c(c1)CCC1OC21',\n",
       "     'product_metadata': {'name': '',\n",
       "      'chemical_formula': 'C10H10O',\n",
       "      'mass': 146.07316494}}],\n",
       "   'conditions': [],\n",
       "   'reactionmetrics': [{'scalabilityindex': '8',\n",
       "     'confidenceestimate': 0.74,\n",
       "     'closestliterature': ''}]}]}"
      ]
     },
     "execution_count": 8,
     "metadata": {},
     "output_type": "execute_result"
    }
   ],
   "source": [
    "res_dict"
   ]
  },
  {
   "cell_type": "code",
   "execution_count": 9,
   "metadata": {},
   "outputs": [],
   "source": [
    "import json\n",
    "\n",
    "confidence = 0\n",
    "run = 5\n",
    "with open(f\"deepforestsci_{index+4}.{run}part_path_alt.json\", \"w\") as f:\n",
    "    json.dump(res_dict, f, indent=4)"
   ]
  },
  {
   "cell_type": "code",
   "execution_count": 7,
   "metadata": {},
   "outputs": [],
   "source": [
    "import json\n",
    "with open(f\"deepforestsci_{index+7}_path_trial.json\", \"w\") as f:\n",
    "    json.dump(res_dict, f, indent=4)"
   ]
  },
  {
   "cell_type": "code",
   "execution_count": 13,
   "metadata": {},
   "outputs": [],
   "source": [
    "with open(f\"deepforestsci_7.json\", \"r\") as f:\n",
    "    res_dict_7 = json.load(f)"
   ]
  },
  {
   "cell_type": "code",
   "execution_count": 14,
   "metadata": {},
   "outputs": [
    {
     "name": "stdout",
     "output_type": "stream",
     "text": [
      "N(CC(OC)OC)(C)[C@@H]1[C@H](C=2C(CC1)=CC=CC2)C3=CC(OC)=C(Cl)C=C3>>ClC(C(OC)=C1)=CC2=C1[C@@H]3[C@@H](N(C)CC2)CCC4=CC=CC=C43\n",
      "COC(CN(C)[C@@H]1c2ccccc2CC[C@H]1O)OC.ClC1=CC=C([Mg]Br)C=C1OC>>N(CC(OC)OC)(C)[C@@H]1[C@H](C=2C(CC1)=CC=CC2)C3=CC(OC)=C(Cl)C=C3\n",
      "CNCC(OC)OC.c1ccc2c(c1)CCC1OC21>>COC(CN(C)[C@@H]1c2ccccc2CC[C@H]1O)OC\n",
      "C1=Cc2ccccc2CC1.O=C(OO)c1cccc(Cl)c1>>c1ccc2c(c1)CCC1OC21\n"
     ]
    }
   ],
   "source": [
    "to_print = {}\n",
    "for step in res_dict_7['steps']:\n",
    "    temp = \"\"\n",
    "    react_str = \"\"\n",
    "    for react in step['reactants']:\n",
    "        react_str += react['smiles'] + \".\"\n",
    "\n",
    "    for reagent in step['reagents']:\n",
    "        react_str += reagent['smiles'] + \".\"\n",
    "\n",
    "    react_str = react_str.rstrip(\".\")\n",
    "    temp += react_str + \">>\"\n",
    "    for prod in step['products']:\n",
    "        temp += prod['smiles']\n",
    "    to_print[step['step']] = temp\n",
    "\n",
    "for i in to_print:\n",
    "    print(f\"{to_print[i]}\")"
   ]
  },
  {
   "cell_type": "code",
   "execution_count": null,
   "metadata": {},
   "outputs": [],
   "source": []
  }
 ],
 "metadata": {
  "kernelspec": {
   "display_name": ".venv",
   "language": "python",
   "name": "python3"
  },
  "language_info": {
   "codemirror_mode": {
    "name": "ipython",
    "version": 3
   },
   "file_extension": ".py",
   "mimetype": "text/x-python",
   "name": "python",
   "nbconvert_exporter": "python",
   "pygments_lexer": "ipython3",
   "version": "3.10.14"
  }
 },
 "nbformat": 4,
 "nbformat_minor": 2
}
