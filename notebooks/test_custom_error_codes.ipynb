{
 "cells": [
  {
   "cell_type": "markdown",
   "metadata": {},
   "source": [
    "# Test Custom Error Code"
   ]
  },
  {
   "cell_type": "code",
   "execution_count": 1,
   "metadata": {},
   "outputs": [],
   "source": [
    "import rootutils\n",
    "root_dir = rootutils.setup_root(\".\", indicator=\".project-root\", pythonpath=True)"
   ]
  },
  {
   "cell_type": "markdown",
   "metadata": {},
   "source": [
    "## llm.py"
   ]
  },
  {
   "cell_type": "code",
   "execution_count": 3,
   "metadata": {},
   "outputs": [],
   "source": [
    "import os\n",
    "import ast\n",
    "import litellm\n",
    "from typing import Optional\n",
    "from dotenv import load_dotenv\n",
    "from litellm import completion\n",
    "from src.variables import OPENAI_MODELS, DEEPSEEK_MODELS\n",
    "from src.variables import USER_PROMPT, SYS_PROMPT\n",
    "from src.variables import USER_PROMPT_V4, SYS_PROMPT_V4\n",
    "from src.variables import USER_PROMPT_OPENAI, SYS_PROMPT_OPENAI\n",
    "from src.variables import USER_PROMPT_DEEPSEEK, SYS_PROMPT_DEEPSEEK\n",
    "from src.variables import ADDON_PROMPT_7_MEMBER, USER_PROMPT_DEEPSEEK_V4\n",
    "from src.variables import ERROR_MAP\n",
    "from src.cache import cache_results\n",
    "from src.utils.utils_molecule import validity_check, detect_seven_member_rings\n",
    "from src.utils.job_context import logger as context_logger\n",
    "\n",
    "load_dotenv()\n",
    "\n",
    "# set the success callback to langfuse for logging\n",
    "litellm.success_callback = [\"langfuse\"]\n",
    "litellm.drop_params = True\n",
    "\n",
    "metadata = {\n",
    "    \"generation_name\": \"prod\",  # set langfuse generation name\n",
    "    \"project\": \"Retrosynthesis\",  # set langfuse project name\n",
    "    \"version\": \"0.0.3\",  # set langfuse version\n",
    "    \"trace_name\": \"prod\",  # set langfuse Trace Name\n",
    "    \"trace_user_id\": \"sv\",  # set langfuse Trace User ID\n",
    "    \"session_id\": \"prod\",  # set langfuse Session ID\n",
    "}\n",
    "ENABLE_LOGGING = False if os.getenv(\"ENABLE_LOGGING\",\n",
    "                                    \"true\").lower() == \"false\" else True\n",
    "\n",
    "\n",
    "def log_message(message: str, logger=None):\n",
    "    \"\"\"Log the message\n",
    "\n",
    "    Parameters\n",
    "    ----------\n",
    "    message : str\n",
    "        The message to be logged\n",
    "    logger : _type_, optional\n",
    "        The logger object, by default None\n",
    "\n",
    "    Returns\n",
    "    -------\n",
    "    None\n",
    "    \"\"\"\n",
    "    if logger is not None:\n",
    "        logger.info(message)\n",
    "    else:\n",
    "        print(message)\n",
    "\n",
    "\n",
    "def obtain_prompt(LLM: str):\n",
    "    \"\"\"Obtain the prompt based on the LLM model\n",
    "\n",
    "    Parameters\n",
    "    ----------\n",
    "    LLM : str\n",
    "        The LLM model to be used\n",
    "\n",
    "    Returns\n",
    "    -------\n",
    "    str, str, int\n",
    "        The system prompt, user prompt and max completion tokens\n",
    "    \"\"\"\n",
    "    advanced_prompt = False\n",
    "    detector = LLM.split(\":\")\n",
    "    if len(detector) > 1 and detector[1] == \"adv\":\n",
    "        advanced_prompt = True\n",
    "    print(f\"Advanced Prompt: {advanced_prompt}\")\n",
    "    if advanced_prompt:\n",
    "        if LLM in DEEPSEEK_MODELS:\n",
    "            sys_prompt_final = SYS_PROMPT_V4\n",
    "            user_prompt_final = USER_PROMPT_DEEPSEEK_V4\n",
    "            max_completion_tokens = 8192 * 2\n",
    "        elif LLM in OPENAI_MODELS:\n",
    "            sys_prompt_final = SYS_PROMPT_OPENAI\n",
    "            user_prompt_final = USER_PROMPT_OPENAI\n",
    "            max_completion_tokens = 8192\n",
    "        else:\n",
    "            sys_prompt_final = SYS_PROMPT_V4\n",
    "            user_prompt_final = USER_PROMPT_V4\n",
    "            max_completion_tokens = 4096\n",
    "    else:\n",
    "        if LLM in DEEPSEEK_MODELS:\n",
    "            sys_prompt_final = SYS_PROMPT_DEEPSEEK\n",
    "            user_prompt_final = USER_PROMPT_DEEPSEEK\n",
    "            max_completion_tokens = 8192\n",
    "        elif LLM in OPENAI_MODELS:\n",
    "            sys_prompt_final = SYS_PROMPT_OPENAI\n",
    "            user_prompt_final = USER_PROMPT_OPENAI\n",
    "            max_completion_tokens = 8192\n",
    "        else:\n",
    "            sys_prompt_final = SYS_PROMPT\n",
    "            user_prompt_final = USER_PROMPT\n",
    "            max_completion_tokens = 4096\n",
    "    return sys_prompt_final, user_prompt_final, max_completion_tokens\n",
    "\n",
    "\n",
    "@cache_results\n",
    "def call_LLM(molecule: str,\n",
    "             LLM: str = \"claude-3-opus-20240229\",\n",
    "             temperature: float = 0.0,\n",
    "             messages: Optional[list[dict]] = None) -> tuple[int, str]:\n",
    "    \"\"\"Calls the LLM model to predict the next step\n",
    "\n",
    "    Parameters\n",
    "    ----------\n",
    "    molecule : str\n",
    "        The target molecule for retrosynthesis\n",
    "    LLM : str, optional\n",
    "        The LLM model to be used, by default \"claude-3-opus-20240229\"\n",
    "    temperature : float, optional\n",
    "        The temperature for sampling, by default 0.0\n",
    "    messages : Optional[list[dict]], optional\n",
    "        The conversation history, by default None\n",
    "\n",
    "    Returns\n",
    "    -------\n",
    "    tuple[int, str]\n",
    "        The status code and the response text\n",
    "    \"\"\"\n",
    "    logger = context_logger.get() if ENABLE_LOGGING else None\n",
    "    log_message(f\"Calling {LLM} with molecule: {molecule}\", logger)\n",
    "\n",
    "    if detect_seven_member_rings(molecule):\n",
    "        log_message(f\"Detected seven member ring in molecule: {molecule}\",\n",
    "                    logger)\n",
    "        add_on = ADDON_PROMPT_7_MEMBER\n",
    "    else:\n",
    "        add_on = \"\"\n",
    "\n",
    "    sys_prompt_final, user_prompt_final, max_completion_tokens = obtain_prompt(\n",
    "        LLM)\n",
    "    LLM = LLM.split(\":\")[0]\n",
    "    if LLM in DEEPSEEK_MODELS:\n",
    "        user_prompt_final += add_on\n",
    "    if messages is None:\n",
    "        messages = [{\n",
    "            \"role\": \"system\",\n",
    "            \"content\": sys_prompt_final + add_on\n",
    "        }, {\n",
    "            \"role\":\n",
    "            \"user\",\n",
    "            \"content\":\n",
    "            user_prompt_final.replace('{target_smiles}', molecule)\n",
    "        }]\n",
    "\n",
    "    try:\n",
    "        response = completion(model=LLM,\n",
    "                              messages=messages,\n",
    "                              max_completion_tokens=max_completion_tokens,\n",
    "                              temperature=temperature,\n",
    "                              seed=42,\n",
    "                              top_p=0.9,\n",
    "                              metadata=metadata)\n",
    "        res_text = response.choices[0].message.content\n",
    "    except Exception as e:\n",
    "        log_message(f\"Error in calling {LLM}: {e}\", logger)\n",
    "        log_message(f\"Retrying call to {LLM}\", logger)\n",
    "        try:\n",
    "            response = completion(model=LLM,\n",
    "                                  messages=messages,\n",
    "                                  max_completion_tokens=4096,\n",
    "                                  temperature=temperature,\n",
    "                                  seed=42,\n",
    "                                  top_p=0.9,\n",
    "                                  metadata=metadata)\n",
    "            res_text = response.choices[0].message.content\n",
    "        except Exception as e:\n",
    "            log_message(f\"2nd Error in calling {LLM}: {e}\", logger)\n",
    "            log_message(f\"Exiting call to {LLM}\", logger)\n",
    "            return 400, \"\"\n",
    "    log_message(f\"Received response from LLM: {res_text}\", logger)\n",
    "    return 200, res_text\n",
    "\n",
    "\n",
    "def split_cot_json(res_text: str) -> tuple[int, list[str], str]:\n",
    "    \"\"\"Parse the LLM response to extract the thinking steps and json content\n",
    "\n",
    "    Parameters\n",
    "    ----------\n",
    "    res_text : str\n",
    "        The response text from the LLM model\n",
    "\n",
    "    Returns\n",
    "    -------\n",
    "    tuple[int, list[str], str]\n",
    "        The status code, thinking steps and json content\n",
    "    \"\"\"\n",
    "    logger = context_logger.get() if ENABLE_LOGGING else None\n",
    "    try:\n",
    "        # extract the content within <cot> </cot> tags as thinking content\n",
    "        thinking_content = res_text[res_text.find(\"<cot>\\n\") +\n",
    "                                    6:res_text.find(\"</cot>\")]\n",
    "        if not thinking_content:\n",
    "            return 501, [], \"\"\n",
    "        \n",
    "        # split the thinking content into individual steps based on the <thinking> </thinking> tags\n",
    "        thinking_steps = thinking_content.split(\"<thinking\")[1:]\n",
    "        thinking_steps = [\n",
    "            step[:step.find(\"</thinking>\")] for step in thinking_steps\n",
    "        ]\n",
    "        if not thinking_steps:\n",
    "            return 501, [], \"\"\n",
    "    except Exception as e:\n",
    "        log_message(f\"Error in parsing obtaining COT: {e}\", logger)\n",
    "        return 501, [], \"\"\n",
    "\n",
    "    try:\n",
    "        json_content = res_text[res_text.find(\"<json>\\n\") +\n",
    "                                7:res_text.find(\"</json>\")]\n",
    "        if not json_content:\n",
    "            return 501, [], \"\"\n",
    "    except Exception as e:\n",
    "        log_message(f\"Error in parsing LLM response: {e}\", logger)\n",
    "        return 501, [], \"\"\n",
    "    return 200, thinking_steps, json_content\n",
    "\n",
    "\n",
    "def split_json_openAI(res_text: str) -> tuple[int, str]:\n",
    "    \"\"\"Split the response text from OpenAI models to extract the molecules\n",
    "    Note: OpenAI O-series models do not provide Chain of Thoughts (COT) in the response\n",
    "\n",
    "    Parameters\n",
    "    ----------\n",
    "    res_text : str\n",
    "        The response text from the OpenAI model\n",
    "\n",
    "    Returns\n",
    "    -------\n",
    "    tuple[int, str]\n",
    "        the status code and json content\n",
    "    \"\"\"\n",
    "    logger = context_logger.get() if ENABLE_LOGGING else None\n",
    "    try:\n",
    "        json_content = res_text[res_text.find(\"<json>\\n\") +\n",
    "                                7:res_text.find(\"</json>\")]\n",
    "        if not json_content:\n",
    "            return 502, \"\"\n",
    "        \n",
    "    except Exception as e:\n",
    "        log_message(f\"Error in parsing LLM response: {e}\", logger)\n",
    "        return 502, \"\"\n",
    "    return 200, json_content\n",
    "\n",
    "\n",
    "def split_json_deepseek(res_text: str) -> tuple[int, list[str], str]:\n",
    "    \"\"\"Parse the LLM response to extract the thinking steps and json content\n",
    "\n",
    "    Parameters\n",
    "    ----------\n",
    "    res_text : str\n",
    "        The response text from the LLM model\n",
    "\n",
    "    Returns\n",
    "    -------\n",
    "    tuple[int, list[str], str]\n",
    "        The status code, thinking steps and json content\n",
    "    \"\"\"\n",
    "    logger = context_logger.get() if ENABLE_LOGGING else None\n",
    "\n",
    "    try:\n",
    "        # extract the content within <cot> </cot> tags as thinking content\n",
    "        thinking_content = res_text[res_text.find(\"<think>\\n\") +\n",
    "                                    6:res_text.find(\"</think>\")]\n",
    "        if not thinking_content:\n",
    "            return 503, [], \"\"\n",
    "        \n",
    "        json_content = res_text[res_text.find(\"<json>\\n\") +\n",
    "                                7:res_text.find(\"</json>\")]\n",
    "        if not json_content:\n",
    "            return 503, [], \"\"\n",
    "        \n",
    "    except Exception as e:\n",
    "        log_message(f\"Error in parsing LLM response: {e}\", logger)\n",
    "        return 503, [], \"\"\n",
    "    return 200, [thinking_content], json_content\n",
    "\n",
    "\n",
    "def split_json_master(res_text: str, model: str) -> tuple[int, list[str], str]:\n",
    "    \"\"\"Split the response text based on the model\n",
    "\n",
    "    Parameters\n",
    "    ----------\n",
    "    res_text : str\n",
    "        The response text from the LLM model\n",
    "    model : str\n",
    "        The LLM model used\n",
    "\n",
    "    Returns\n",
    "    -------\n",
    "    tuple[int, list[str], str]\n",
    "        The status code, thinking steps and json content\n",
    "    \"\"\"\n",
    "    try:\n",
    "        if model in DEEPSEEK_MODELS:\n",
    "            status_code, thinking_steps, json_content = split_json_deepseek(\n",
    "                res_text)\n",
    "        elif model in OPENAI_MODELS:\n",
    "            status_code, json_content = split_json_openAI(res_text)\n",
    "            thinking_steps = []\n",
    "        else:\n",
    "            status_code, thinking_steps, json_content = split_cot_json(res_text)\n",
    "    except Exception as e:\n",
    "        return 505, [], \"\"\n",
    "\n",
    "    return status_code, thinking_steps, json_content\n",
    "\n",
    "\n",
    "def validate_split_json(\n",
    "        json_content: str) -> tuple[int, list[str], list[str], list[int]]:\n",
    "    \"\"\"Validate the split json content from LLM response\n",
    "\n",
    "    Parameters\n",
    "    ----------\n",
    "    json_content : str\n",
    "        The json content from the LLM response\n",
    "\n",
    "    Returns\n",
    "    -------\n",
    "    tuple[int, list[str], list[str], list[int]]\n",
    "        The status code, list of molecules, list of explanations and list of confidence scores\n",
    "    \"\"\"\n",
    "    logger = context_logger.get() if ENABLE_LOGGING else None\n",
    "    try:\n",
    "        result_list = ast.literal_eval(json_content)\n",
    "        res_molecules = result_list['data']\n",
    "        res_explanations = result_list['explanation']\n",
    "        res_confidence = result_list['confidence_scores']\n",
    "    except Exception as e:\n",
    "        logger.info(f\"Error in parsing response: {e}\")\n",
    "        return 504, [], [], []\n",
    "    return 200, res_molecules, res_explanations, res_confidence\n",
    "\n",
    "\n",
    "def llm_pipeline(\n",
    "    molecule: str,\n",
    "    LLM: str = \"claude-3-opus-20240229\",\n",
    "    messages: Optional[list[dict]] = None\n",
    ") -> tuple[list[list[str]], list[str], list[float]]:\n",
    "    \"\"\"Pipeline to call LLM and validate the results\n",
    "\n",
    "    Parameters\n",
    "    ----------\n",
    "    molecule : str\n",
    "        The target molecule for retrosynthesis\n",
    "    LLM : str, optional\n",
    "        LLM to be used for retrosynthesis , by default \"claude-3-opus-20240229\"\n",
    "    messages : Optional[list[dict]], optional\n",
    "        Conversation history, by default None\n",
    "\n",
    "    Returns\n",
    "    -------\n",
    "    tuple[list[list[str]], list[str], list[float]]\n",
    "        The output pathways, explanations and confidence scores\n",
    "    \"\"\"\n",
    "    logger = context_logger.get() if ENABLE_LOGGING else None\n",
    "    output_pathways: list[list[str]] = []\n",
    "    output_explanations: list[str] = []\n",
    "    output_confidence: list[float] = []\n",
    "    run = 0.0\n",
    "    while (output_pathways == [] and run < 0.6):\n",
    "        log_message(f\"Calling LLM with molecule: {molecule} and run: {run}\",\n",
    "                    logger)\n",
    "\n",
    "        # Selecting the model based on the run number\n",
    "        current_model = LLM\n",
    "        if LLM in DEEPSEEK_MODELS and run > 0.0:\n",
    "            current_model = \"claude-3-opus-20240229\"  # NOTE: if we are going use deepseek model why set it to claude-3-opus-20240229\n",
    "\n",
    "        # --------------------\n",
    "        # Call LLM\n",
    "        status_code, res_text = call_LLM(molecule,\n",
    "                                         current_model,\n",
    "                                         messages=messages,\n",
    "                                         temperature=run)\n",
    "        if status_code != 200:\n",
    "            log_message(f\"Error in calling LLM: {res_text}\", logger)\n",
    "            run += 0.1\n",
    "            get_error_log(status_code)\n",
    "            continue\n",
    "\n",
    "        # --------------------\n",
    "        # Split the response text\n",
    "        status_code, thinking_steps, json_content = split_json_master(\n",
    "            res_text, current_model)\n",
    "        if status_code != 200:\n",
    "            log_message(f\"Error in splitting cot json: {res_text}\", logger)\n",
    "            run += 0.1\n",
    "            get_error_log(status_code)\n",
    "            continue\n",
    "\n",
    "        # --------------------\n",
    "        # Validate the split json content\n",
    "        status_code, res_molecules, res_explanations, res_confidence = validate_split_json(\n",
    "            json_content)\n",
    "        if status_code != 200:\n",
    "            log_message(f\"Error in validating split json content: {res_text}\",\n",
    "                        logger)\n",
    "            run += 0.1\n",
    "            get_error_log(status_code)\n",
    "            continue\n",
    "\n",
    "        # --------------------\n",
    "        # Check the validity of the molecules obtained from LLM\n",
    "        output_pathways, output_explanations, output_confidence = validity_check(\n",
    "            molecule, res_molecules, res_explanations, res_confidence)\n",
    "        log_message(\n",
    "            f\"Output Pathways: {output_pathways},\\n\\\n",
    "                Output Explanations: {output_explanations},\\n\\\n",
    "                    Output Confidence: {output_confidence}\", logger)\n",
    "        run += 0.1\n",
    "\n",
    "    return output_pathways, output_explanations, output_confidence\n",
    "\n",
    "def get_error_log(status_code: int) -> str:\n",
    "    \"\"\"Prints error message based on the status code.\n",
    "\n",
    "    Parameters\n",
    "    ----------\n",
    "    status_code : int\n",
    "        Status Code\n",
    "\n",
    "    Returns\n",
    "    -------\n",
    "    str\n",
    "        Error message associated with the status code.\n",
    "    \"\"\"\n",
    "    if status_code in ERROR_MAP:\n",
    "        description = ERROR_MAP[status_code]\n",
    "        print(f\"Error Code: {status_code},\\n Description: {description}\")\n",
    "    else:\n",
    "        print(f\"Error Code: {status_code} is not recognized.\")\n",
    "\n",
    "def check_empty_content(content: any) -> bool:\n",
    "    \"\"\"Check if the json content is empty or not\n",
    "\n",
    "    Parameters\n",
    "    ----------\n",
    "    content : any\n",
    "        The json content from the OpenAI model\n",
    "\n",
    "    Returns\n",
    "    -------\n",
    "    bool\n",
    "        True if the json content is not empty, False otherwise\n",
    "    \"\"\"\n",
    "    return not content"
   ]
  },
  {
   "cell_type": "markdown",
   "metadata": {},
   "source": [
    "## utils_molecule.py"
   ]
  },
  {
   "cell_type": "code",
   "execution_count": 4,
   "metadata": {},
   "outputs": [],
   "source": [
    "import os\n",
    "from rdkit import Chem\n",
    "from rdkit.Chem import AllChem, rdMolDescriptors\n",
    "from rdkit.Chem.rdMolDescriptors import CalcMolFormula\n",
    "from rdkit.Chem.Descriptors import ExactMolWt\n",
    "\n",
    "import joblib\n",
    "import rootutils\n",
    "from src.variables import REACTION_ENCODING_NAMES, ENCODING_SCALABILITY\n",
    "from src.cache import cache_results\n",
    "from src.utils.job_context import logger as context_logger\n",
    "\n",
    "root_dir = rootutils.setup_root(\".\", # __file__,\n",
    "                                indicator=\".project-root\",\n",
    "                                pythonpath=True)\n",
    "\n",
    "RXN_CLASSIFICATION_MODEL_PATH = f\"{root_dir}/{os.getenv('RXN_CLASSIFICATION_MODEL_PATH')}\"\n",
    "ENABLE_LOGGING = False if os.getenv(\"ENABLE_LOGGING\",\n",
    "                                    \"true\").lower() == \"false\" else True\n",
    "\n",
    "\n",
    "def log_message(message: str, logger=None):\n",
    "    \"\"\"Log the message\"\"\"\n",
    "    if logger is not None:\n",
    "        log_message(message)\n",
    "    else:\n",
    "        print(message)\n",
    "\n",
    "\n",
    "def is_valid_smiles(smiles: str) -> bool:\n",
    "    \"\"\"Check if the SMILES string is valid\n",
    "\n",
    "    Parameters\n",
    "    ----------\n",
    "    smiles : str\n",
    "        smiles string\n",
    "\n",
    "    Returns\n",
    "    -------\n",
    "    bool\n",
    "        True if the smiles is valid, False otherwise\n",
    "    \"\"\"\n",
    "    try:\n",
    "        mol = Chem.MolFromSmiles(smiles)\n",
    "    except:\n",
    "        return False\n",
    "    if mol is None:\n",
    "        return False\n",
    "    return True\n",
    "\n",
    "\n",
    "def substructure_matching(target_smiles: str, query_smiles: str) -> int:\n",
    "    \"\"\"Check if the query substructure is present in the target molecule\n",
    "\n",
    "    Parameters\n",
    "    ----------\n",
    "    target_smiles : str\n",
    "        SMILES string of the target molecule\n",
    "    query_smiles : str\n",
    "        SMILES string of the query molecule\n",
    "\n",
    "    Returns\n",
    "    -------\n",
    "    int\n",
    "        1 if the query substructure is present in the target molecule, 0 otherwise\n",
    "    \"\"\"\n",
    "    logger = context_logger.get() if ENABLE_LOGGING else None\n",
    "\n",
    "    # Convert SMILES to RDKit molecule objects\n",
    "    try:\n",
    "        target_molecule = Chem.MolFromSmiles(target_smiles)\n",
    "    except:\n",
    "        log_message(f\"Error in parsing target molecule: {target_smiles}\",\n",
    "                    logger)\n",
    "\n",
    "    try:\n",
    "        query_molecule = Chem.MolFromSmiles(query_smiles)\n",
    "    except:\n",
    "        log_message(f\"Error in parsing query molecule: {query_smiles}\", logger)\n",
    "\n",
    "    # Check if the query substructure is present in the target molecule\n",
    "    try:\n",
    "        if target_molecule.HasSubstructMatch(query_molecule):\n",
    "            return 1\n",
    "        else:\n",
    "            return 0\n",
    "    except:\n",
    "        return 0\n",
    "\n",
    "\n",
    "@cache_results\n",
    "def validity_check(molecule, res_molecules, res_explanations, res_confidence):\n",
    "    \"\"\"Check the validity of the molecules obtained from LLM\n",
    "\n",
    "    Parameters\n",
    "    ----------\n",
    "    molecule : str\n",
    "        Target molecule for retrosynthesis\n",
    "    res_molecules : list\n",
    "        List of molecules obtained from LLM\n",
    "    res_explanations : list\n",
    "        List of explanations obtained from LLM\n",
    "    res_confidence : list\n",
    "        List of confidence scores obtained from LLM\n",
    "\n",
    "    Returns\n",
    "    -------\n",
    "    list\n",
    "        List of valid pathways\n",
    "    list\n",
    "        List of valid explanations\n",
    "    list\n",
    "        List of valid confidence scores\n",
    "    \"\"\"\n",
    "    logger = context_logger.get() if ENABLE_LOGGING else None\n",
    "    valid_pathways = []\n",
    "    valid_explanations = []\n",
    "    valid_confidence = []\n",
    "    for idx, smile_list in enumerate(res_molecules):\n",
    "        valid = []\n",
    "        if isinstance(smile_list, list):\n",
    "            for smiles in smile_list:\n",
    "                if is_valid_smiles(smiles):\n",
    "                    if are_molecules_same(molecule, smiles):\n",
    "                        log_message(\n",
    "                            f\"Molecule : {molecule} is same as target molecule\",\n",
    "                            logger)\n",
    "                    elif substructure_matching(smiles, molecule):\n",
    "                        log_message(\n",
    "                            f\"Molecule : {molecule} is substructure of target molecule\",\n",
    "                            logger)\n",
    "                    else:\n",
    "                        valid.append(smiles)\n",
    "                else:\n",
    "                    log_message(\n",
    "                        f\"Molecule : {molecule} is invalid or cannot be parsed\",\n",
    "                        logger)\n",
    "            if len(valid) >= 2:\n",
    "                valid_pathways.append(valid)\n",
    "                valid_explanations.append(res_explanations[idx])\n",
    "                valid_confidence.append(res_confidence[idx])\n",
    "        else:\n",
    "            if is_valid_smiles(smile_list):\n",
    "                if are_molecules_same(molecule, smiles):\n",
    "                    log_message(\"Molecule is same as target molecule\", logger)\n",
    "                elif substructure_matching(smiles, molecule):\n",
    "                    log_message(\n",
    "                        f\"Molecule : {molecule} is substructure of target molecule {smiles}\",\n",
    "                        logger)\n",
    "                else:\n",
    "                    valid_pathways.append([smile_list])\n",
    "                    valid_explanations.append(res_explanations[idx])\n",
    "                    valid_confidence.append(res_confidence[idx])\n",
    "            else:\n",
    "                log_message(\"Molecule is invalid or cannot be parsed\", logger)\n",
    "    log_message(\n",
    "        f\"Obtained {len(valid_pathways)} valid pathways after validity test: {valid_pathways}\",\n",
    "        logger)\n",
    "    return valid_pathways, valid_explanations, valid_confidence\n",
    "\n",
    "\n",
    "def calc_mol_wt(mol: str) -> float:\n",
    "    \"\"\"Calculate the molecular weight of a molecule\n",
    "\n",
    "    Parameters\n",
    "    ----------\n",
    "    mol : str\n",
    "        SMILES string of the molecule\n",
    "\n",
    "    Returns\n",
    "    -------\n",
    "    float\n",
    "        molecular weight of the molecule\n",
    "    \"\"\"\n",
    "    logger = context_logger.get() if ENABLE_LOGGING else None\n",
    "    try:\n",
    "        mol_wt = ExactMolWt(Chem.MolFromSmiles(mol))\n",
    "    except:\n",
    "        mol_wt = 0.0\n",
    "        log_message(f\"Error in calculating molecular weight: {mol}\", logger)\n",
    "    return mol_wt\n",
    "\n",
    "\n",
    "def calc_chemical_formula(mol: str):\n",
    "    \"\"\"Calculate the chemical formula of a molecule\n",
    "\n",
    "    Parameters\n",
    "    ----------\n",
    "    mol : str\n",
    "        SMILES string of the molecule\n",
    "\n",
    "    Returns\n",
    "    -------\n",
    "    str\n",
    "        molecular formula of the molecule\n",
    "    \"\"\"\n",
    "    logger = context_logger.get() if ENABLE_LOGGING else None\n",
    "    try:\n",
    "        formula = CalcMolFormula(Chem.MolFromSmiles(mol))\n",
    "    except:\n",
    "        formula = \"N/A\"\n",
    "        log_message(f\"Error in calculating formula: {mol}\", logger)\n",
    "    return formula\n",
    "\n",
    "\n",
    "def are_molecules_same(smiles1: str, smiles2: str) -> bool:\n",
    "    # Convert SMILES strings to RDKit molecule objects\n",
    "    mol1 = Chem.MolFromSmiles(smiles1)\n",
    "    mol2 = Chem.MolFromSmiles(smiles2)\n",
    "\n",
    "    if mol1 is None or mol2 is None:\n",
    "        raise ValueError(\"Invalid SMILES string provided.\")\n",
    "\n",
    "    # Get canonical SMILES for both molecules\n",
    "    canonical_smiles1 = Chem.MolToSmiles(mol1, canonical=True)\n",
    "    canonical_smiles2 = Chem.MolToSmiles(mol2, canonical=True)\n",
    "\n",
    "    # Alternatively, compare molecular fingerprints\n",
    "    fingerprint1 = rdMolDescriptors.GetMorganFingerprintAsBitVect(mol1,\n",
    "                                                                  radius=2,\n",
    "                                                                  nBits=1024)\n",
    "    fingerprint2 = rdMolDescriptors.GetMorganFingerprintAsBitVect(mol2,\n",
    "                                                                  radius=2,\n",
    "                                                                  nBits=1024)\n",
    "\n",
    "    # Check if canonical SMILES or fingerprints match\n",
    "    if canonical_smiles1 == canonical_smiles2:\n",
    "        return True\n",
    "    elif fingerprint1 == fingerprint2:\n",
    "        return True\n",
    "    else:\n",
    "        return False\n",
    "\n",
    "\n",
    "def compute_fingerprint(smiles, radius=2, nBits=2048):\n",
    "    mol = Chem.MolFromSmiles(smiles)\n",
    "    if mol is None:\n",
    "        return None\n",
    "    fingerprint = AllChem.GetMorganFingerprintAsBitVect(mol,\n",
    "                                                        radius,\n",
    "                                                        nBits=nBits)\n",
    "    return list(fingerprint)\n",
    "\n",
    "\n",
    "def sub_structure_matching(target_smiles: str, query_smiles: str) -> bool:\n",
    "    \"\"\"Check if the query substructure is present in the target molecule\"\"\"\n",
    "    target_molecule = Chem.MolFromSmiles(target_smiles)\n",
    "    query_molecule = Chem.MolFromSmiles(query_smiles)\n",
    "\n",
    "    if target_molecule.HasSubstructMatch(query_molecule):\n",
    "        return True\n",
    "    else:\n",
    "        return False\n",
    "\n",
    "\n",
    "def get_reaction_type(mol1, mol2, model_path):\n",
    "    \"\"\"Get the reaction type of a reaction\"\"\"\n",
    "    clf = joblib.load(model_path)\n",
    "    mol1_fingerprint = compute_fingerprint(mol1)\n",
    "    mol2_fingerprint = compute_fingerprint(mol2)\n",
    "    reaction_type = clf.predict([mol1_fingerprint + mol2_fingerprint])\n",
    "    return REACTION_ENCODING_NAMES[reaction_type[0]], reaction_type[0]\n",
    "\n",
    "\n",
    "def calc_confidence_estimate(probability: float) -> float:\n",
    "    \"\"\"Calculate the confidence estimate based on the probability\n",
    "\n",
    "    Parameters\n",
    "    ----------\n",
    "    probability : float\n",
    "        Probability of the prediction\n",
    "\n",
    "    Returns\n",
    "    -------\n",
    "    float\n",
    "        Confidence estimate\n",
    "    \"\"\"\n",
    "    if isinstance(probability, list):\n",
    "        probability = probability[0]\n",
    "    if probability < 0.3:\n",
    "        probability = 1 - probability\n",
    "    elif probability < 0.45 and probability >= 0.3:\n",
    "        probability += 0.5\n",
    "    elif probability < 0.6 and probability >= 0.45:\n",
    "        probability += 0.3\n",
    "\n",
    "    # limit the confidence estimate to 2 decimal places, round to the\n",
    "    # nearest 0.01\n",
    "    probability = round(probability, 2)\n",
    "    if probability > 0.99:\n",
    "        probability = 0.99\n",
    "    return probability\n",
    "\n",
    "\n",
    "def calc_scalability_index(mol1, mol2):\n",
    "    \"\"\"Calculate the scalability index of a reaction\"\"\"\n",
    "    _, type = get_reaction_type(mol1, mol2, RXN_CLASSIFICATION_MODEL_PATH)\n",
    "    return str(ENCODING_SCALABILITY[type])\n",
    "\n",
    "\n",
    "def calc_yield(mol1, mol2):\n",
    "    \"\"\"Calculate the yield of a reaction\"\"\"\n",
    "    return \"#\"\n",
    "\n",
    "\n",
    "def detect_seven_member_rings(smiles) -> bool:\n",
    "    \"\"\"\n",
    "    Detects 7-member rings in a molecule given its SMILES string.\n",
    "\n",
    "    Parameters\n",
    "    ----------\n",
    "    smiles : str\n",
    "        SMILES string of the molecule.\n",
    "\n",
    "    Returns\n",
    "    -------\n",
    "    bool\n",
    "        True if 7-member rings are present, False otherwise.\n",
    "    \"\"\"\n",
    "    mol = Chem.MolFromSmiles(smiles)\n",
    "    if mol is None:\n",
    "        raise ValueError(\"Invalid SMILES string provided.\")\n",
    "\n",
    "    # Retrieve ring information as tuples of atom indices.\n",
    "    ring_info = mol.GetRingInfo()\n",
    "    atom_rings = ring_info.AtomRings()\n",
    "\n",
    "    # Filter rings by the number of atoms.\n",
    "    rings_7 = [ring for ring in atom_rings if len(ring) == 7]\n",
    "\n",
    "    if len(rings_7) > 0:\n",
    "        return True\n",
    "    return False\n",
    "\n",
    "\n",
    "def detect_eight_member_rings(smiles) -> bool:\n",
    "    \"\"\"\n",
    "    Detects 8-member rings in a molecule given its SMILES string.\n",
    "\n",
    "    Parameters\n",
    "    ----------\n",
    "    smiles : str\n",
    "        SMILES string of the molecule.\n",
    "\n",
    "    Returns\n",
    "    -------\n",
    "    bool\n",
    "        True if 8-member rings are present, False otherwise.\n",
    "    \"\"\"\n",
    "    mol = Chem.MolFromSmiles(smiles)\n",
    "    if mol is None:\n",
    "        raise ValueError(\"Invalid SMILES string provided.\")\n",
    "\n",
    "    # Retrieve ring information as tuples of atom indices.\n",
    "    ring_info = mol.GetRingInfo()\n",
    "    atom_rings = ring_info.AtomRings()\n",
    "\n",
    "    # Filter rings by the number of atoms.\n",
    "    rings_8 = [ring for ring in atom_rings if len(ring) == 8]\n",
    "\n",
    "    if len(rings_8) > 0:\n",
    "        return True\n",
    "    return False"
   ]
  },
  {
   "cell_type": "markdown",
   "metadata": {},
   "source": [
    "### 200 test"
   ]
  },
  {
   "cell_type": "markdown",
   "metadata": {},
   "source": [
    "#### correct molecule"
   ]
  },
  {
   "cell_type": "code",
   "execution_count": 78,
   "metadata": {},
   "outputs": [],
   "source": [
    "status_code, res_text = call_LLM(molecule=\"CC(=O)CC\")"
   ]
  },
  {
   "cell_type": "code",
   "execution_count": 79,
   "metadata": {},
   "outputs": [
    {
     "data": {
      "text/plain": [
       "(200,\n",
       " 'Here is the single-step retrosynthesis analysis for the molecule CC(=O)CC:\\n\\n<cot>\\n<thinking>\\nThe target molecule CC(=O)CC contains a ketone functional group. Possible retrosynthetic disconnections to consider are:\\n1) Disconnection of the C-C bond adjacent to the ketone, which could arise from an aldol condensation reaction.\\n2) Disconnection of the C-C bond on the other side of the ketone, which could come from a Grignard addition to a carboxylic acid derivative like an ester.\\n3) Reduction of the ketone to an alcohol, which could then be derived from an oxidation of the corresponding secondary alcohol.\\n</thinking>\\n\\n<thinking>\\nFor the aldol disconnection, the precursors would be acetone (CC(=O)C) and acetaldehyde (CC=O). The reaction would proceed via enolate formation of the acetone, followed by nucleophilic addition to the acetaldehyde. A subsequent dehydration step would give the α,β-unsaturated ketone product.\\n</thinking>\\n\\n<thinking>\\nFor the Grignard addition, the precursors would be propanoyl chloride (CCC(=O)Cl) and methylmagnesium bromide (CMgBr). The Grignard reagent would add to the carbonyl, followed by an acidic workup to give the final ketone product.  \\n</thinking>\\n\\n<thinking>\\nFor the alcohol reduction, the precursor would be butan-2-ol (CC(O)CC). Oxidation, potentially using a chromium reagent like pyridinium chlorochromate (PCC) or a Swern oxidation, would convert the secondary alcohol to the ketone.\\n</thinking>\\n\\n</cot>\\n\\n<json>\\n{\\n  \"data\": [\\n    [\"CC(=O)C\", \"CC=O\"],\\n    [\"CCC(=O)Cl\", \"CMgBr\"],\\n    [\"CC(O)CC\"]\\n  ],\\n  \"explanation\": [\\n    \"Aldol condensation of acetone and acetaldehyde, proceeding via enolate formation, nucleophilic addition, and dehydration\",\\n    \"Grignard addition of methylmagnesium bromide to propanoyl chloride, followed by acidic workup\",\\n    \"Oxidation of butan-2-ol, e.g. using PCC or Swern conditions\"\\n  ],\\n  \"confidence_scores\": [\\n    0.9,\\n    0.7,\\n    0.8\\n  ]\\n}\\n</json>')"
      ]
     },
     "execution_count": 79,
     "metadata": {},
     "output_type": "execute_result"
    }
   ],
   "source": [
    "status_code, res_text"
   ]
  },
  {
   "cell_type": "markdown",
   "metadata": {},
   "source": [
    "### 400 test: call_LLM()"
   ]
  },
  {
   "cell_type": "markdown",
   "metadata": {},
   "source": [
    "#### wrong molecule"
   ]
  },
  {
   "cell_type": "code",
   "execution_count": 80,
   "metadata": {},
   "outputs": [],
   "source": [
    "molecule_F = \"CC(=O)CkcncnC\""
   ]
  },
  {
   "cell_type": "code",
   "execution_count": 81,
   "metadata": {},
   "outputs": [
    {
     "name": "stdout",
     "output_type": "stream",
     "text": [
      "Calling claude-3-opus-20240229 with molecule: CC(=O)CkcncnC\n"
     ]
    },
    {
     "name": "stderr",
     "output_type": "stream",
     "text": [
      "[21:56:23] SMILES Parse Error: syntax error while parsing: CC(=O)CkcncnC\n",
      "[21:56:23] SMILES Parse Error: Failed parsing SMILES 'CC(=O)CkcncnC' for input: 'CC(=O)CkcncnC'\n"
     ]
    },
    {
     "ename": "ValueError",
     "evalue": "Invalid SMILES string provided.",
     "output_type": "error",
     "traceback": [
      "\u001b[1;31m---------------------------------------------------------------------------\u001b[0m",
      "\u001b[1;31mValueError\u001b[0m                                Traceback (most recent call last)",
      "Cell \u001b[1;32mIn[81], line 1\u001b[0m\n\u001b[1;32m----> 1\u001b[0m status_code, res_text \u001b[38;5;241m=\u001b[39m \u001b[43mcall_LLM\u001b[49m\u001b[43m(\u001b[49m\u001b[43mmolecule\u001b[49m\u001b[38;5;241;43m=\u001b[39;49m\u001b[43mmolecule_F\u001b[49m\u001b[43m)\u001b[49m\n",
      "File \u001b[1;32m~\\git_workspace\\recursiveLLM\\src\\cache.py:44\u001b[0m, in \u001b[0;36mcache_results.<locals>.wrapper\u001b[1;34m(*args, **kwargs)\u001b[0m\n\u001b[0;32m     42\u001b[0m     \u001b[38;5;28;01mreturn\u001b[39;00m cache[cache_key][\u001b[38;5;124m'\u001b[39m\u001b[38;5;124mresult\u001b[39m\u001b[38;5;124m'\u001b[39m]\n\u001b[0;32m     43\u001b[0m \u001b[38;5;28;01melse\u001b[39;00m:\n\u001b[1;32m---> 44\u001b[0m     result \u001b[38;5;241m=\u001b[39m func(\u001b[38;5;241m*\u001b[39margs, \u001b[38;5;241m*\u001b[39m\u001b[38;5;241m*\u001b[39mkwargs)\n\u001b[0;32m     45\u001b[0m     cache[cache_key] \u001b[38;5;241m=\u001b[39m {\u001b[38;5;124m'\u001b[39m\u001b[38;5;124mresult\u001b[39m\u001b[38;5;124m'\u001b[39m: result, \u001b[38;5;124m'\u001b[39m\u001b[38;5;124minput_args\u001b[39m\u001b[38;5;124m'\u001b[39m: arg_string}\n\u001b[0;32m     46\u001b[0m     \u001b[38;5;28;01mreturn\u001b[39;00m result\n",
      "Cell \u001b[1;32mIn[76], line 129\u001b[0m, in \u001b[0;36mcall_LLM\u001b[1;34m(molecule, LLM, temperature, messages)\u001b[0m\n\u001b[0;32m    126\u001b[0m logger \u001b[38;5;241m=\u001b[39m context_logger\u001b[38;5;241m.\u001b[39mget() \u001b[38;5;28;01mif\u001b[39;00m ENABLE_LOGGING \u001b[38;5;28;01melse\u001b[39;00m \u001b[38;5;28;01mNone\u001b[39;00m\n\u001b[0;32m    127\u001b[0m log_message(\u001b[38;5;124mf\u001b[39m\u001b[38;5;124m\"\u001b[39m\u001b[38;5;124mCalling \u001b[39m\u001b[38;5;132;01m{\u001b[39;00mLLM\u001b[38;5;132;01m}\u001b[39;00m\u001b[38;5;124m with molecule: \u001b[39m\u001b[38;5;132;01m{\u001b[39;00mmolecule\u001b[38;5;132;01m}\u001b[39;00m\u001b[38;5;124m\"\u001b[39m, logger)\n\u001b[1;32m--> 129\u001b[0m \u001b[38;5;28;01mif\u001b[39;00m \u001b[43mdetect_seven_member_rings\u001b[49m\u001b[43m(\u001b[49m\u001b[43mmolecule\u001b[49m\u001b[43m)\u001b[49m:\n\u001b[0;32m    130\u001b[0m     log_message(\u001b[38;5;124mf\u001b[39m\u001b[38;5;124m\"\u001b[39m\u001b[38;5;124mDetected seven member ring in molecule: \u001b[39m\u001b[38;5;132;01m{\u001b[39;00mmolecule\u001b[38;5;132;01m}\u001b[39;00m\u001b[38;5;124m\"\u001b[39m,\n\u001b[0;32m    131\u001b[0m                 logger)\n\u001b[0;32m    132\u001b[0m     add_on \u001b[38;5;241m=\u001b[39m ADDON_PROMPT_7_MEMBER\n",
      "Cell \u001b[1;32mIn[77], line 322\u001b[0m, in \u001b[0;36mdetect_seven_member_rings\u001b[1;34m(smiles)\u001b[0m\n\u001b[0;32m    320\u001b[0m mol \u001b[38;5;241m=\u001b[39m Chem\u001b[38;5;241m.\u001b[39mMolFromSmiles(smiles)\n\u001b[0;32m    321\u001b[0m \u001b[38;5;28;01mif\u001b[39;00m mol \u001b[38;5;129;01mis\u001b[39;00m \u001b[38;5;28;01mNone\u001b[39;00m:\n\u001b[1;32m--> 322\u001b[0m     \u001b[38;5;28;01mraise\u001b[39;00m \u001b[38;5;167;01mValueError\u001b[39;00m(\u001b[38;5;124m\"\u001b[39m\u001b[38;5;124mInvalid SMILES string provided.\u001b[39m\u001b[38;5;124m\"\u001b[39m)\n\u001b[0;32m    324\u001b[0m \u001b[38;5;66;03m# Retrieve ring information as tuples of atom indices.\u001b[39;00m\n\u001b[0;32m    325\u001b[0m ring_info \u001b[38;5;241m=\u001b[39m mol\u001b[38;5;241m.\u001b[39mGetRingInfo()\n",
      "\u001b[1;31mValueError\u001b[0m: Invalid SMILES string provided."
     ]
    }
   ],
   "source": [
    "status_code, res_text = call_LLM(molecule=molecule_F)"
   ]
  },
  {
   "cell_type": "markdown",
   "metadata": {},
   "source": [
    "### 501 test: split_cot_json()"
   ]
  },
  {
   "cell_type": "markdown",
   "metadata": {},
   "source": [
    "#### valid test"
   ]
  },
  {
   "cell_type": "code",
   "execution_count": 82,
   "metadata": {},
   "outputs": [],
   "source": [
    "status_code, res_text = call_LLM(molecule=\"CC(=O)CC\")"
   ]
  },
  {
   "cell_type": "code",
   "execution_count": 83,
   "metadata": {},
   "outputs": [
    {
     "data": {
      "text/plain": [
       "'Here is the single-step retrosynthesis analysis for the molecule CC(=O)CC:\\n\\n<cot>\\n<thinking>\\nThe target molecule CC(=O)CC contains a ketone functional group. Possible retrosynthetic disconnections to consider are:\\n1) Disconnection of the C-C bond adjacent to the ketone, which could arise from an aldol condensation reaction.\\n2) Disconnection of the C-C bond on the other side of the ketone, which could come from a Grignard addition to a carboxylic acid derivative like an ester.\\n3) Reduction of the ketone to an alcohol, which could then be derived from an oxidation of the corresponding secondary alcohol.\\n</thinking>\\n\\n<thinking>\\nFor the aldol disconnection, the precursors would be acetone (CC(=O)C) and acetaldehyde (CC=O). The reaction would proceed via enolate formation of the acetone, followed by nucleophilic addition to the acetaldehyde. A subsequent dehydration step would give the α,β-unsaturated ketone product.\\n</thinking>\\n\\n<thinking>\\nFor the Grignard addition, the precursors would be propanoyl chloride (CCC(=O)Cl) and methylmagnesium bromide (CMgBr). The Grignard reagent would add to the carbonyl, followed by an acidic workup to give the final ketone product.  \\n</thinking>\\n\\n<thinking>\\nFor the alcohol reduction, the precursor would be butan-2-ol (CC(O)CC). Oxidation, potentially using a chromium reagent like pyridinium chlorochromate (PCC) or a Swern oxidation, would convert the secondary alcohol to the ketone.\\n</thinking>\\n\\n</cot>\\n\\n<json>\\n{\\n  \"data\": [\\n    [\"CC(=O)C\", \"CC=O\"],\\n    [\"CCC(=O)Cl\", \"CMgBr\"],\\n    [\"CC(O)CC\"]\\n  ],\\n  \"explanation\": [\\n    \"Aldol condensation of acetone and acetaldehyde, proceeding via enolate formation, nucleophilic addition, and dehydration\",\\n    \"Grignard addition of methylmagnesium bromide to propanoyl chloride, followed by acidic workup\",\\n    \"Oxidation of butan-2-ol, e.g. using PCC or Swern conditions\"\\n  ],\\n  \"confidence_scores\": [\\n    0.9,\\n    0.7,\\n    0.8\\n  ]\\n}\\n</json>'"
      ]
     },
     "execution_count": 83,
     "metadata": {},
     "output_type": "execute_result"
    }
   ],
   "source": [
    "res_text"
   ]
  },
  {
   "cell_type": "code",
   "execution_count": null,
   "metadata": {},
   "outputs": [],
   "source": [
    "res_text_valid = 'Here is the single-step retrosynthesis analysis for the molecule CC(=O)CC:\\n\\n<cot>\\n<thinking>\\nThe target molecule CC(=O)CC contains a ketone functional group. Possible retrosynthetic disconnections to consider are:\\n1) Disconnection of the C-C bond adjacent to the ketone, which could arise from an aldol condensation reaction.\\n2) Disconnection of the C-C bond on the other side of the ketone, which could come from a Grignard addition to a carboxylic acid derivative like an ester.\\n3) Reduction of the ketone to an alcohol, which could then be derived from an oxidation of the corresponding secondary alcohol.\\n</thinking>\\n\\n<thinking>\\nFor the aldol disconnection, the precursors would be acetone (CC(=O)C) and acetaldehyde (CC=O). The reaction would proceed via enolate formation of the acetone, followed by nucleophilic addition to the acetaldehyde. A subsequent dehydration step would give the α,β-unsaturated ketone product.\\n</thinking>\\n\\n<thinking>\\nFor the Grignard addition, the precursors would be propanoyl chloride (CCC(=O)Cl) and methylmagnesium bromide (CMgBr). The Grignard reagent would add to the carbonyl, followed by an acidic workup to give the final ketone product.  \\n</thinking>\\n\\n<thinking>\\nFor the alcohol reduction, the precursor would be butan-2-ol (CC(O)CC). Oxidation, potentially using a chromium reagent like pyridinium chlorochromate (PCC) or a Swern oxidation, would convert the secondary alcohol to the ketone.\\n</thinking>\\n\\n</cot>\\n\\n<json>\\n{\\n  \"data\": [\\n    [\"CC(=O)C\", \"CC=O\"],\\n    [\"CCC(=O)Cl\", \"CMgBr\"],\\n    [\"CC(O)CC\"]\\n  ],\\n  \"explanation\": [\\n    \"Aldol condensation of acetone and acetaldehyde, proceeding via enolate formation, nucleophilic addition, and dehydration\",\\n    \"Grignard addition of methylmagnesium bromide to propanoyl chloride, followed by acidic workup\",\\n    \"Oxidation of butan-2-ol, e.g. using PCC or Swern conditions\"\\n  ],\\n  \"confidence_scores\": [\\n    0.9,\\n    0.7,\\n    0.8\\n  ]\\n}\\n</json>'"
   ]
  },
  {
   "cell_type": "code",
   "execution_count": 85,
   "metadata": {},
   "outputs": [],
   "source": [
    "status_code, thinking_steps, json_content = split_cot_json(res_text_valid)"
   ]
  },
  {
   "cell_type": "code",
   "execution_count": 86,
   "metadata": {},
   "outputs": [
    {
     "data": {
      "text/plain": [
       "(200,\n",
       " ['>\\nThe target molecule CC(=O)CC contains a ketone functional group. Possible retrosynthetic disconnections to consider are:\\n1) Disconnection of the C-C bond adjacent to the ketone, which could arise from an aldol condensation reaction.\\n2) Disconnection of the C-C bond on the other side of the ketone, which could come from a Grignard addition to a carboxylic acid derivative like an ester.\\n3) Reduction of the ketone to an alcohol, which could then be derived from an oxidation of the corresponding secondary alcohol.\\n',\n",
       "  '>\\nFor the aldol disconnection, the precursors would be acetone (CC(=O)C) and acetaldehyde (CC=O). The reaction would proceed via enolate formation of the acetone, followed by nucleophilic addition to the acetaldehyde. A subsequent dehydration step would give the α,β-unsaturated ketone product.\\n',\n",
       "  '>\\nFor the Grignard addition, the precursors would be propanoyl chloride (CCC(=O)Cl) and methylmagnesium bromide (CMgBr). The Grignard reagent would add to the carbonyl, followed by an acidic workup to give the final ketone product.  \\n',\n",
       "  '>\\nFor the alcohol reduction, the precursor would be butan-2-ol (CC(O)CC). Oxidation, potentially using a chromium reagent like pyridinium chlorochromate (PCC) or a Swern oxidation, would convert the secondary alcohol to the ketone.\\n'],\n",
       " '{\\n  \"data\": [\\n    [\"CC(=O)C\", \"CC=O\"],\\n    [\"CCC(=O)Cl\", \"CMgBr\"],\\n    [\"CC(O)CC\"]\\n  ],\\n  \"explanation\": [\\n    \"Aldol condensation of acetone and acetaldehyde, proceeding via enolate formation, nucleophilic addition, and dehydration\",\\n    \"Grignard addition of methylmagnesium bromide to propanoyl chloride, followed by acidic workup\",\\n    \"Oxidation of butan-2-ol, e.g. using PCC or Swern conditions\"\\n  ],\\n  \"confidence_scores\": [\\n    0.9,\\n    0.7,\\n    0.8\\n  ]\\n}\\n')"
      ]
     },
     "execution_count": 86,
     "metadata": {},
     "output_type": "execute_result"
    }
   ],
   "source": [
    "status_code, thinking_steps, json_content"
   ]
  },
  {
   "cell_type": "markdown",
   "metadata": {},
   "source": [
    "#### 501"
   ]
  },
  {
   "cell_type": "code",
   "execution_count": 90,
   "metadata": {},
   "outputs": [],
   "source": [
    "blank_res_text_ = ''"
   ]
  },
  {
   "cell_type": "code",
   "execution_count": 91,
   "metadata": {},
   "outputs": [],
   "source": [
    "status_code, thinking_steps, json_content = split_cot_json(blank_res_text_)"
   ]
  },
  {
   "cell_type": "code",
   "execution_count": 92,
   "metadata": {},
   "outputs": [
    {
     "data": {
      "text/plain": [
       "(501, [], '')"
      ]
     },
     "execution_count": 92,
     "metadata": {},
     "output_type": "execute_result"
    }
   ],
   "source": [
    "status_code, thinking_steps, json_content"
   ]
  },
  {
   "cell_type": "code",
   "execution_count": 99,
   "metadata": {},
   "outputs": [],
   "source": [
    "res_text_invalid = 'Here is the single-step retrosynthesis analysis for the molecule CC(=O)CC:\\ntarget molecule CC(=O)CC contains a ketone functional group. Possible retrosynthetic disconnections to consider are:\\n1) Disconnection of the C-C bond adjacent to the ketone, which could arise from an aldol condensation reaction.\\n2) Disconnection of the C-C bond on the other side of the ketone, which could come from a Grignard addition to a carboxylic acid derivative like an ester.\\n3) Reduction ofr the aldol disconnection, the precursors would be acetone (CC(=O)C) and acetaldehyde (CC=O). The reaction would proceed via enolate formation of the acetone, followed by nucleophilic addition to the acethe Grignard addition, the precursors would be propanoyl chloride (CCC(=O)Cl) and methylmagnesium bromide (CMgBr). The Grignard reagent would add to the carbonyl, followed by an acidic workup to give the final ketone product.  \\CC(O)CC\"]\\n  ],\\n  \"explanation\": [\\n    \"Aldol condensation of acetone and acetaldehyde, proceeding via enolate formation, nucleophilic addition, and dehydration\",\\n    \"Grignard addition of methylmagnesium bromide to propanoyl chloride, followed by acidic workup\",\\n    \"Oxidation of butan-2-ol, e.g. using PCC or Swern conditions\"\\n  ],\\n  \"confidence_scores\": [\\n    0.9,\\n    0.7,\\n    0.8\\n  ]\\n}\\n</json>'"
   ]
  },
  {
   "cell_type": "code",
   "execution_count": 100,
   "metadata": {},
   "outputs": [],
   "source": [
    "status_code, thinking_steps, json_content = split_cot_json(res_text_invalid)"
   ]
  },
  {
   "cell_type": "code",
   "execution_count": 101,
   "metadata": {},
   "outputs": [
    {
     "data": {
      "text/plain": [
       "(501, [], '')"
      ]
     },
     "execution_count": 101,
     "metadata": {},
     "output_type": "execute_result"
    }
   ],
   "source": [
    "status_code, thinking_steps, json_content"
   ]
  },
  {
   "cell_type": "code",
   "execution_count": 104,
   "metadata": {},
   "outputs": [
    {
     "name": "stdout",
     "output_type": "stream",
     "text": [
      "Error Code: 502,\n",
      " Description: {'description': 'split_json_openAI() failed.'}\n"
     ]
    }
   ],
   "source": [
    "get_error_log(status_code)"
   ]
  },
  {
   "cell_type": "markdown",
   "metadata": {},
   "source": [
    "### 502 test: split_json_openAI()"
   ]
  },
  {
   "cell_type": "code",
   "execution_count": 113,
   "metadata": {},
   "outputs": [],
   "source": [
    "status_code, res_OpenAI = call_LLM(molecule=\"CC(=O)CC\", LLM=\"gpt-4o\")"
   ]
  },
  {
   "cell_type": "code",
   "execution_count": 114,
   "metadata": {},
   "outputs": [
    {
     "data": {
      "text/plain": [
       "(200,\n",
       " '```json\\n{\\n  \"data\": [\\n    [\"CC(=O)C\", \"C\"],\\n    [\"CC(=O)CCl\", \"C\"],\\n    [\"CC(=O)COH\", \"H2\"]\\n  ],\\n  \"explanation\": [\\n    \"Aldol condensation: The target molecule can be formed by the aldol condensation of acetone (CC(=O)C) with formaldehyde (C) under basic conditions.\",\\n    \"Friedel-Crafts acylation: The target molecule can be synthesized by the Friedel-Crafts acylation of acetyl chloride (CC(=O)CCl) with methane (C) using AlCl3 as a catalyst.\",\\n    \"Reduction of a ketone: The target molecule can be obtained by the reduction of 3-hydroxybutan-2-one (CC(=O)COH) using hydrogen gas (H2) and a metal catalyst such as Pd/C.\"\\n  ],\\n  \"confidence_scores\": [\\n    0.8,\\n    0.7,\\n    0.6\\n  ]\\n}\\n```')"
      ]
     },
     "execution_count": 114,
     "metadata": {},
     "output_type": "execute_result"
    }
   ],
   "source": [
    "status_code, res_OpenAI"
   ]
  },
  {
   "cell_type": "code",
   "execution_count": 120,
   "metadata": {},
   "outputs": [
    {
     "name": "stdout",
     "output_type": "stream",
     "text": [
      "```json\n",
      "{\n",
      "  \"data\": [\n",
      "    [\"CC(=O)C\", \"C\"],\n",
      "    [\"CC(=O)CCl\", \"C\"],\n",
      "    [\"CC(=O)COH\", \"H2\"]\n",
      "  ],\n",
      "  \"explanation\": [\n",
      "    \"Aldol condensation: The target molecule can be formed by the aldol condensation of acetone (CC(=O)C) with formaldehyde (C) under basic conditions.\",\n",
      "    \"Friedel-Crafts acylation: The target molecule can be synthesized by the Friedel-Crafts acylation of acetyl chloride (CC(=O)CCl) with methane (C) using AlCl3 as a catalyst.\",\n",
      "    \"Reduction of a ketone: The target molecule can be obtained by the reduction of 3-hydroxybutan-2-one (CC(=O)COH) using hydrogen gas (H2) and a metal catalyst such as Pd/C.\"\n",
      "  ],\n",
      "  \"confidence_scores\": [\n",
      "    0.8,\n",
      "    0.7,\n",
      "    0.6\n",
      "  ]\n",
      "}\n",
      "```\n"
     ]
    }
   ],
   "source": [
    "print(res_OpenAI)"
   ]
  },
  {
   "cell_type": "code",
   "execution_count": 115,
   "metadata": {},
   "outputs": [],
   "source": [
    "status_code, json_content = split_json_openAI(res_OpenAI)"
   ]
  },
  {
   "cell_type": "code",
   "execution_count": 116,
   "metadata": {},
   "outputs": [
    {
     "data": {
      "text/plain": [
       "(200,\n",
       " 'n\\n{\\n  \"data\": [\\n    [\"CC(=O)C\", \"C\"],\\n    [\"CC(=O)CCl\", \"C\"],\\n    [\"CC(=O)COH\", \"H2\"]\\n  ],\\n  \"explanation\": [\\n    \"Aldol condensation: The target molecule can be formed by the aldol condensation of acetone (CC(=O)C) with formaldehyde (C) under basic conditions.\",\\n    \"Friedel-Crafts acylation: The target molecule can be synthesized by the Friedel-Crafts acylation of acetyl chloride (CC(=O)CCl) with methane (C) using AlCl3 as a catalyst.\",\\n    \"Reduction of a ketone: The target molecule can be obtained by the reduction of 3-hydroxybutan-2-one (CC(=O)COH) using hydrogen gas (H2) and a metal catalyst such as Pd/C.\"\\n  ],\\n  \"confidence_scores\": [\\n    0.8,\\n    0.7,\\n    0.6\\n  ]\\n}\\n``')"
      ]
     },
     "execution_count": 116,
     "metadata": {},
     "output_type": "execute_result"
    }
   ],
   "source": [
    "status_code, json_content"
   ]
  },
  {
   "cell_type": "markdown",
   "metadata": {},
   "source": [
    "### 503 test: split_json_deepseek()"
   ]
  },
  {
   "cell_type": "code",
   "execution_count": 112,
   "metadata": {},
   "outputs": [
    {
     "name": "stdout",
     "output_type": "stream",
     "text": [
      "Calling azure_ai/DeepSeek-R1 with molecule: CC(=O)CC\n",
      "Advanced Prompt: False\n",
      "Received response from LLM: \n",
      "\n",
      "```json\n",
      "{\n",
      "  \"data\": [\n",
      "    [\"CC(O)CC\"],\n",
      "    [\"CC#CC\"],\n",
      "    [\"CC(Cl)(Cl)CC\"]\n",
      "  ],\n",
      "  \"explanation\": [\n",
      "    \"Oxidation of secondary alcohol (2-butanol) using an oxidizing agent like PCC or CrO₃ to form the ketone.\",\n",
      "    \"Acid-catalyzed hydration of internal alkyne (2-butyne) with HgSO₄ and H₂SO₄ to yield the ketone via Markovnikov addition.\",\n",
      "    \"Hydrolysis of geminal dihalide (2,2-dichlorobutane) under basic conditions (e.g., NaOH) to eliminate HCl and form the ketone.\"\n",
      "  ],\n",
      "  \"confidence_scores\": [\n",
      "    0.95,\n",
      "    0.85,\n",
      "    0.7\n",
      "  ]\n",
      "}\n",
      "```\n"
     ]
    }
   ],
   "source": [
    "status_code, res_deepseek = call_LLM(molecule=\"CC(=O)CC\", LLM = \"azure_ai/DeepSeek-R1\")"
   ]
  },
  {
   "cell_type": "code",
   "execution_count": 117,
   "metadata": {},
   "outputs": [
    {
     "name": "stdout",
     "output_type": "stream",
     "text": [
      "\n",
      "\n",
      "```json\n",
      "{\n",
      "  \"data\": [\n",
      "    [\"CC(O)CC\"],\n",
      "    [\"CC#CC\"],\n",
      "    [\"CC(Cl)(Cl)CC\"]\n",
      "  ],\n",
      "  \"explanation\": [\n",
      "    \"Oxidation of secondary alcohol (2-butanol) using an oxidizing agent like PCC or CrO₃ to form the ketone.\",\n",
      "    \"Acid-catalyzed hydration of internal alkyne (2-butyne) with HgSO₄ and H₂SO₄ to yield the ketone via Markovnikov addition.\",\n",
      "    \"Hydrolysis of geminal dihalide (2,2-dichlorobutane) under basic conditions (e.g., NaOH) to eliminate HCl and form the ketone.\"\n",
      "  ],\n",
      "  \"confidence_scores\": [\n",
      "    0.95,\n",
      "    0.85,\n",
      "    0.7\n",
      "  ]\n",
      "}\n",
      "```\n"
     ]
    }
   ],
   "source": [
    "print(res_deepseek)"
   ]
  },
  {
   "cell_type": "code",
   "execution_count": null,
   "metadata": {},
   "outputs": [],
   "source": [
    "status_code, res_deepseek"
   ]
  },
  {
   "cell_type": "code",
   "execution_count": 118,
   "metadata": {},
   "outputs": [],
   "source": [
    "status_code, thinking_step, json_content = split_json_deepseek(res_deepseek)"
   ]
  },
  {
   "cell_type": "code",
   "execution_count": 119,
   "metadata": {},
   "outputs": [
    {
     "data": {
      "text/plain": [
       "200"
      ]
     },
     "execution_count": 119,
     "metadata": {},
     "output_type": "execute_result"
    }
   ],
   "source": [
    "status_code"
   ]
  },
  {
   "cell_type": "markdown",
   "metadata": {},
   "source": [
    "#### 503"
   ]
  },
  {
   "cell_type": "code",
   "execution_count": null,
   "metadata": {},
   "outputs": [],
   "source": [
    "invalid_res_text_deepseek = \"\"\"```json\n",
    "{\n",
    "  \"data\": [\n",
    "    [\"CC(O)CC\"],\n",
    "    [\"CC#CC\"],\n",
    "    [\"CC(Cl)(Cl)CC\"]\n",
    "  ],\n",
    "  \"explanation\": [\n",
    "    \"Oxidation of secondary alcohol (2-butanol) using an oxidizing agent like PCC or CrO₃ to form the ketone.\",\n",
    "    \"Acid-catalyzed hydration of internal alkyne (2-butyne) with HgSO₄ and H₂SO₄ to yield the ketone via Markovnikov addition.\",\n",
    "    \"Hydrolysis of geminal dihalide (2,2-dichlorobutane) under basic conditions (e.g., NaOH) to eliminate HCl and form the ketone.\"\n",
    "  ],\n",
    "  \"confidence_scores\": [\n",
    "    0.95,\n",
    "    0.85,\n",
    "    0.7\n",
    "  ]\n",
    "}\n",
    "```\"\"\"\n"
   ]
  },
  {
   "cell_type": "markdown",
   "metadata": {},
   "source": [
    "### 504 test: validate_split_json()"
   ]
  },
  {
   "cell_type": "code",
   "execution_count": null,
   "metadata": {},
   "outputs": [],
   "source": []
  },
  {
   "cell_type": "markdown",
   "metadata": {},
   "source": [
    "### 505 test: split_json_master()"
   ]
  },
  {
   "cell_type": "code",
   "execution_count": null,
   "metadata": {},
   "outputs": [],
   "source": []
  },
  {
   "cell_type": "code",
   "execution_count": 4,
   "metadata": {},
   "outputs": [],
   "source": [
    "import time\n",
    "import os\n",
    "import rootutils\n",
    "import structlog\n",
    "\n",
    "from src.utils.parse import format_output\n",
    "from src.rec_prithvi import rec_run_prithvi\n",
    "from src.utils.job_context import logger as context_logger\n",
    "from src.utils.custom_logging import add_job_specific_handler\n",
    "from src.metadata import reagent_agent, conditions_agent, literature_agent"
   ]
  },
  {
   "cell_type": "code",
   "execution_count": 5,
   "metadata": {},
   "outputs": [],
   "source": [
    "root_dir = rootutils.setup_root(\".\", indicator=\".project-root\", pythonpath=True)"
   ]
  },
  {
   "cell_type": "code",
   "execution_count": 6,
   "metadata": {},
   "outputs": [
    {
     "data": {
      "text/plain": [
       "WindowsPath('C:/Users/irahu/git_workspace/recursiveLLM')"
      ]
     },
     "execution_count": 6,
     "metadata": {},
     "output_type": "execute_result"
    }
   ],
   "source": [
    "root_dir"
   ]
  },
  {
   "cell_type": "code",
   "execution_count": null,
   "metadata": {},
   "outputs": [],
   "source": [
    "date_dir = f'{root_dir}/logs/{time.strftime(\"%Y-%m-%d\")}'"
   ]
  },
  {
   "cell_type": "code",
   "execution_count": 10,
   "metadata": {},
   "outputs": [],
   "source": [
    "\n",
    "def run_prithvi(molecule:str,\n",
    "                llm=\"claude-3-opus-20240229\") -> dict:\n",
    "    \"\"\"Run prithvi services to generate retrosynthesis on a molecule.\n",
    "\n",
    "    Parameters\n",
    "    ----------\n",
    "    molecule : str\n",
    "        SMILE String of the molecule. \n",
    "    llm : str, optional\n",
    "        LLM Model, by default \"claude-3-opus-20240229\"\n",
    "\n",
    "    Returns\n",
    "    -------\n",
    "    dict\n",
    "        Result after running prithvi.\n",
    "    \"\"\"\n",
    "\n",
    "    # Generate a unique job ID using timestamp and a random suffix\n",
    "    job_id = f\"{time.strftime('%Y%m%d_%H%M%S')}_{os.getpid()}\"\n",
    "\n",
    "    job_log_file = f\"{date_dir}/job_{job_id}.log\"  # job_log_file is not used here, should it be replaced with _\n",
    "    log = structlog.get_logger().bind(job_id=job_id)\n",
    "    # Set the logger in the context variable\n",
    "    token = context_logger.set(log)\n",
    "\n",
    "    # Add job-specific handler\n",
    "    handler = add_job_specific_handler(log, job_id)\n",
    "    # log.info(f\"Starting new synthesis job {job_id} for molecule {molecule}\")\n",
    "\n",
    "    try:\n",
    "        result_dict, _ = rec_run_prithvi(molecule, job_id, llm) # solved(bool) is not used here, so it is replaced with _\n",
    "        output_data = format_output(result_dict)\n",
    "        output_data = add_metadata(output_data)\n",
    "        return output_data\n",
    "    finally:\n",
    "        # Clean up handlers\n",
    "        # log._logger.removeHandler(handler)\n",
    "        handler.close()\n",
    "        context_logger.reset(token)\n",
    "\n",
    "\n",
    "def add_metadata(output_data: dict) -> dict:\n",
    "    \"\"\"method to add metadata to reaction metrics\n",
    "\n",
    "    Parameters\n",
    "    ----------\n",
    "    output_data : dict\n",
    "        json output without metadata\n",
    "\n",
    "    Returns\n",
    "    -------\n",
    "    dict\n",
    "        json output with metadata\n",
    "    \"\"\"\n",
    "    for idx, step in enumerate(output_data['steps']):\n",
    "        status, reagents = reagent_agent(step['reactants'], step['products'])\n",
    "        output_data['steps'][idx]['reagents'].extend(reagents)\n",
    "\n",
    "        status, conditions = conditions_agent(step['reactants'],\n",
    "                                              step['products'],\n",
    "                                              step['reagents'])\n",
    "        output_data['steps'][idx]['conditions'] = conditions\n",
    "\n",
    "        status, literature = literature_agent(step['reactants'],\n",
    "                                              step['products'],\n",
    "                                              step['reagents'],\n",
    "                                              step['conditions'])\n",
    "        output_data['steps'][idx]['reactionmetrics'][0][\n",
    "            'closestliterature'] = literature\n",
    "\n",
    "    return output_data\n"
   ]
  },
  {
   "cell_type": "code",
   "execution_count": null,
   "metadata": {},
   "outputs": [],
   "source": []
  },
  {
   "cell_type": "code",
   "execution_count": null,
   "metadata": {},
   "outputs": [],
   "source": []
  },
  {
   "cell_type": "code",
   "execution_count": 8,
   "metadata": {},
   "outputs": [],
   "source": [
    "from src.prithvi import run_prithvi, add_metadata"
   ]
  },
  {
   "cell_type": "code",
   "execution_count": 11,
   "metadata": {},
   "outputs": [
    {
     "ename": "AttributeError",
     "evalue": "'PrintLogger' object has no attribute 'addHandler'",
     "output_type": "error",
     "traceback": [
      "\u001b[1;31m---------------------------------------------------------------------------\u001b[0m",
      "\u001b[1;31mAttributeError\u001b[0m                            Traceback (most recent call last)",
      "Cell \u001b[1;32mIn[11], line 1\u001b[0m\n\u001b[1;32m----> 1\u001b[0m res_dict \u001b[38;5;241m=\u001b[39m \u001b[43mrun_prithvi\u001b[49m\u001b[43m(\u001b[49m\u001b[38;5;124;43m\"\u001b[39;49m\u001b[38;5;124;43mCC(=O)CC\u001b[39;49m\u001b[38;5;124;43m\"\u001b[39;49m\u001b[43m)\u001b[49m\n",
      "Cell \u001b[1;32mIn[10], line 27\u001b[0m, in \u001b[0;36mrun_prithvi\u001b[1;34m(molecule, llm)\u001b[0m\n\u001b[0;32m     24\u001b[0m token \u001b[38;5;241m=\u001b[39m context_logger\u001b[38;5;241m.\u001b[39mset(log)\n\u001b[0;32m     26\u001b[0m \u001b[38;5;66;03m# Add job-specific handler\u001b[39;00m\n\u001b[1;32m---> 27\u001b[0m handler \u001b[38;5;241m=\u001b[39m \u001b[43madd_job_specific_handler\u001b[49m\u001b[43m(\u001b[49m\u001b[43mlog\u001b[49m\u001b[43m,\u001b[49m\u001b[43m \u001b[49m\u001b[43mjob_id\u001b[49m\u001b[43m)\u001b[49m\n\u001b[0;32m     28\u001b[0m \u001b[38;5;66;03m# log.info(f\"Starting new synthesis job {job_id} for molecule {molecule}\")\u001b[39;00m\n\u001b[0;32m     30\u001b[0m \u001b[38;5;28;01mtry\u001b[39;00m:\n",
      "File \u001b[1;32m~\\git_workspace\\recursiveLLM\\src\\utils\\custom_logging.py:66\u001b[0m, in \u001b[0;36madd_job_specific_handler\u001b[1;34m(logger, job_id)\u001b[0m\n\u001b[0;32m     63\u001b[0m formatter \u001b[38;5;241m=\u001b[39m ProcessorFormatter(\n\u001b[0;32m     64\u001b[0m     processor\u001b[38;5;241m=\u001b[39mstructlog\u001b[38;5;241m.\u001b[39mdev\u001b[38;5;241m.\u001b[39mConsoleRenderer(colors\u001b[38;5;241m=\u001b[39m\u001b[38;5;28;01mFalse\u001b[39;00m), )\n\u001b[0;32m     65\u001b[0m handler\u001b[38;5;241m.\u001b[39msetFormatter(formatter)\n\u001b[1;32m---> 66\u001b[0m \u001b[43mlogger\u001b[49m\u001b[38;5;241;43m.\u001b[39;49m\u001b[43m_logger\u001b[49m\u001b[38;5;241;43m.\u001b[39;49m\u001b[43maddHandler\u001b[49m(handler)\n\u001b[0;32m     67\u001b[0m \u001b[38;5;28;01mreturn\u001b[39;00m handler\n",
      "\u001b[1;31mAttributeError\u001b[0m: 'PrintLogger' object has no attribute 'addHandler'"
     ]
    }
   ],
   "source": [
    "res_dict = run_prithvi(\"CC(=O)CC\")"
   ]
  },
  {
   "cell_type": "code",
   "execution_count": null,
   "metadata": {},
   "outputs": [],
   "source": []
  },
  {
   "cell_type": "markdown",
   "metadata": {},
   "source": [
    "### AZ model"
   ]
  },
  {
   "cell_type": "code",
   "execution_count": 13,
   "metadata": {},
   "outputs": [],
   "source": [
    "from aizynthfinder.aizynthfinder import AiZynthFinder\n",
    "from typing import Any, Dict, List, Optional, Sequence\n",
    "from src.variables import BASIC_MOLECULES, ENCODING_SCALABILITY\n",
    "from src.cache import cache_results\n",
    "from src.utils.job_context import logger as context_logger\n",
    "import rootutils"
   ]
  },
  {
   "cell_type": "code",
   "execution_count": 12,
   "metadata": {},
   "outputs": [],
   "source": [
    "AZ_MODEL_CONFIG_PATH = f\"{root_dir}/{os.getenv('AZ_MODEL_CONFIG_PATH')}\"\n"
   ]
  },
  {
   "cell_type": "code",
   "execution_count": 17,
   "metadata": {},
   "outputs": [],
   "source": [
    "@cache_results\n",
    "def run_az(smiles: str) -> tuple[Any, Sequence[Dict[str, Any]]]:\n",
    "    \"\"\"Run the retrosynthesis using AiZynthFinder\n",
    "\n",
    "    Parameters\n",
    "    ----------\n",
    "    smiles : str\n",
    "        SMILES string of the target molecule\n",
    "\n",
    "    Returns\n",
    "    -------\n",
    "    tuple[Any, Sequence[Dict[str, Any]]]\n",
    "        A tuple containing the status of the retrosynthesis, \n",
    "        the results dictionary\n",
    "    \"\"\"\n",
    "    try:\n",
    "        with open(AZ_MODEL_CONFIG_PATH, \"r\") as file:\n",
    "            print(f\"AZ_MODEL_CONFIG_PATH found: {AZ_MODEL_CONFIG_PATH}\")\n",
    "            # logger = context_logger.get()\n",
    "            # logger.info(f\"AZ_MODEL_CONFIG_PATH found: {AZ_MODEL_CONFIG_PATH}\")\n",
    "            config_filename = AZ_MODEL_CONFIG_PATH\n",
    "    except FileNotFoundError:\n",
    "        # logger.error(\n",
    "        #     f\"AZ_MODEL_CONFIG_PATH not found at {AZ_MODEL_CONFIG_PATH}\")\n",
    "        print(f\"AZ_MODEL_CONFIG_PATH not found at {AZ_MODEL_CONFIG_PATH}\")\n",
    "        raise FileNotFoundError(\n",
    "            f\"AZ_MODEL_CONFIG_PATH not found at {AZ_MODEL_CONFIG_PATH}\")\n",
    "    # if simple molecule, skip the retrosynthesis\n",
    "    if smiles in BASIC_MOLECULES:\n",
    "        return True, [{\n",
    "            'type': 'mol',\n",
    "            'hide': False,\n",
    "            'smiles': smiles,\n",
    "            'is_chemical': True,\n",
    "            'in_stock': True,\n",
    "        }]\n",
    "    finder = AiZynthFinder(configfile=AZ_MODEL_CONFIG_PATH)\n",
    "    finder.stock.select(\"zinc\")\n",
    "    finder.expansion_policy.select(\"uspto\")\n",
    "    finder.filter_policy.select(\"uspto\")\n",
    "    finder.target_smiles = smiles\n",
    "    finder.tree_search()\n",
    "    finder.build_routes()\n",
    "    stats = finder.extract_statistics()\n",
    "    status = stats['is_solved']\n",
    "    result_dict = finder.routes.dict_with_extra(include_metadata=True,\n",
    "                                                include_scores=True)\n",
    "    return status, result_dict\n"
   ]
  },
  {
   "cell_type": "code",
   "execution_count": 18,
   "metadata": {},
   "outputs": [
    {
     "name": "stdout",
     "output_type": "stream",
     "text": [
      "AZ_MODEL_CONFIG_PATH not found at C:\\Users\\irahu\\git_workspace\\recursiveLLM/../aizynthfinder/models/config.yml\n"
     ]
    },
    {
     "ename": "FileNotFoundError",
     "evalue": "AZ_MODEL_CONFIG_PATH not found at C:\\Users\\irahu\\git_workspace\\recursiveLLM/../aizynthfinder/models/config.yml",
     "output_type": "error",
     "traceback": [
      "\u001b[1;31m---------------------------------------------------------------------------\u001b[0m",
      "\u001b[1;31mFileNotFoundError\u001b[0m                         Traceback (most recent call last)",
      "Cell \u001b[1;32mIn[17], line 17\u001b[0m, in \u001b[0;36mrun_az\u001b[1;34m(smiles)\u001b[0m\n\u001b[0;32m     16\u001b[0m \u001b[38;5;28;01mtry\u001b[39;00m:\n\u001b[1;32m---> 17\u001b[0m     \u001b[38;5;28;01mwith\u001b[39;00m \u001b[38;5;28;43mopen\u001b[39;49m\u001b[43m(\u001b[49m\u001b[43mAZ_MODEL_CONFIG_PATH\u001b[49m\u001b[43m,\u001b[49m\u001b[43m \u001b[49m\u001b[38;5;124;43m\"\u001b[39;49m\u001b[38;5;124;43mr\u001b[39;49m\u001b[38;5;124;43m\"\u001b[39;49m\u001b[43m)\u001b[49m \u001b[38;5;28;01mas\u001b[39;00m file:\n\u001b[0;32m     18\u001b[0m         \u001b[38;5;28mprint\u001b[39m(\u001b[38;5;124mf\u001b[39m\u001b[38;5;124m\"\u001b[39m\u001b[38;5;124mAZ_MODEL_CONFIG_PATH found: \u001b[39m\u001b[38;5;132;01m{\u001b[39;00mAZ_MODEL_CONFIG_PATH\u001b[38;5;132;01m}\u001b[39;00m\u001b[38;5;124m\"\u001b[39m)\n",
      "File \u001b[1;32mc:\\Users\\irahu\\anaconda3\\envs\\dfs_si_challenge\\lib\\site-packages\\IPython\\core\\interactiveshell.py:310\u001b[0m, in \u001b[0;36m_modified_open\u001b[1;34m(file, *args, **kwargs)\u001b[0m\n\u001b[0;32m    304\u001b[0m     \u001b[38;5;28;01mraise\u001b[39;00m \u001b[38;5;167;01mValueError\u001b[39;00m(\n\u001b[0;32m    305\u001b[0m         \u001b[38;5;124mf\u001b[39m\u001b[38;5;124m\"\u001b[39m\u001b[38;5;124mIPython won\u001b[39m\u001b[38;5;124m'\u001b[39m\u001b[38;5;124mt let you open fd=\u001b[39m\u001b[38;5;132;01m{\u001b[39;00mfile\u001b[38;5;132;01m}\u001b[39;00m\u001b[38;5;124m by default \u001b[39m\u001b[38;5;124m\"\u001b[39m\n\u001b[0;32m    306\u001b[0m         \u001b[38;5;124m\"\u001b[39m\u001b[38;5;124mas it is likely to crash IPython. If you know what you are doing, \u001b[39m\u001b[38;5;124m\"\u001b[39m\n\u001b[0;32m    307\u001b[0m         \u001b[38;5;124m\"\u001b[39m\u001b[38;5;124myou can use builtins\u001b[39m\u001b[38;5;124m'\u001b[39m\u001b[38;5;124m open.\u001b[39m\u001b[38;5;124m\"\u001b[39m\n\u001b[0;32m    308\u001b[0m     )\n\u001b[1;32m--> 310\u001b[0m \u001b[38;5;28;01mreturn\u001b[39;00m io_open(file, \u001b[38;5;241m*\u001b[39margs, \u001b[38;5;241m*\u001b[39m\u001b[38;5;241m*\u001b[39mkwargs)\n",
      "\u001b[1;31mFileNotFoundError\u001b[0m: [Errno 2] No such file or directory: 'C:\\\\Users\\\\irahu\\\\git_workspace\\\\recursiveLLM/../aizynthfinder/models/config.yml'",
      "\nDuring handling of the above exception, another exception occurred:\n",
      "\u001b[1;31mFileNotFoundError\u001b[0m                         Traceback (most recent call last)",
      "Cell \u001b[1;32mIn[18], line 1\u001b[0m\n\u001b[1;32m----> 1\u001b[0m \u001b[43mrun_az\u001b[49m\u001b[43m(\u001b[49m\u001b[38;5;124;43m\"\u001b[39;49m\u001b[38;5;124;43mCC(=O)CC\u001b[39;49m\u001b[38;5;124;43m\"\u001b[39;49m\u001b[43m)\u001b[49m\n",
      "File \u001b[1;32m~\\git_workspace\\recursiveLLM\\src\\cache.py:44\u001b[0m, in \u001b[0;36mcache_results.<locals>.wrapper\u001b[1;34m(*args, **kwargs)\u001b[0m\n\u001b[0;32m     42\u001b[0m     \u001b[38;5;28;01mreturn\u001b[39;00m cache[cache_key][\u001b[38;5;124m'\u001b[39m\u001b[38;5;124mresult\u001b[39m\u001b[38;5;124m'\u001b[39m]\n\u001b[0;32m     43\u001b[0m \u001b[38;5;28;01melse\u001b[39;00m:\n\u001b[1;32m---> 44\u001b[0m     result \u001b[38;5;241m=\u001b[39m func(\u001b[38;5;241m*\u001b[39margs, \u001b[38;5;241m*\u001b[39m\u001b[38;5;241m*\u001b[39mkwargs)\n\u001b[0;32m     45\u001b[0m     cache[cache_key] \u001b[38;5;241m=\u001b[39m {\u001b[38;5;124m'\u001b[39m\u001b[38;5;124mresult\u001b[39m\u001b[38;5;124m'\u001b[39m: result, \u001b[38;5;124m'\u001b[39m\u001b[38;5;124minput_args\u001b[39m\u001b[38;5;124m'\u001b[39m: arg_string}\n\u001b[0;32m     46\u001b[0m     \u001b[38;5;28;01mreturn\u001b[39;00m result\n",
      "Cell \u001b[1;32mIn[17], line 26\u001b[0m, in \u001b[0;36mrun_az\u001b[1;34m(smiles)\u001b[0m\n\u001b[0;32m     22\u001b[0m \u001b[38;5;28;01mexcept\u001b[39;00m \u001b[38;5;167;01mFileNotFoundError\u001b[39;00m:\n\u001b[0;32m     23\u001b[0m     \u001b[38;5;66;03m# logger.error(\u001b[39;00m\n\u001b[0;32m     24\u001b[0m     \u001b[38;5;66;03m#     f\"AZ_MODEL_CONFIG_PATH not found at {AZ_MODEL_CONFIG_PATH}\")\u001b[39;00m\n\u001b[0;32m     25\u001b[0m     \u001b[38;5;28mprint\u001b[39m(\u001b[38;5;124mf\u001b[39m\u001b[38;5;124m\"\u001b[39m\u001b[38;5;124mAZ_MODEL_CONFIG_PATH not found at \u001b[39m\u001b[38;5;132;01m{\u001b[39;00mAZ_MODEL_CONFIG_PATH\u001b[38;5;132;01m}\u001b[39;00m\u001b[38;5;124m\"\u001b[39m)\n\u001b[1;32m---> 26\u001b[0m     \u001b[38;5;28;01mraise\u001b[39;00m \u001b[38;5;167;01mFileNotFoundError\u001b[39;00m(\n\u001b[0;32m     27\u001b[0m         \u001b[38;5;124mf\u001b[39m\u001b[38;5;124m\"\u001b[39m\u001b[38;5;124mAZ_MODEL_CONFIG_PATH not found at \u001b[39m\u001b[38;5;132;01m{\u001b[39;00mAZ_MODEL_CONFIG_PATH\u001b[38;5;132;01m}\u001b[39;00m\u001b[38;5;124m\"\u001b[39m)\n\u001b[0;32m     28\u001b[0m \u001b[38;5;66;03m# if simple molecule, skip the retrosynthesis\u001b[39;00m\n\u001b[0;32m     29\u001b[0m \u001b[38;5;28;01mif\u001b[39;00m smiles \u001b[38;5;129;01min\u001b[39;00m BASIC_MOLECULES:\n",
      "\u001b[1;31mFileNotFoundError\u001b[0m: AZ_MODEL_CONFIG_PATH not found at C:\\Users\\irahu\\git_workspace\\recursiveLLM/../aizynthfinder/models/config.yml"
     ]
    }
   ],
   "source": [
    "run_az(\"CC(=O)CC\")"
   ]
  },
  {
   "cell_type": "code",
   "execution_count": 15,
   "metadata": {},
   "outputs": [],
   "source": [
    "@cache_results\n",
    "def run_az_with_img(smiles: str) -> tuple[Any, Sequence[Dict[str, Any]]]:\n",
    "    \"\"\"Run the retrosynthesis using AiZynthFinder\n",
    "\n",
    "    Parameters\n",
    "    ----------\n",
    "    smiles : str\n",
    "        SMILES string of the target molecule\n",
    "\n",
    "    Returns\n",
    "    -------\n",
    "    tuple[Any, Sequence[Dict[str, Any]]]\n",
    "        A tuple containing the status of the retrosynthesis, \n",
    "        the results dictionary\n",
    "        \n",
    "    \"\"\"\n",
    "    # if simple molecule, skip the retrosynthesis\n",
    "    if smiles in BASIC_MOLECULES:\n",
    "        return True, [{\n",
    "            'type': 'mol',\n",
    "            'hide': False,\n",
    "            'smiles': smiles,\n",
    "            'is_chemical': True,\n",
    "            'in_stock': True,\n",
    "        }]\n",
    "    finder = AiZynthFinder(configfile=AZ_MODEL_CONFIG_PATH)\n",
    "    finder.stock.select(\"zinc\")\n",
    "    finder.expansion_policy.select(\"uspto\")\n",
    "    finder.filter_policy.select(\"uspto\")\n",
    "    finder.target_smiles = smiles\n",
    "    finder.tree_search()\n",
    "    finder.build_routes()\n",
    "    stats = finder.extract_statistics()\n",
    "    status = stats['is_solved']\n",
    "    result_dict = finder.routes.dict_with_extra(include_metadata=True,\n",
    "                                                include_scores=True)\n",
    "    images = finder.routes.images\n",
    "    return status, result_dict, images\n"
   ]
  },
  {
   "cell_type": "code",
   "execution_count": null,
   "metadata": {},
   "outputs": [],
   "source": []
  },
  {
   "cell_type": "markdown",
   "metadata": {},
   "source": [
    "### test llm_pipeline"
   ]
  },
  {
   "cell_type": "code",
   "execution_count": 2,
   "metadata": {},
   "outputs": [],
   "source": [
    "from src.utils.llm import llm_pipeline"
   ]
  },
  {
   "cell_type": "code",
   "execution_count": 4,
   "metadata": {},
   "outputs": [],
   "source": [
    "from tests.variables_test import EMPTY_RESPONSE"
   ]
  },
  {
   "cell_type": "code",
   "execution_count": 5,
   "metadata": {},
   "outputs": [
    {
     "name": "stdout",
     "output_type": "stream",
     "text": [
      "Calling LLM with molecule: CC(=O)CC and run: 0.0\n",
      "Output Pathways: [['CC(C)=O', 'CC=O'], ['CCOC(C)=O', 'BrCC']],\n",
      "                Output Explanations: ['Aldol condensation of acetone and acetaldehyde under basic conditions', 'Grignard addition of ethylmagnesium bromide to methyl acetate, followed by oxidation'],\n",
      "                    Output Confidence: [0.8, 0.7]\n"
     ]
    }
   ],
   "source": [
    "output_pathways, output_explanations, output_confidence = llm_pipeline(molecule=\"CC(=O)CC\")"
   ]
  },
  {
   "cell_type": "code",
   "execution_count": 6,
   "metadata": {},
   "outputs": [
    {
     "name": "stdout",
     "output_type": "stream",
     "text": [
      "Calling LLM with molecule:  and run: 0.0\n",
      "Calling claude-3-opus-20240229 with molecule: \n",
      "Advanced Prompt: False\n",
      "Received response from LLM: Here is the single-step retrosynthesis analysis for the given molecule:\n",
      "\n",
      "<cot>\n",
      "<thinking>\n",
      "The target molecule contains an ester functional group, which can be formed via several routes:\n",
      "1. Esterification of a carboxylic acid with an alcohol \n",
      "2. Transesterification of an ester with an alcohol\n",
      "3. Nucleophilic acyl substitution of an acyl chloride or anhydride with an alcohol\n",
      "The alkyl groups on either side of the ester can be introduced via the corresponding alcohol or carboxylic acid.\n",
      "</thinking>\n",
      "\n",
      "<thinking>\n",
      "The target molecule also contains a para-substituted benzene ring. The methyl group suggests possible formation via:\n",
      "1. Friedel-Crafts alkylation of toluene \n",
      "2. Cross coupling of an aryl halide with a methylating reagent\n",
      "3. Reduction of a benzoic acid or benzaldehyde derivative\n",
      "</thinking>\n",
      "\n",
      "<thinking>\n",
      "Combining the ester and aromatic portions, the most likely retrosynthetic disconnections are:\n",
      "1. Esterification of p-toluic acid with ethanol\n",
      "2. Transesterification of ethyl benzoate with p-cresol  \n",
      "3. Nucleophilic acyl substitution of p-tolyl benzoyl chloride with ethanol\n",
      "4. Friedel-Crafts acylation of toluene with ethyl chloroformate, followed by hydrolysis\n",
      "</thinking>\n",
      "</cot>\n",
      "\n",
      "<json>\n",
      "{\n",
      "  \"data\": [\n",
      "    [\"Cc1ccc(C(=O)O)cc1\", \"CCO\"],\n",
      "    [\"CCOC(=O)c1ccccc1\", \"Cc1ccc(O)cc1\"],\n",
      "    [\"Cc1ccc(C(=O)Cl)cc1\", \"CCO\"], \n",
      "    [\"Cc1ccccc1\", \"CCOC(=O)Cl\"]\n",
      "  ],\n",
      "  \"explanation\": [\n",
      "    \"Esterification of p-toluic acid with ethanol using an acid catalyst (e.g. H2SO4)\",\n",
      "    \"Transesterification of ethyl benzoate with p-cresol using a base catalyst\",\n",
      "    \"Nucleophilic acyl substitution of p-tolyl benzoyl chloride with ethanol\", \n",
      "    \"Friedel-Crafts acylation of toluene with ethyl chloroformate, followed by ester hydrolysis\"\n",
      "  ],\n",
      "  \"confidence_scores\": [\n",
      "    0.9,\n",
      "    0.7,\n",
      "    0.8,\n",
      "    0.6\n",
      "  ]\n",
      "}\n",
      "</json>\n",
      "Obtained 4 valid pathways after validity test: [['Cc1ccc(C(=O)O)cc1', 'CCO'], ['CCOC(=O)c1ccccc1', 'Cc1ccc(O)cc1'], ['Cc1ccc(C(=O)Cl)cc1', 'CCO'], ['Cc1ccccc1', 'CCOC(=O)Cl']]\n",
      "Output Pathways: [['Cc1ccc(C(=O)O)cc1', 'CCO'], ['CCOC(=O)c1ccccc1', 'Cc1ccc(O)cc1'], ['Cc1ccc(C(=O)Cl)cc1', 'CCO'], ['Cc1ccccc1', 'CCOC(=O)Cl']],\n",
      "                Output Explanations: ['Esterification of p-toluic acid with ethanol using an acid catalyst (e.g. H2SO4)', 'Transesterification of ethyl benzoate with p-cresol using a base catalyst', 'Nucleophilic acyl substitution of p-tolyl benzoyl chloride with ethanol', 'Friedel-Crafts acylation of toluene with ethyl chloroformate, followed by ester hydrolysis'],\n",
      "                    Output Confidence: [0.9, 0.7, 0.8, 0.6]\n"
     ]
    }
   ],
   "source": [
    "output_pathways, output_explanations, output_confidence = llm_pipeline(molecule=\"\")"
   ]
  },
  {
   "cell_type": "code",
   "execution_count": null,
   "metadata": {},
   "outputs": [],
   "source": []
  }
 ],
 "metadata": {
  "kernelspec": {
   "display_name": "dfs_si_challenge",
   "language": "python",
   "name": "python3"
  },
  "language_info": {
   "codemirror_mode": {
    "name": "ipython",
    "version": 3
   },
   "file_extension": ".py",
   "mimetype": "text/x-python",
   "name": "python",
   "nbconvert_exporter": "python",
   "pygments_lexer": "ipython3",
   "version": "3.9.21"
  }
 },
 "nbformat": 4,
 "nbformat_minor": 2
}
