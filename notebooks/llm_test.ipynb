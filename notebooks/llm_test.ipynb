{
 "cells": [
  {
   "cell_type": "code",
   "execution_count": null,
   "metadata": {},
   "outputs": [
    {
     "data": {
      "text/plain": [
       "PosixPath('/Users/shreyasv/Desktop/research/deepchem/retrosynthesis/prod')"
      ]
     },
     "execution_count": 11,
     "metadata": {},
     "output_type": "execute_result"
    }
   ],
   "source": [
    "from litellm import completion\n",
    "from typing import Optional\n",
    "import litellm\n",
    "from dotenv import load_dotenv\n",
    "import rootutils\n",
    "\n",
    "rootutils.setup_root(\".\", indicator=\".project-root\", pythonpath=True)"
   ]
  },
  {
   "cell_type": "code",
   "execution_count": 12,
   "metadata": {},
   "outputs": [],
   "source": [
    "from src.variables import SYS_PROMPT, USER_PROMPT"
   ]
  },
  {
   "cell_type": "code",
   "execution_count": 13,
   "metadata": {},
   "outputs": [],
   "source": [
    "load_dotenv()\n",
    "litellm.success_callback = [\"langfuse\"]\n",
    "litellm.drop_params = True\n",
    "\n",
    "metadata = {\n",
    "    \"generation_name\": \"sv_testing\",  # set langfuse generation name\n",
    "    \"project\": \"Retrosynthesis\",  # set langfuse project name\n",
    "    \"version\": \"0.0.2\",  # set langfuse version\n",
    "    \"trace_name\": \"sv_testing\",  # set langfuse Trace Name\n",
    "    \"trace_user_id\": \"sv\",  # set langfuse Trace User ID\n",
    "    \"session_id\": \"session-1\",  # set langfuse Session ID\n",
    "}\n",
    "\n",
    "\n",
    "def call_LLM(molecule: str,\n",
    "             LLM: str = \"claude-3-opus-20240229\",\n",
    "             temperature: float = 0.0,\n",
    "             messages: Optional[list[dict]] = None):\n",
    "    \"\"\"Calls the LLM model to predict the next step\"\"\"\n",
    "\n",
    "    # logger.info(f\"Calling {LLM} with molecule: {molecule}\")\n",
    "    if messages is None:\n",
    "        messages = [{\n",
    "            \"role\": \"system\",\n",
    "            \"content\": SYS_PROMPT\n",
    "        }, {\n",
    "            \"role\": \"user\",\n",
    "            \"content\": USER_PROMPT.replace('{target_smiles}', molecule)\n",
    "        }]\n",
    "\n",
    "    try:\n",
    "        response = completion(model=LLM,\n",
    "                              messages=messages,\n",
    "                              max_completion_tokens=4096,\n",
    "                              temperature=temperature,\n",
    "                              seed=42,\n",
    "                              top_p=0.9,\n",
    "                              metadata=metadata)\n",
    "        res_text = response.choices[0].message.content\n",
    "    except Exception as e:\n",
    "        # logger.info(f\"Error in calling {LLM}: {e}\")\n",
    "        response = completion(model=LLM,\n",
    "                              messages=messages,\n",
    "                              max_completion_tokens=4096,\n",
    "                              temperature=temperature,\n",
    "                              seed=42,\n",
    "                              top_p=0.9)\n",
    "        res_text = response.choices[0].message.content\n",
    "\n",
    "    # logger.info(f\"Response from {LLM}: {response}\")\n",
    "    return res_text\n",
    "\n",
    "\n",
    "res = call_LLM(\"CC(=O)CCC\")"
   ]
  },
  {
   "cell_type": "code",
   "execution_count": 14,
   "metadata": {},
   "outputs": [
    {
     "name": "stdout",
     "output_type": "stream",
     "text": [
      "<thinking>\n",
      "The target molecule CC(=O)CCC is a ketone with 5 carbon atoms. Possible retrosynthetic disconnections to consider:\n",
      "\n",
      "1. Disconnecting the C-C bond adjacent to the ketone, which could arise from an aldol condensation reaction between an enolate and an aldehyde.\n",
      "\n",
      "2. Disconnecting the C-C bond on the other side of the ketone, which could come from a Grignard addition to a nitrile followed by hydrolysis.\n",
      "\n",
      "3. Treating the ketone as an electrophile in a Grignard addition reaction with an alkyl halide.\n",
      "\n",
      "4. Oxidizing a secondary alcohol to form this ketone.\n",
      "</thinking>\n",
      "\n",
      "<thinking>\n",
      "For the aldol condensation approach, we would need an enolate precursor like a ketone or ester with 3 carbons (e.g. acetone or methyl acetate) and an aldehyde with 2 carbons like acetaldehyde. The enolate would add to the aldehyde, followed by dehydration to give the target ketone.\n",
      "</thinking>\n",
      "\n",
      "<thinking>\n",
      "For the Grignard addition to a nitrile, the precursors would be acetonitrile and ethyl magnesium bromide. Addition of the Grignard reagent to the nitrile, followed by hydrolysis, would yield the ketone.\n",
      "</thinking>\n",
      "\n",
      "<thinking>\n",
      "The ketone could also be formed by Grignard addition of ethyl magnesium bromide to acetone. The alkoxide intermediate would be protonated upon workup to give the product.\n",
      "</thinking>\n",
      "\n",
      "<thinking>\n",
      "Finally, oxidation of 2-pentanol, a secondary alcohol, using a strong oxidant like chromic acid or PCC would generate the methyl ketone product.\n",
      "</thinking>\n",
      "\n",
      "-------------------\n",
      "['The target molecule CC(=O)CCC is a ketone with 5 carbon atoms. Possible retrosynthetic disconnections to consider:\\n\\n1. Disconnecting the C-C bond adjacent to the ketone, which could arise from an aldol condensation reaction between an enolate and an aldehyde.\\n\\n2. Disconnecting the C-C bond on the other side of the ketone, which could come from a Grignard addition to a nitrile followed by hydrolysis.\\n\\n3. Treating the ketone as an electrophile in a Grignard addition reaction with an alkyl halide.\\n\\n4. Oxidizing a secondary alcohol to form this ketone.\\n', 'For the aldol condensation approach, we would need an enolate precursor like a ketone or ester with 3 carbons (e.g. acetone or methyl acetate) and an aldehyde with 2 carbons like acetaldehyde. The enolate would add to the aldehyde, followed by dehydration to give the target ketone.\\n', 'For the Grignard addition to a nitrile, the precursors would be acetonitrile and ethyl magnesium bromide. Addition of the Grignard reagent to the nitrile, followed by hydrolysis, would yield the ketone.\\n', 'The ketone could also be formed by Grignard addition of ethyl magnesium bromide to acetone. The alkoxide intermediate would be protonated upon workup to give the product.\\n', 'Finally, oxidation of 2-pentanol, a secondary alcohol, using a strong oxidant like chromic acid or PCC would generate the methyl ketone product.\\n']\n",
      "-------------------\n",
      "{\n",
      "  \"data\": [\n",
      "    [\"CC(C)=O\", \"CC=O\"],\n",
      "    [\"CC#N\", \"CCC[Mg]Br\"], \n",
      "    [\"CC(C)=O\", \"CCC[Mg]Br\"],\n",
      "    [\"CCCCC(O)C\"]\n",
      "  ],\n",
      "  \"explanation\": [\n",
      "    \"Aldol condensation: Acetone (enolate precursor) + acetaldehyde, followed by dehydration\",\n",
      "    \"Grignard addition to nitrile: Acetonitrile + ethyl magnesium bromide, then hydrolysis\", \n",
      "    \"Grignard addition to ketone: Acetone + ethyl magnesium bromide\",\n",
      "    \"Oxidation of secondary alcohol: Oxidize 2-pentanol using chromic acid or PCC\"\n",
      "  ],\n",
      "  \"confidence_scores\": [\n",
      "    0.8,\n",
      "    0.7,\n",
      "    0.7,\n",
      "    0.6\n",
      "  ]\n",
      "}\n",
      "\n"
     ]
    }
   ],
   "source": [
    "# extract the content within <cot> </cot> tags as thinking content\n",
    "thinking_content = res[res.find(\"<cot>\\n\") + 6:res.find(\"</cot>\")]\n",
    "# split the thinking content into individual steps based on the <thinking> </thinking> tags\n",
    "thinking_steps = thinking_content.split(\"<thinking>\\n\")[1:]\n",
    "thinking_steps = [step[:step.find(\"</thinking>\")] for step in thinking_steps]\n",
    "print(thinking_content)\n",
    "print(\"-------------------\")\n",
    "print(thinking_steps)\n",
    "print(\"-------------------\")\n",
    "# extract the content within <json> </json> tags as json content\n",
    "json_content = res[res.find(\"<json>\\n\") + 7:res.find(\"</json>\")]\n",
    "print(json_content)"
   ]
  },
  {
   "cell_type": "code",
   "execution_count": null,
   "metadata": {},
   "outputs": [],
   "source": []
  }
 ],
 "metadata": {
  "kernelspec": {
   "display_name": ".venv",
   "language": "python",
   "name": "python3"
  },
  "language_info": {
   "codemirror_mode": {
    "name": "ipython",
    "version": 3
   },
   "file_extension": ".py",
   "mimetype": "text/x-python",
   "name": "python",
   "nbconvert_exporter": "python",
   "pygments_lexer": "ipython3",
   "version": "3.11.10"
  }
 },
 "nbformat": 4,
 "nbformat_minor": 2
}
