{
 "cells": [
  {
   "cell_type": "code",
   "execution_count": 1,
   "metadata": {},
   "outputs": [],
   "source": [
    "import requests"
   ]
  },
  {
   "cell_type": "code",
   "execution_count": 2,
   "metadata": {},
   "outputs": [],
   "source": [
    "base_url = 'ec2-3-17-191-215.us-east-2.compute.amazonaws.com:5000'"
   ]
  },
  {
   "cell_type": "code",
   "execution_count": 3,
   "metadata": {},
   "outputs": [],
   "source": [
    "retrosynthesis = \"/api/retrosynthesis\"\n",
    "health = \"/api/health\"\n",
    "retro_rerun = '/api/rerun_retrosynthesis'"
   ]
  },
  {
   "cell_type": "code",
   "execution_count": 4,
   "metadata": {},
   "outputs": [],
   "source": [
    "request_post = \"POST\""
   ]
  },
  {
   "cell_type": "code",
   "execution_count": 5,
   "metadata": {},
   "outputs": [],
   "source": [
    "API_KEY = \"your-secure-api-key\""
   ]
  },
  {
   "cell_type": "code",
   "execution_count": 6,
   "metadata": {},
   "outputs": [],
   "source": [
    "from flask import Flask, jsonify, request\n",
    "from flask_cors import CORS\n",
    "import traceback"
   ]
  },
  {
   "cell_type": "code",
   "execution_count": 8,
   "metadata": {},
   "outputs": [
    {
     "name": "stdout",
     "output_type": "stream",
     "text": [
      "{\n",
      "  \"dependencies\": {\n",
      "    \"1\": [\n",
      "      \"2\"\n",
      "    ],\n",
      "    \"2\": []\n",
      "  },\n",
      "  \"steps\": [\n",
      "    {\n",
      "      \"conditions\": {\n",
      "        \"pressure\": \"Atmospheric pressure\",\n",
      "        \"solvent\": \"Ethanol or methanol\",\n",
      "        \"temperature\": \"Room temperature (20-25 \\u00b0C)\",\n",
      "        \"time\": \"1-2 hours\"\n",
      "      },\n",
      "      \"products\": [\n",
      "        {\n",
      "          \"product_metadata\": {\n",
      "            \"chemical_formula\": \"C11H17NO3\",\n",
      "            \"mass\": 211.120843404,\n",
      "            \"name\": \"\"\n",
      "          },\n",
      "          \"smiles\": \"COc1ccc(OC)c(C(O)C(C)N)c1\"\n",
      "        }\n",
      "      ],\n",
      "      \"reactants\": [\n",
      "        {\n",
      "          \"reactant_metadata\": {\n",
      "            \"chemical_formula\": \"C11H15NO5\",\n",
      "            \"mass\": 241.09502258,\n",
      "            \"name\": \"\"\n",
      "          },\n",
      "          \"smiles\": \"COc1ccc(OC)c(C(O)C(C)[N+](=O)[O-])c1\"\n",
      "        }\n",
      "      ],\n",
      "      \"reactionmetrics\": [\n",
      "        {\n",
      "          \"closestliterature\": \"Reduction of a nitro group to an amine using hydrogen gas and a metal catalyst\",\n",
      "          \"confidenceestimate\": 0.73,\n",
      "          \"scalabilityindex\": \"8\"\n",
      "        }\n",
      "      ],\n",
      "      \"reagents\": [\n",
      "        {\n",
      "          \"reagent_metadata\": {\n",
      "            \"chemical_formula\": \"H2\",\n",
      "            \"mass\": 2.015650064,\n",
      "            \"name\": \"\"\n",
      "          },\n",
      "          \"smiles\": \"[H][H]\"\n",
      "        }\n",
      "      ],\n",
      "      \"step\": \"1\"\n",
      "    },\n",
      "    {\n",
      "      \"conditions\": {\n",
      "        \"pressure\": \"Atmospheric pressure\",\n",
      "        \"solvent\": \"Ethanol\",\n",
      "        \"temperature\": \"0-5 \\u00b0C\",\n",
      "        \"time\": \"30 minutes - 2 hours\"\n",
      "      },\n",
      "      \"products\": [\n",
      "        {\n",
      "          \"product_metadata\": {\n",
      "            \"chemical_formula\": \"C11H15NO5\",\n",
      "            \"mass\": 241.09502258,\n",
      "            \"name\": \"\"\n",
      "          },\n",
      "          \"smiles\": \"COc1ccc(OC)c(C(O)C(C)[N+](=O)[O-])c1\"\n",
      "        }\n",
      "      ],\n",
      "      \"reactants\": [\n",
      "        {\n",
      "          \"reactant_metadata\": {\n",
      "            \"chemical_formula\": \"C2H5NO2\",\n",
      "            \"mass\": 75.0320284,\n",
      "            \"name\": \"\"\n",
      "          },\n",
      "          \"smiles\": \"CC[N+](=O)[O-]\"\n",
      "        },\n",
      "        {\n",
      "          \"reactant_metadata\": {\n",
      "            \"chemical_formula\": \"C9H10O3\",\n",
      "            \"mass\": 166.06299418,\n",
      "            \"name\": \"\"\n",
      "          },\n",
      "          \"smiles\": \"COc1ccc(OC)c(C=O)c1\"\n",
      "        }\n",
      "      ],\n",
      "      \"reactionmetrics\": [\n",
      "        {\n",
      "          \"closestliterature\": \"Aldol addition of a nitroalkane to an aromatic aldehyde\",\n",
      "          \"confidenceestimate\": 0.75,\n",
      "          \"scalabilityindex\": \"9\"\n",
      "        }\n",
      "      ],\n",
      "      \"reagents\": [\n",
      "        {\n",
      "          \"reagent_metadata\": {\n",
      "            \"chemical_formula\": \"HO-\",\n",
      "            \"mass\": 17.00328823191,\n",
      "            \"name\": \"\"\n",
      "          },\n",
      "          \"smiles\": \"[OH-]\"\n",
      "        }\n",
      "      ],\n",
      "      \"step\": \"2\"\n",
      "    }\n",
      "  ]\n",
      "}\n",
      "\n"
     ]
    }
   ],
   "source": [
    "import requests\n",
    "import json\n",
    "\n",
    "url = \"http://ec2-3-17-191-215.us-east-2.compute.amazonaws.com:5000/api/retrosynthesis\"\n",
    "\n",
    "payload = json.dumps({\n",
    "  \"smiles\": \"COC1=CC(C(O)C(C)N)=C(OC)C=C1\",\n",
    "  \"advanced_model\": \"True\",\n",
    "  \"advanced_prompt\": \"True\",\n",
    "  \"model_version\": \"gpt-4o\"\n",
    "})\n",
    "headers = {\n",
    "  'x-api-key': 'your-secure-api-key',\n",
    "  'Content-Type': 'application/json'\n",
    "}\n",
    "\n",
    "response = requests.request(\"POST\", url, headers=headers, data=payload)\n",
    "\n",
    "print(response.text)\n"
   ]
  },
  {
   "cell_type": "code",
   "execution_count": 10,
   "metadata": {},
   "outputs": [
    {
     "data": {
      "text/plain": [
       "requests.models.Response"
      ]
     },
     "execution_count": 10,
     "metadata": {},
     "output_type": "execute_result"
    }
   ],
   "source": [
    "type(response)"
   ]
  },
  {
   "cell_type": "code",
   "execution_count": 12,
   "metadata": {},
   "outputs": [
    {
     "name": "stdout",
     "output_type": "stream",
     "text": [
      "200\n"
     ]
    }
   ],
   "source": [
    "print(response.status_code)  # HTTP status code"
   ]
  },
  {
   "cell_type": "code",
   "execution_count": 13,
   "metadata": {},
   "outputs": [
    {
     "name": "stdout",
     "output_type": "stream",
     "text": [
      "{'Server': 'Werkzeug/3.1.3 Python/3.9.20', 'Date': 'Tue, 25 Feb 2025 15:34:02 GMT', 'Content-Type': 'application/json', 'Content-Length': '2626', 'Access-Control-Allow-Origin': '*', 'Connection': 'close'}\n"
     ]
    }
   ],
   "source": [
    "print(response.headers)      # HTTP headers"
   ]
  },
  {
   "cell_type": "code",
   "execution_count": 18,
   "metadata": {},
   "outputs": [
    {
     "name": "stdout",
     "output_type": "stream",
     "text": [
      "{\n",
      "  \"dependencies\": {\n",
      "    \"1\": [\n",
      "      \"2\"\n",
      "    ],\n",
      "    \"2\": []\n",
      "  },\n",
      "  \"steps\": [\n",
      "    {\n",
      "      \"conditions\": {\n",
      "        \"pressure\": \"Atmospheric pressure\",\n",
      "        \"solvent\": \"Ethanol or methanol\",\n",
      "        \"temperature\": \"Room temperature (20-25 \\u00b0C)\",\n",
      "        \"time\": \"1-2 hours\"\n",
      "      },\n",
      "      \"products\": [\n",
      "        {\n",
      "          \"product_metadata\": {\n",
      "            \"chemical_formula\": \"C11H17NO3\",\n",
      "            \"mass\": 211.120843404,\n",
      "            \"name\": \"\"\n",
      "          },\n",
      "          \"smiles\": \"COc1ccc(OC)c(C(O)C(C)N)c1\"\n",
      "        }\n",
      "      ],\n",
      "      \"reactants\": [\n",
      "        {\n",
      "          \"reactant_metadata\": {\n",
      "            \"chemical_formula\": \"C11H15NO5\",\n",
      "            \"mass\": 241.09502258,\n",
      "            \"name\": \"\"\n",
      "          },\n",
      "          \"smiles\": \"COc1ccc(OC)c(C(O)C(C)[N+](=O)[O-])c1\"\n",
      "        }\n",
      "      ],\n",
      "      \"reactionmetrics\": [\n",
      "        {\n",
      "          \"closestliterature\": \"Reduction of a nitro group to an amine using hydrogen gas and a metal catalyst\",\n",
      "          \"confidenceestimate\": 0.73,\n",
      "          \"scalabilityindex\": \"8\"\n",
      "        }\n",
      "      ],\n",
      "      \"reagents\": [\n",
      "        {\n",
      "          \"reagent_metadata\": {\n",
      "            \"chemical_formula\": \"H2\",\n",
      "            \"mass\": 2.015650064,\n",
      "            \"name\": \"\"\n",
      "          },\n",
      "          \"smiles\": \"[H][H]\"\n",
      "        }\n",
      "      ],\n",
      "      \"step\": \"1\"\n",
      "    },\n",
      "    {\n",
      "      \"conditions\": {\n",
      "        \"pressure\": \"Atmospheric pressure\",\n",
      "        \"solvent\": \"Ethanol\",\n",
      "        \"temperature\": \"0-5 \\u00b0C\",\n",
      "        \"time\": \"30 minutes - 2 hours\"\n",
      "      },\n",
      "      \"products\": [\n",
      "        {\n",
      "          \"product_metadata\": {\n",
      "            \"chemical_formula\": \"C11H15NO5\",\n",
      "            \"mass\": 241.09502258,\n",
      "            \"name\": \"\"\n",
      "          },\n",
      "          \"smiles\": \"COc1ccc(OC)c(C(O)C(C)[N+](=O)[O-])c1\"\n",
      "        }\n",
      "      ],\n",
      "      \"reactants\": [\n",
      "        {\n",
      "          \"reactant_metadata\": {\n",
      "            \"chemical_formula\": \"C2H5NO2\",\n",
      "            \"mass\": 75.0320284,\n",
      "            \"name\": \"\"\n",
      "          },\n",
      "          \"smiles\": \"CC[N+](=O)[O-]\"\n",
      "        },\n",
      "        {\n",
      "          \"reactant_metadata\": {\n",
      "            \"chemical_formula\": \"C9H10O3\",\n",
      "            \"mass\": 166.06299418,\n",
      "            \"name\": \"\"\n",
      "          },\n",
      "          \"smiles\": \"COc1ccc(OC)c(C=O)c1\"\n",
      "        }\n",
      "      ],\n",
      "      \"reactionmetrics\": [\n",
      "        {\n",
      "          \"closestliterature\": \"Aldol addition of a nitroalkane to an aromatic aldehyde\",\n",
      "          \"confidenceestimate\": 0.75,\n",
      "          \"scalabilityindex\": \"9\"\n",
      "        }\n",
      "      ],\n",
      "      \"reagents\": [\n",
      "        {\n",
      "          \"reagent_metadata\": {\n",
      "            \"chemical_formula\": \"HO-\",\n",
      "            \"mass\": 17.00328823191,\n",
      "            \"name\": \"\"\n",
      "          },\n",
      "          \"smiles\": \"[OH-]\"\n",
      "        }\n",
      "      ],\n",
      "      \"step\": \"2\"\n",
      "    }\n",
      "  ]\n",
      "}\n",
      "\n"
     ]
    }
   ],
   "source": [
    "response_text = response.text\n",
    "print(response_text)         # Response content in Unicode"
   ]
  },
  {
   "cell_type": "code",
   "execution_count": 19,
   "metadata": {},
   "outputs": [
    {
     "data": {
      "text/plain": [
       "str"
      ]
     },
     "execution_count": 19,
     "metadata": {},
     "output_type": "execute_result"
    }
   ],
   "source": [
    "type(response_text)"
   ]
  },
  {
   "cell_type": "code",
   "execution_count": 20,
   "metadata": {},
   "outputs": [],
   "source": [
    "response_json = response.json()"
   ]
  },
  {
   "cell_type": "code",
   "execution_count": 22,
   "metadata": {},
   "outputs": [
    {
     "data": {
      "text/plain": [
       "dict"
      ]
     },
     "execution_count": 22,
     "metadata": {},
     "output_type": "execute_result"
    }
   ],
   "source": [
    "type(response_json)"
   ]
  },
  {
   "cell_type": "code",
   "execution_count": 24,
   "metadata": {},
   "outputs": [
    {
     "data": {
      "text/plain": [
       "dict_keys(['dependencies', 'steps'])"
      ]
     },
     "execution_count": 24,
     "metadata": {},
     "output_type": "execute_result"
    }
   ],
   "source": [
    "response_json.keys()"
   ]
  },
  {
   "cell_type": "code",
   "execution_count": 27,
   "metadata": {},
   "outputs": [
    {
     "data": {
      "text/plain": [
       "2"
      ]
     },
     "execution_count": 27,
     "metadata": {},
     "output_type": "execute_result"
    }
   ],
   "source": [
    "len(response_json[\"steps\"])"
   ]
  },
  {
   "cell_type": "code",
   "execution_count": 21,
   "metadata": {},
   "outputs": [
    {
     "data": {
      "text/plain": [
       "{'dependencies': {'1': ['2'], '2': []},\n",
       " 'steps': [{'conditions': {'pressure': 'Atmospheric pressure',\n",
       "    'solvent': 'Ethanol or methanol',\n",
       "    'temperature': 'Room temperature (20-25 °C)',\n",
       "    'time': '1-2 hours'},\n",
       "   'products': [{'product_metadata': {'chemical_formula': 'C11H17NO3',\n",
       "      'mass': 211.120843404,\n",
       "      'name': ''},\n",
       "     'smiles': 'COc1ccc(OC)c(C(O)C(C)N)c1'}],\n",
       "   'reactants': [{'reactant_metadata': {'chemical_formula': 'C11H15NO5',\n",
       "      'mass': 241.09502258,\n",
       "      'name': ''},\n",
       "     'smiles': 'COc1ccc(OC)c(C(O)C(C)[N+](=O)[O-])c1'}],\n",
       "   'reactionmetrics': [{'closestliterature': 'Reduction of a nitro group to an amine using hydrogen gas and a metal catalyst',\n",
       "     'confidenceestimate': 0.73,\n",
       "     'scalabilityindex': '8'}],\n",
       "   'reagents': [{'reagent_metadata': {'chemical_formula': 'H2',\n",
       "      'mass': 2.015650064,\n",
       "      'name': ''},\n",
       "     'smiles': '[H][H]'}],\n",
       "   'step': '1'},\n",
       "  {'conditions': {'pressure': 'Atmospheric pressure',\n",
       "    'solvent': 'Ethanol',\n",
       "    'temperature': '0-5 °C',\n",
       "    'time': '30 minutes - 2 hours'},\n",
       "   'products': [{'product_metadata': {'chemical_formula': 'C11H15NO5',\n",
       "      'mass': 241.09502258,\n",
       "      'name': ''},\n",
       "     'smiles': 'COc1ccc(OC)c(C(O)C(C)[N+](=O)[O-])c1'}],\n",
       "   'reactants': [{'reactant_metadata': {'chemical_formula': 'C2H5NO2',\n",
       "      'mass': 75.0320284,\n",
       "      'name': ''},\n",
       "     'smiles': 'CC[N+](=O)[O-]'},\n",
       "    {'reactant_metadata': {'chemical_formula': 'C9H10O3',\n",
       "      'mass': 166.06299418,\n",
       "      'name': ''},\n",
       "     'smiles': 'COc1ccc(OC)c(C=O)c1'}],\n",
       "   'reactionmetrics': [{'closestliterature': 'Aldol addition of a nitroalkane to an aromatic aldehyde',\n",
       "     'confidenceestimate': 0.75,\n",
       "     'scalabilityindex': '9'}],\n",
       "   'reagents': [{'reagent_metadata': {'chemical_formula': 'HO-',\n",
       "      'mass': 17.00328823191,\n",
       "      'name': ''},\n",
       "     'smiles': '[OH-]'}],\n",
       "   'step': '2'}]}"
      ]
     },
     "execution_count": 21,
     "metadata": {},
     "output_type": "execute_result"
    }
   ],
   "source": [
    "response_json"
   ]
  },
  {
   "cell_type": "code",
   "execution_count": 15,
   "metadata": {},
   "outputs": [
    {
     "name": "stdout",
     "output_type": "stream",
     "text": [
      "{'dependencies': {'1': ['2'], '2': []}, 'steps': [{'conditions': {'pressure': 'Atmospheric pressure', 'solvent': 'Ethanol or methanol', 'temperature': 'Room temperature (20-25 °C)', 'time': '1-2 hours'}, 'products': [{'product_metadata': {'chemical_formula': 'C11H17NO3', 'mass': 211.120843404, 'name': ''}, 'smiles': 'COc1ccc(OC)c(C(O)C(C)N)c1'}], 'reactants': [{'reactant_metadata': {'chemical_formula': 'C11H15NO5', 'mass': 241.09502258, 'name': ''}, 'smiles': 'COc1ccc(OC)c(C(O)C(C)[N+](=O)[O-])c1'}], 'reactionmetrics': [{'closestliterature': 'Reduction of a nitro group to an amine using hydrogen gas and a metal catalyst', 'confidenceestimate': 0.73, 'scalabilityindex': '8'}], 'reagents': [{'reagent_metadata': {'chemical_formula': 'H2', 'mass': 2.015650064, 'name': ''}, 'smiles': '[H][H]'}], 'step': '1'}, {'conditions': {'pressure': 'Atmospheric pressure', 'solvent': 'Ethanol', 'temperature': '0-5 °C', 'time': '30 minutes - 2 hours'}, 'products': [{'product_metadata': {'chemical_formula': 'C11H15NO5', 'mass': 241.09502258, 'name': ''}, 'smiles': 'COc1ccc(OC)c(C(O)C(C)[N+](=O)[O-])c1'}], 'reactants': [{'reactant_metadata': {'chemical_formula': 'C2H5NO2', 'mass': 75.0320284, 'name': ''}, 'smiles': 'CC[N+](=O)[O-]'}, {'reactant_metadata': {'chemical_formula': 'C9H10O3', 'mass': 166.06299418, 'name': ''}, 'smiles': 'COc1ccc(OC)c(C=O)c1'}], 'reactionmetrics': [{'closestliterature': 'Aldol addition of a nitroalkane to an aromatic aldehyde', 'confidenceestimate': 0.75, 'scalabilityindex': '9'}], 'reagents': [{'reagent_metadata': {'chemical_formula': 'HO-', 'mass': 17.00328823191, 'name': ''}, 'smiles': '[OH-]'}], 'step': '2'}]}\n"
     ]
    }
   ],
   "source": [
    "print(response.json())       # Response content parsed as JSON"
   ]
  },
  {
   "cell_type": "code",
   "execution_count": null,
   "metadata": {},
   "outputs": [
    {
     "name": "stdout",
     "output_type": "stream",
     "text": [
      "200\n",
      "{'Server': 'Werkzeug/3.1.3 Python/3.9.20', 'Date': 'Tue, 25 Feb 2025 15:34:02 GMT', 'Content-Type': 'application/json', 'Content-Length': '2626', 'Access-Control-Allow-Origin': '*', 'Connection': 'close'}\n",
      "{\n",
      "  \"dependencies\": {\n",
      "    \"1\": [\n",
      "      \"2\"\n",
      "    ],\n",
      "    \"2\": []\n",
      "  },\n",
      "  \"steps\": [\n",
      "    {\n",
      "      \"conditions\": {\n",
      "        \"pressure\": \"Atmospheric pressure\",\n",
      "        \"solvent\": \"Ethanol or methanol\",\n",
      "        \"temperature\": \"Room temperature (20-25 \\u00b0C)\",\n",
      "        \"time\": \"1-2 hours\"\n",
      "      },\n",
      "      \"products\": [\n",
      "        {\n",
      "          \"product_metadata\": {\n",
      "            \"chemical_formula\": \"C11H17NO3\",\n",
      "            \"mass\": 211.120843404,\n",
      "            \"name\": \"\"\n",
      "          },\n",
      "          \"smiles\": \"COc1ccc(OC)c(C(O)C(C)N)c1\"\n",
      "        }\n",
      "      ],\n",
      "      \"reactants\": [\n",
      "        {\n",
      "          \"reactant_metadata\": {\n",
      "            \"chemical_formula\": \"C11H15NO5\",\n",
      "            \"mass\": 241.09502258,\n",
      "            \"name\": \"\"\n",
      "          },\n",
      "          \"smiles\": \"COc1ccc(OC)c(C(O)C(C)[N+](=O)[O-])c1\"\n",
      "        }\n",
      "      ],\n",
      "      \"reactionmetrics\": [\n",
      "        {\n",
      "          \"closestliterature\": \"Reduction of a nitro group to an amine using hydrogen gas and a metal catalyst\",\n",
      "          \"confidenceestimate\": 0.73,\n",
      "          \"scalabilityindex\": \"8\"\n",
      "        }\n",
      "      ],\n",
      "      \"reagents\": [\n",
      "        {\n",
      "          \"reagent_metadata\": {\n",
      "            \"chemical_formula\": \"H2\",\n",
      "            \"mass\": 2.015650064,\n",
      "            \"name\": \"\"\n",
      "          },\n",
      "          \"smiles\": \"[H][H]\"\n",
      "        }\n",
      "      ],\n",
      "      \"step\": \"1\"\n",
      "    },\n",
      "    {\n",
      "      \"conditions\": {\n",
      "        \"pressure\": \"Atmospheric pressure\",\n",
      "        \"solvent\": \"Ethanol\",\n",
      "        \"temperature\": \"0-5 \\u00b0C\",\n",
      "        \"time\": \"30 minutes - 2 hours\"\n",
      "      },\n",
      "      \"products\": [\n",
      "        {\n",
      "          \"product_metadata\": {\n",
      "            \"chemical_formula\": \"C11H15NO5\",\n",
      "            \"mass\": 241.09502258,\n",
      "            \"name\": \"\"\n",
      "          },\n",
      "          \"smiles\": \"COc1ccc(OC)c(C(O)C(C)[N+](=O)[O-])c1\"\n",
      "        }\n",
      "      ],\n",
      "      \"reactants\": [\n",
      "        {\n",
      "          \"reactant_metadata\": {\n",
      "            \"chemical_formula\": \"C2H5NO2\",\n",
      "            \"mass\": 75.0320284,\n",
      "            \"name\": \"\"\n",
      "          },\n",
      "          \"smiles\": \"CC[N+](=O)[O-]\"\n",
      "        },\n",
      "        {\n",
      "          \"reactant_metadata\": {\n",
      "            \"chemical_formula\": \"C9H10O3\",\n",
      "            \"mass\": 166.06299418,\n",
      "            \"name\": \"\"\n",
      "          },\n",
      "          \"smiles\": \"COc1ccc(OC)c(C=O)c1\"\n",
      "        }\n",
      "      ],\n",
      "      \"reactionmetrics\": [\n",
      "        {\n",
      "          \"closestliterature\": \"Aldol addition of a nitroalkane to an aromatic aldehyde\",\n",
      "          \"confidenceestimate\": 0.75,\n",
      "          \"scalabilityindex\": \"9\"\n",
      "        }\n",
      "      ],\n",
      "      \"reagents\": [\n",
      "        {\n",
      "          \"reagent_metadata\": {\n",
      "            \"chemical_formula\": \"HO-\",\n",
      "            \"mass\": 17.00328823191,\n",
      "            \"name\": \"\"\n",
      "          },\n",
      "          \"smiles\": \"[OH-]\"\n",
      "        }\n",
      "      ],\n",
      "      \"step\": \"2\"\n",
      "    }\n",
      "  ]\n",
      "}\n",
      "\n",
      "{'dependencies': {'1': ['2'], '2': []}, 'steps': [{'conditions': {'pressure': 'Atmospheric pressure', 'solvent': 'Ethanol or methanol', 'temperature': 'Room temperature (20-25 °C)', 'time': '1-2 hours'}, 'products': [{'product_metadata': {'chemical_formula': 'C11H17NO3', 'mass': 211.120843404, 'name': ''}, 'smiles': 'COc1ccc(OC)c(C(O)C(C)N)c1'}], 'reactants': [{'reactant_metadata': {'chemical_formula': 'C11H15NO5', 'mass': 241.09502258, 'name': ''}, 'smiles': 'COc1ccc(OC)c(C(O)C(C)[N+](=O)[O-])c1'}], 'reactionmetrics': [{'closestliterature': 'Reduction of a nitro group to an amine using hydrogen gas and a metal catalyst', 'confidenceestimate': 0.73, 'scalabilityindex': '8'}], 'reagents': [{'reagent_metadata': {'chemical_formula': 'H2', 'mass': 2.015650064, 'name': ''}, 'smiles': '[H][H]'}], 'step': '1'}, {'conditions': {'pressure': 'Atmospheric pressure', 'solvent': 'Ethanol', 'temperature': '0-5 °C', 'time': '30 minutes - 2 hours'}, 'products': [{'product_metadata': {'chemical_formula': 'C11H15NO5', 'mass': 241.09502258, 'name': ''}, 'smiles': 'COc1ccc(OC)c(C(O)C(C)[N+](=O)[O-])c1'}], 'reactants': [{'reactant_metadata': {'chemical_formula': 'C2H5NO2', 'mass': 75.0320284, 'name': ''}, 'smiles': 'CC[N+](=O)[O-]'}, {'reactant_metadata': {'chemical_formula': 'C9H10O3', 'mass': 166.06299418, 'name': ''}, 'smiles': 'COc1ccc(OC)c(C=O)c1'}], 'reactionmetrics': [{'closestliterature': 'Aldol addition of a nitroalkane to an aromatic aldehyde', 'confidenceestimate': 0.75, 'scalabilityindex': '9'}], 'reagents': [{'reagent_metadata': {'chemical_formula': 'HO-', 'mass': 17.00328823191, 'name': ''}, 'smiles': '[OH-]'}], 'step': '2'}]}\n",
      "http://ec2-3-17-191-215.us-east-2.compute.amazonaws.com:5000/api/retrosynthesis\n",
      "[]\n",
      "<RequestsCookieJar[]>\n",
      "0:00:02.242372\n",
      "utf-8\n",
      "OK\n",
      "<urllib3.response.HTTPResponse object at 0x000001D860C3CE20>\n"
     ]
    }
   ],
   "source": [
    "print(response.url)          # Final URL location\n",
    "print(response.history)      # Redirection history\n",
    "print(response.cookies)      # Cookies sent by the server\n",
    "print(response.elapsed)      # Time elapsed\n",
    "print(response.reason)       # HTTP reason phrase\n",
    "response.raise_for_status()  # Raise an HTTPError for bad responses\n"
   ]
  },
  {
   "cell_type": "code",
   "execution_count": 17,
   "metadata": {},
   "outputs": [
    {
     "name": "stdout",
     "output_type": "stream",
     "text": [
      "utf-8\n"
     ]
    }
   ],
   "source": [
    "print(response.encoding)     # Encoding used to decode the response\n"
   ]
  },
  {
   "cell_type": "code",
   "execution_count": null,
   "metadata": {},
   "outputs": [
    {
     "name": "stdout",
     "output_type": "stream",
     "text": [
      "<urllib3.response.HTTPResponse object at 0x000001D860C3CE20>\n"
     ]
    }
   ],
   "source": [
    "print(response.raw)"
   ]
  },
  {
   "cell_type": "code",
   "execution_count": 3,
   "metadata": {},
   "outputs": [
    {
     "data": {
      "text/plain": [
       "200"
      ]
     },
     "execution_count": 3,
     "metadata": {},
     "output_type": "execute_result"
    }
   ],
   "source": [
    "response.status_code"
   ]
  },
  {
   "cell_type": "code",
   "execution_count": 28,
   "metadata": {},
   "outputs": [],
   "source": [
    "import requests\n",
    "import json\n",
    "# import pytest\n",
    "\n",
    "import rootutils\n",
    "root_dir = rootutils.setup_root(\".\",\n",
    "                                indicator=\".project-root\",\n",
    "                                pythonpath=True)\n",
    "\n",
    "from tests.variables_test import MOLECULE_1, BASE_URL, ENDPOINTS, X_API_KEY, OPENAI_MODEL, DEEPSEEK_MODEL, CLAUDE_MODEL\n"
   ]
  },
  {
   "cell_type": "code",
   "execution_count": null,
   "metadata": {},
   "outputs": [],
   "source": [
    "def test_health_openai_m1p1_success():\n",
    "  \n",
    "    url = f\"{BASE_URL}{ENDPOINTS['health']}\"\n",
    "    print(url)\n",
    "    print(MOLECULE_1)\n",
    "    print(OPENAI_MODEL)\n",
    "    print(X_API_KEY)\n",
    "\n",
    "    payload = json.dumps({\n",
    "      \"smiles\": MOLECULE_1,\n",
    "      \"advanced_model\": \"True\",\n",
    "      \"advanced_prompt\": \"True\",\n",
    "      \"model_version\": OPENAI_MODEL})\n",
    "\n",
    "    headers = {\n",
    "      'x-api-key': X_API_KEY,\n",
    "      'Content-Type': 'application/json'\n",
    "    }\n",
    "\n",
    "    response = requests.request(\"GET\", url, headers=headers, data=payload)\n",
    "\n",
    "    assert response.status_code == 200\n",
    "\n",
    "# if __name__ == '__main__':\n",
    "#   pytest.main()"
   ]
  },
  {
   "cell_type": "code",
   "execution_count": 30,
   "metadata": {},
   "outputs": [
    {
     "name": "stdout",
     "output_type": "stream",
     "text": [
      "http://ec2-3-17-191-215.us-east-2.compute.amazonaws.com:5000/api/health\n",
      "COC1=CC(C(O)C(C)N)=C(OC)C=C1\n",
      "gpt-4o\n",
      "your-secure-api-key\n"
     ]
    }
   ],
   "source": [
    "test_health_openai_m1p1_success()"
   ]
  },
  {
   "cell_type": "code",
   "execution_count": 36,
   "metadata": {},
   "outputs": [
    {
     "data": {
      "text/plain": [
       "'COC1=CC(C(O)C(C)N)=C(OC)C=C1'"
      ]
     },
     "execution_count": 36,
     "metadata": {},
     "output_type": "execute_result"
    }
   ],
   "source": [
    "MOLECULE_1"
   ]
  },
  {
   "cell_type": "code",
   "execution_count": 31,
   "metadata": {},
   "outputs": [
    {
     "name": "stdout",
     "output_type": "stream",
     "text": [
      "http://ec2-3-17-191-215.us-east-2.compute.amazonaws.com:5000/api/health\n",
      "COC1=CC(C(O)C(C)N)=C(OC)C=C1\n",
      "gpt-4o\n",
      "your-secure-api-key\n"
     ]
    }
   ],
   "source": [
    "url = f\"{BASE_URL}{ENDPOINTS['health']}\"\n",
    "print(url)\n",
    "print(MOLECULE_1)\n",
    "print(OPENAI_MODEL)\n",
    "print(X_API_KEY)\n",
    "\n",
    "payload = json.dumps({\n",
    "    \"smiles\": MOLECULE_1,\n",
    "    \"advanced_model\": \"True\",\n",
    "    \"advanced_prompt\": \"True\",\n",
    "    \"model_version\": OPENAI_MODEL})\n",
    "\n",
    "headers = {\n",
    "    'x-api-key': X_API_KEY,\n",
    "    'Content-Type': 'application/json'\n",
    "}\n",
    "\n",
    "response = requests.request(\"GET\", url, headers=headers, data=payload)\n"
   ]
  },
  {
   "cell_type": "code",
   "execution_count": 79,
   "metadata": {},
   "outputs": [],
   "source": [
    "url = f\"{BASE_URL}{ENDPOINTS['health']}\"\n",
    "# print(url)\n",
    "# print(MOLECULE_1)\n",
    "# print(OPENAI_MODEL)\n",
    "# print(X_API_KEY)\n",
    "\n",
    "payload = json.dumps({\n",
    "    \"smiles\": \"\",\n",
    "    \"advanced_model\": \"True\",\n",
    "    \"advanced_prompt\": \"True\",\n",
    "    \"model_version\": DEEPSEEK_MODEL})\n",
    "\n",
    "headers = {\n",
    "    'x-api-key': X_API_KEY,\n",
    "    'Content-Type': 'application/json'\n",
    "}\n",
    "\n",
    "response = requests.request(\"GET\", url, headers=headers, data=payload)\n"
   ]
  },
  {
   "cell_type": "code",
   "execution_count": 80,
   "metadata": {},
   "outputs": [
    {
     "data": {
      "text/plain": [
       "<Response [200]>"
      ]
     },
     "execution_count": 80,
     "metadata": {},
     "output_type": "execute_result"
    }
   ],
   "source": [
    "response"
   ]
  },
  {
   "cell_type": "code",
   "execution_count": 56,
   "metadata": {},
   "outputs": [],
   "source": [
    "import requests\n",
    "import json\n",
    "import pytest\n",
    "\n",
    "import rootutils\n",
    "root_dir = rootutils.setup_root(\".\",\n",
    "                                indicator=\".project-root\",\n",
    "                                pythonpath=True)"
   ]
  },
  {
   "cell_type": "code",
   "execution_count": 59,
   "metadata": {},
   "outputs": [],
   "source": [
    "from tests.variables_test import MOLECULE_1, BASE_URL, ENDPOINTS, X_API_KEY, CLAUDE_MODEL"
   ]
  },
  {
   "cell_type": "code",
   "execution_count": 60,
   "metadata": {},
   "outputs": [],
   "source": [
    "DEEPSEEK_FIREWORKS_MODEL = \"fireworks_ai/accounts/fireworks/models/deepseek-r1:adv\"\n"
   ]
  },
  {
   "cell_type": "code",
   "execution_count": 63,
   "metadata": {},
   "outputs": [],
   "source": [
    "def test_health_deepseek_m1p1_success():\n",
    "  \n",
    "    url = f\"{BASE_URL}{ENDPOINTS['health']}\"\n",
    "\n",
    "    payload = json.dumps({\n",
    "      \"smiles\": MOLECULE_1,\n",
    "      \"advanced_model\": \"True\",\n",
    "      \"advanced_prompt\": \"False\",\n",
    "      \"llm\": DEEPSEEK_FIREWORKS_MODEL,\n",
    "      \"model_version\": \"USPTO\"})\n",
    "\n",
    "    headers = {\n",
    "      'x-api-key': X_API_KEY,\n",
    "      'Content-Type': 'application/json'\n",
    "    }\n",
    "\n",
    "    response = requests.request(\"GET\", url, headers=headers, data=payload)\n",
    "\n",
    "    assert response.status_code == 200\n",
    "    assert response.json() == {'status': 'healthy'}\n"
   ]
  },
  {
   "cell_type": "code",
   "execution_count": 64,
   "metadata": {},
   "outputs": [],
   "source": [
    "test_health_deepseek_m1p1_success()"
   ]
  },
  {
   "cell_type": "code",
   "execution_count": 34,
   "metadata": {},
   "outputs": [
    {
     "data": {
      "text/plain": [
       "200"
      ]
     },
     "execution_count": 34,
     "metadata": {},
     "output_type": "execute_result"
    }
   ],
   "source": [
    "response.status_code"
   ]
  },
  {
   "cell_type": "code",
   "execution_count": 38,
   "metadata": {},
   "outputs": [],
   "source": [
    "res_json = response.json()"
   ]
  },
  {
   "cell_type": "code",
   "execution_count": 39,
   "metadata": {},
   "outputs": [
    {
     "data": {
      "text/plain": [
       "{'status': 'healthy'}"
      ]
     },
     "execution_count": 39,
     "metadata": {},
     "output_type": "execute_result"
    }
   ],
   "source": [
    "res_json"
   ]
  },
  {
   "cell_type": "code",
   "execution_count": 7,
   "metadata": {},
   "outputs": [],
   "source": [
    "def _test():\n",
    "    # url = \"http://ec2-3-17-191-215.us-east-2.compute.amazonaws.com:5000/api/retrosynthesis\"\n",
    "\n",
    "    url = \"http://ec2-3-17-191-215.us-east-2.compute.amazonaws.com:5000/api/health\"\n",
    "\n",
    "    payload = json.dumps({\n",
    "    \"smiles\": \"COC1=CC(C(O)C(C)N)=C(OC)C=C1\",\n",
    "    \"advanced_model\": \"True\",\n",
    "    \"advanced_prompt\": \"True\",\n",
    "    \"model_version\": \"gpt-4o\"\n",
    "    })\n",
    "    headers = {\n",
    "    'x-api-key': 'your-secure-api-key',\n",
    "    'Content-Type': 'application/json'\n",
    "    }\n",
    "\n",
    "    response = requests.request(\"POST\", url, headers=headers, data=payload)\n",
    "    \n",
    "    print(response.status_code)"
   ]
  },
  {
   "cell_type": "code",
   "execution_count": 8,
   "metadata": {},
   "outputs": [
    {
     "name": "stdout",
     "output_type": "stream",
     "text": [
      "405\n"
     ]
    }
   ],
   "source": [
    "_test()"
   ]
  },
  {
   "cell_type": "code",
   "execution_count": 11,
   "metadata": {},
   "outputs": [
    {
     "ename": "InvalidSchema",
     "evalue": "No connection adapters were found for 'ec2-3-17-191-215.us-east-2.compute.amazonaws.com:5000/api/retrosynthesis'",
     "output_type": "error",
     "traceback": [
      "\u001b[1;31m---------------------------------------------------------------------------\u001b[0m",
      "\u001b[1;31mInvalidSchema\u001b[0m                             Traceback (most recent call last)",
      "Cell \u001b[1;32mIn[11], line 17\u001b[0m\n\u001b[0;32m      6\u001b[0m payload \u001b[38;5;241m=\u001b[39m json\u001b[38;5;241m.\u001b[39mdumps({\n\u001b[0;32m      7\u001b[0m   \u001b[38;5;124m\"\u001b[39m\u001b[38;5;124msmiles\u001b[39m\u001b[38;5;124m\"\u001b[39m: \u001b[38;5;124m\"\u001b[39m\u001b[38;5;124m\"\u001b[39m,\n\u001b[0;32m      8\u001b[0m   \u001b[38;5;124m\"\u001b[39m\u001b[38;5;124madvanced_model\u001b[39m\u001b[38;5;124m\"\u001b[39m: \u001b[38;5;124m\"\u001b[39m\u001b[38;5;124mTrue\u001b[39m\u001b[38;5;124m\"\u001b[39m,\n\u001b[0;32m      9\u001b[0m   \u001b[38;5;124m\"\u001b[39m\u001b[38;5;124madvanced_prompt\u001b[39m\u001b[38;5;124m\"\u001b[39m: \u001b[38;5;124m\"\u001b[39m\u001b[38;5;124mTrue\u001b[39m\u001b[38;5;124m\"\u001b[39m,\n\u001b[0;32m     10\u001b[0m   \u001b[38;5;124m\"\u001b[39m\u001b[38;5;124mmodel_version\u001b[39m\u001b[38;5;124m\"\u001b[39m: \u001b[38;5;124m\"\u001b[39m\u001b[38;5;124mgpt-4o\u001b[39m\u001b[38;5;124m\"\u001b[39m\n\u001b[0;32m     11\u001b[0m })\n\u001b[0;32m     12\u001b[0m headers \u001b[38;5;241m=\u001b[39m {\n\u001b[0;32m     13\u001b[0m   \u001b[38;5;124m'\u001b[39m\u001b[38;5;124mx-api-key\u001b[39m\u001b[38;5;124m'\u001b[39m: \u001b[38;5;124m'\u001b[39m\u001b[38;5;124myour-secure-api-key\u001b[39m\u001b[38;5;124m'\u001b[39m,\n\u001b[0;32m     14\u001b[0m   \u001b[38;5;124m'\u001b[39m\u001b[38;5;124mContent-Type\u001b[39m\u001b[38;5;124m'\u001b[39m: \u001b[38;5;124m'\u001b[39m\u001b[38;5;124mapplication/json\u001b[39m\u001b[38;5;124m'\u001b[39m\n\u001b[0;32m     15\u001b[0m }\n\u001b[1;32m---> 17\u001b[0m response \u001b[38;5;241m=\u001b[39m \u001b[43mrequests\u001b[49m\u001b[38;5;241;43m.\u001b[39;49m\u001b[43mrequest\u001b[49m\u001b[43m(\u001b[49m\u001b[38;5;124;43m\"\u001b[39;49m\u001b[38;5;124;43mPOST\u001b[39;49m\u001b[38;5;124;43m\"\u001b[39;49m\u001b[43m,\u001b[49m\u001b[43m \u001b[49m\u001b[43murl\u001b[49m\u001b[43m,\u001b[49m\u001b[43m \u001b[49m\u001b[43mheaders\u001b[49m\u001b[38;5;241;43m=\u001b[39;49m\u001b[43mheaders\u001b[49m\u001b[43m,\u001b[49m\u001b[43m \u001b[49m\u001b[43mdata\u001b[49m\u001b[38;5;241;43m=\u001b[39;49m\u001b[43mpayload\u001b[49m\u001b[43m)\u001b[49m\n\u001b[0;32m     19\u001b[0m \u001b[38;5;28mprint\u001b[39m(response\u001b[38;5;241m.\u001b[39mtext)\n",
      "File \u001b[1;32mc:\\Users\\irahu\\anaconda3\\envs\\dfs_si_challenge\\lib\\site-packages\\requests\\api.py:59\u001b[0m, in \u001b[0;36mrequest\u001b[1;34m(method, url, **kwargs)\u001b[0m\n\u001b[0;32m     55\u001b[0m \u001b[38;5;66;03m# By using the 'with' statement we are sure the session is closed, thus we\u001b[39;00m\n\u001b[0;32m     56\u001b[0m \u001b[38;5;66;03m# avoid leaving sockets open which can trigger a ResourceWarning in some\u001b[39;00m\n\u001b[0;32m     57\u001b[0m \u001b[38;5;66;03m# cases, and look like a memory leak in others.\u001b[39;00m\n\u001b[0;32m     58\u001b[0m \u001b[38;5;28;01mwith\u001b[39;00m sessions\u001b[38;5;241m.\u001b[39mSession() \u001b[38;5;28;01mas\u001b[39;00m session:\n\u001b[1;32m---> 59\u001b[0m     \u001b[38;5;28;01mreturn\u001b[39;00m session\u001b[38;5;241m.\u001b[39mrequest(method\u001b[38;5;241m=\u001b[39mmethod, url\u001b[38;5;241m=\u001b[39murl, \u001b[38;5;241m*\u001b[39m\u001b[38;5;241m*\u001b[39mkwargs)\n",
      "File \u001b[1;32mc:\\Users\\irahu\\anaconda3\\envs\\dfs_si_challenge\\lib\\site-packages\\requests\\sessions.py:589\u001b[0m, in \u001b[0;36mSession.request\u001b[1;34m(self, method, url, params, data, headers, cookies, files, auth, timeout, allow_redirects, proxies, hooks, stream, verify, cert, json)\u001b[0m\n\u001b[0;32m    584\u001b[0m send_kwargs \u001b[38;5;241m=\u001b[39m {\n\u001b[0;32m    585\u001b[0m     \u001b[38;5;124m\"\u001b[39m\u001b[38;5;124mtimeout\u001b[39m\u001b[38;5;124m\"\u001b[39m: timeout,\n\u001b[0;32m    586\u001b[0m     \u001b[38;5;124m\"\u001b[39m\u001b[38;5;124mallow_redirects\u001b[39m\u001b[38;5;124m\"\u001b[39m: allow_redirects,\n\u001b[0;32m    587\u001b[0m }\n\u001b[0;32m    588\u001b[0m send_kwargs\u001b[38;5;241m.\u001b[39mupdate(settings)\n\u001b[1;32m--> 589\u001b[0m resp \u001b[38;5;241m=\u001b[39m \u001b[38;5;28mself\u001b[39m\u001b[38;5;241m.\u001b[39msend(prep, \u001b[38;5;241m*\u001b[39m\u001b[38;5;241m*\u001b[39msend_kwargs)\n\u001b[0;32m    591\u001b[0m \u001b[38;5;28;01mreturn\u001b[39;00m resp\n",
      "File \u001b[1;32mc:\\Users\\irahu\\anaconda3\\envs\\dfs_si_challenge\\lib\\site-packages\\requests\\sessions.py:697\u001b[0m, in \u001b[0;36mSession.send\u001b[1;34m(self, request, **kwargs)\u001b[0m\n\u001b[0;32m    694\u001b[0m hooks \u001b[38;5;241m=\u001b[39m request\u001b[38;5;241m.\u001b[39mhooks\n\u001b[0;32m    696\u001b[0m \u001b[38;5;66;03m# Get the appropriate adapter to use\u001b[39;00m\n\u001b[1;32m--> 697\u001b[0m adapter \u001b[38;5;241m=\u001b[39m \u001b[38;5;28;43mself\u001b[39;49m\u001b[38;5;241;43m.\u001b[39;49m\u001b[43mget_adapter\u001b[49m\u001b[43m(\u001b[49m\u001b[43murl\u001b[49m\u001b[38;5;241;43m=\u001b[39;49m\u001b[43mrequest\u001b[49m\u001b[38;5;241;43m.\u001b[39;49m\u001b[43murl\u001b[49m\u001b[43m)\u001b[49m\n\u001b[0;32m    699\u001b[0m \u001b[38;5;66;03m# Start time (approximately) of the request\u001b[39;00m\n\u001b[0;32m    700\u001b[0m start \u001b[38;5;241m=\u001b[39m preferred_clock()\n",
      "File \u001b[1;32mc:\\Users\\irahu\\anaconda3\\envs\\dfs_si_challenge\\lib\\site-packages\\requests\\sessions.py:792\u001b[0m, in \u001b[0;36mSession.get_adapter\u001b[1;34m(self, url)\u001b[0m\n\u001b[0;32m    789\u001b[0m         \u001b[38;5;28;01mreturn\u001b[39;00m adapter\n\u001b[0;32m    791\u001b[0m \u001b[38;5;66;03m# Nothing matches :-/\u001b[39;00m\n\u001b[1;32m--> 792\u001b[0m \u001b[38;5;28;01mraise\u001b[39;00m InvalidSchema(\u001b[38;5;124mf\u001b[39m\u001b[38;5;124m\"\u001b[39m\u001b[38;5;124mNo connection adapters were found for \u001b[39m\u001b[38;5;132;01m{\u001b[39;00murl\u001b[38;5;132;01m!r}\u001b[39;00m\u001b[38;5;124m\"\u001b[39m)\n",
      "\u001b[1;31mInvalidSchema\u001b[0m: No connection adapters were found for 'ec2-3-17-191-215.us-east-2.compute.amazonaws.com:5000/api/retrosynthesis'"
     ]
    }
   ],
   "source": [
    "import requests\n",
    "import json\n",
    "\n",
    "url = \"ec2-3-17-191-215.us-east-2.compute.amazonaws.com:5000/api/retrosynthesis\"\n",
    "\n",
    "payload = json.dumps({\n",
    "  \"smiles\": \"\",\n",
    "  \"advanced_model\": \"True\",\n",
    "  \"advanced_prompt\": \"True\",\n",
    "  \"model_version\": \"gpt-4o\"\n",
    "})\n",
    "headers = {\n",
    "  'x-api-key': 'your-secure-api-key',\n",
    "  'Content-Type': 'application/json'\n",
    "}\n",
    "\n",
    "response = requests.request(\"POST\", url, headers=headers, data=payload)\n",
    "\n",
    "print(response.text)\n"
   ]
  },
  {
   "cell_type": "code",
   "execution_count": 40,
   "metadata": {},
   "outputs": [
    {
     "ename": "InvalidSchema",
     "evalue": "No connection adapters were found for 'ec2-3-17-191-215.us-east-2.compute.amazonaws.com:5000/api/retrosynthesis'",
     "output_type": "error",
     "traceback": [
      "\u001b[1;31m---------------------------------------------------------------------------\u001b[0m",
      "\u001b[1;31mInvalidSchema\u001b[0m                             Traceback (most recent call last)",
      "Cell \u001b[1;32mIn[40], line 14\u001b[0m\n\u001b[0;32m      3\u001b[0m payload \u001b[38;5;241m=\u001b[39m json\u001b[38;5;241m.\u001b[39mdumps({\n\u001b[0;32m      4\u001b[0m   \u001b[38;5;124m\"\u001b[39m\u001b[38;5;124msmiles\u001b[39m\u001b[38;5;124m\"\u001b[39m: \u001b[38;5;124m\"\u001b[39m\u001b[38;5;124m\"\u001b[39m,\n\u001b[0;32m      5\u001b[0m   \u001b[38;5;124m\"\u001b[39m\u001b[38;5;124madvanced_model\u001b[39m\u001b[38;5;124m\"\u001b[39m: \u001b[38;5;124m\"\u001b[39m\u001b[38;5;124mTrue\u001b[39m\u001b[38;5;124m\"\u001b[39m,\n\u001b[0;32m      6\u001b[0m   \u001b[38;5;124m\"\u001b[39m\u001b[38;5;124madvanced_prompt\u001b[39m\u001b[38;5;124m\"\u001b[39m: \u001b[38;5;124m\"\u001b[39m\u001b[38;5;124mTrue\u001b[39m\u001b[38;5;124m\"\u001b[39m,\n\u001b[0;32m      7\u001b[0m   \u001b[38;5;124m\"\u001b[39m\u001b[38;5;124mmodel_version\u001b[39m\u001b[38;5;124m\"\u001b[39m: \u001b[38;5;124m\"\u001b[39m\u001b[38;5;124mUSPTO\u001b[39m\u001b[38;5;124m\"\u001b[39m\n\u001b[0;32m      8\u001b[0m })\n\u001b[0;32m      9\u001b[0m headers \u001b[38;5;241m=\u001b[39m {\n\u001b[0;32m     10\u001b[0m   \u001b[38;5;124m'\u001b[39m\u001b[38;5;124mx-api-key\u001b[39m\u001b[38;5;124m'\u001b[39m: \u001b[38;5;124m'\u001b[39m\u001b[38;5;124myour-secure-api-key\u001b[39m\u001b[38;5;124m'\u001b[39m,\n\u001b[0;32m     11\u001b[0m   \u001b[38;5;124m'\u001b[39m\u001b[38;5;124mContent-Type\u001b[39m\u001b[38;5;124m'\u001b[39m: \u001b[38;5;124m'\u001b[39m\u001b[38;5;124mapplication/json\u001b[39m\u001b[38;5;124m'\u001b[39m\n\u001b[0;32m     12\u001b[0m }\n\u001b[1;32m---> 14\u001b[0m response \u001b[38;5;241m=\u001b[39m \u001b[43mrequests\u001b[49m\u001b[38;5;241;43m.\u001b[39;49m\u001b[43mrequest\u001b[49m\u001b[43m(\u001b[49m\u001b[38;5;124;43m\"\u001b[39;49m\u001b[38;5;124;43mPOST\u001b[39;49m\u001b[38;5;124;43m\"\u001b[39;49m\u001b[43m,\u001b[49m\u001b[43m \u001b[49m\u001b[43murl\u001b[49m\u001b[43m,\u001b[49m\u001b[43m \u001b[49m\u001b[43mheaders\u001b[49m\u001b[38;5;241;43m=\u001b[39;49m\u001b[43mheaders\u001b[49m\u001b[43m,\u001b[49m\u001b[43m \u001b[49m\u001b[43mdata\u001b[49m\u001b[38;5;241;43m=\u001b[39;49m\u001b[43mpayload\u001b[49m\u001b[43m)\u001b[49m\n",
      "File \u001b[1;32mc:\\Users\\irahu\\anaconda3\\envs\\test_env_si_challenge\\lib\\site-packages\\requests\\api.py:59\u001b[0m, in \u001b[0;36mrequest\u001b[1;34m(method, url, **kwargs)\u001b[0m\n\u001b[0;32m     55\u001b[0m \u001b[38;5;66;03m# By using the 'with' statement we are sure the session is closed, thus we\u001b[39;00m\n\u001b[0;32m     56\u001b[0m \u001b[38;5;66;03m# avoid leaving sockets open which can trigger a ResourceWarning in some\u001b[39;00m\n\u001b[0;32m     57\u001b[0m \u001b[38;5;66;03m# cases, and look like a memory leak in others.\u001b[39;00m\n\u001b[0;32m     58\u001b[0m \u001b[38;5;28;01mwith\u001b[39;00m sessions\u001b[38;5;241m.\u001b[39mSession() \u001b[38;5;28;01mas\u001b[39;00m session:\n\u001b[1;32m---> 59\u001b[0m     \u001b[38;5;28;01mreturn\u001b[39;00m session\u001b[38;5;241m.\u001b[39mrequest(method\u001b[38;5;241m=\u001b[39mmethod, url\u001b[38;5;241m=\u001b[39murl, \u001b[38;5;241m*\u001b[39m\u001b[38;5;241m*\u001b[39mkwargs)\n",
      "File \u001b[1;32mc:\\Users\\irahu\\anaconda3\\envs\\test_env_si_challenge\\lib\\site-packages\\requests\\sessions.py:589\u001b[0m, in \u001b[0;36mSession.request\u001b[1;34m(self, method, url, params, data, headers, cookies, files, auth, timeout, allow_redirects, proxies, hooks, stream, verify, cert, json)\u001b[0m\n\u001b[0;32m    584\u001b[0m send_kwargs \u001b[38;5;241m=\u001b[39m {\n\u001b[0;32m    585\u001b[0m     \u001b[38;5;124m\"\u001b[39m\u001b[38;5;124mtimeout\u001b[39m\u001b[38;5;124m\"\u001b[39m: timeout,\n\u001b[0;32m    586\u001b[0m     \u001b[38;5;124m\"\u001b[39m\u001b[38;5;124mallow_redirects\u001b[39m\u001b[38;5;124m\"\u001b[39m: allow_redirects,\n\u001b[0;32m    587\u001b[0m }\n\u001b[0;32m    588\u001b[0m send_kwargs\u001b[38;5;241m.\u001b[39mupdate(settings)\n\u001b[1;32m--> 589\u001b[0m resp \u001b[38;5;241m=\u001b[39m \u001b[38;5;28mself\u001b[39m\u001b[38;5;241m.\u001b[39msend(prep, \u001b[38;5;241m*\u001b[39m\u001b[38;5;241m*\u001b[39msend_kwargs)\n\u001b[0;32m    591\u001b[0m \u001b[38;5;28;01mreturn\u001b[39;00m resp\n",
      "File \u001b[1;32mc:\\Users\\irahu\\anaconda3\\envs\\test_env_si_challenge\\lib\\site-packages\\requests\\sessions.py:697\u001b[0m, in \u001b[0;36mSession.send\u001b[1;34m(self, request, **kwargs)\u001b[0m\n\u001b[0;32m    694\u001b[0m hooks \u001b[38;5;241m=\u001b[39m request\u001b[38;5;241m.\u001b[39mhooks\n\u001b[0;32m    696\u001b[0m \u001b[38;5;66;03m# Get the appropriate adapter to use\u001b[39;00m\n\u001b[1;32m--> 697\u001b[0m adapter \u001b[38;5;241m=\u001b[39m \u001b[38;5;28;43mself\u001b[39;49m\u001b[38;5;241;43m.\u001b[39;49m\u001b[43mget_adapter\u001b[49m\u001b[43m(\u001b[49m\u001b[43murl\u001b[49m\u001b[38;5;241;43m=\u001b[39;49m\u001b[43mrequest\u001b[49m\u001b[38;5;241;43m.\u001b[39;49m\u001b[43murl\u001b[49m\u001b[43m)\u001b[49m\n\u001b[0;32m    699\u001b[0m \u001b[38;5;66;03m# Start time (approximately) of the request\u001b[39;00m\n\u001b[0;32m    700\u001b[0m start \u001b[38;5;241m=\u001b[39m preferred_clock()\n",
      "File \u001b[1;32mc:\\Users\\irahu\\anaconda3\\envs\\test_env_si_challenge\\lib\\site-packages\\requests\\sessions.py:792\u001b[0m, in \u001b[0;36mSession.get_adapter\u001b[1;34m(self, url)\u001b[0m\n\u001b[0;32m    789\u001b[0m         \u001b[38;5;28;01mreturn\u001b[39;00m adapter\n\u001b[0;32m    791\u001b[0m \u001b[38;5;66;03m# Nothing matches :-/\u001b[39;00m\n\u001b[1;32m--> 792\u001b[0m \u001b[38;5;28;01mraise\u001b[39;00m InvalidSchema(\u001b[38;5;124mf\u001b[39m\u001b[38;5;124m\"\u001b[39m\u001b[38;5;124mNo connection adapters were found for \u001b[39m\u001b[38;5;132;01m{\u001b[39;00murl\u001b[38;5;132;01m!r}\u001b[39;00m\u001b[38;5;124m\"\u001b[39m)\n",
      "\u001b[1;31mInvalidSchema\u001b[0m: No connection adapters were found for 'ec2-3-17-191-215.us-east-2.compute.amazonaws.com:5000/api/retrosynthesis'"
     ]
    }
   ],
   "source": [
    "url = \"ec2-3-17-191-215.us-east-2.compute.amazonaws.com:5000/api/retrosynthesis\"\n",
    "\n",
    "payload = json.dumps({\n",
    "  \"smiles\": \"\",\n",
    "  \"advanced_model\": \"True\",\n",
    "  \"advanced_prompt\": \"True\",\n",
    "  \"model_version\": \"USPTO\"\n",
    "})\n",
    "headers = {\n",
    "  'x-api-key': 'your-secure-api-key',\n",
    "  'Content-Type': 'application/json'\n",
    "}\n",
    "\n",
    "response = requests.request(\"POST\", url, headers=headers, data=payload)"
   ]
  },
  {
   "cell_type": "code",
   "execution_count": 42,
   "metadata": {},
   "outputs": [
    {
     "name": "stdout",
     "output_type": "stream",
     "text": [
      "{\n",
      "  \"dependencies\": {\n",
      "    \"1\": [\n",
      "      \"2\"\n",
      "    ],\n",
      "    \"2\": []\n",
      "  },\n",
      "  \"steps\": [\n",
      "    {\n",
      "      \"conditions\": {\n",
      "        \"pressure\": \"Atmospheric pressure\",\n",
      "        \"solvent\": \"Ethanol or methanol\",\n",
      "        \"temperature\": \"Room temperature (20-25 \\u00b0C)\",\n",
      "        \"time\": \"1-2 hours\"\n",
      "      },\n",
      "      \"products\": [\n",
      "        {\n",
      "          \"product_metadata\": {\n",
      "            \"chemical_formula\": \"C11H17NO3\",\n",
      "            \"mass\": 211.120843404,\n",
      "            \"name\": \"\"\n",
      "          },\n",
      "          \"smiles\": \"COc1ccc(OC)c(C(O)C(C)N)c1\"\n",
      "        }\n",
      "      ],\n",
      "      \"reactants\": [\n",
      "        {\n",
      "          \"reactant_metadata\": {\n",
      "            \"chemical_formula\": \"C11H15NO5\",\n",
      "            \"mass\": 241.09502258,\n",
      "            \"name\": \"\"\n",
      "          },\n",
      "          \"smiles\": \"COc1ccc(OC)c(C(O)C(C)[N+](=O)[O-])c1\"\n",
      "        }\n",
      "      ],\n",
      "      \"reactionmetrics\": [\n",
      "        {\n",
      "          \"closestliterature\": \"Reduction of a nitro group to an amine using hydrogen gas and a metal catalyst\",\n",
      "          \"confidenceestimate\": 0.73,\n",
      "          \"scalabilityindex\": \"8\"\n",
      "        }\n",
      "      ],\n",
      "      \"reagents\": [\n",
      "        {\n",
      "          \"reagent_metadata\": {\n",
      "            \"chemical_formula\": \"H2\",\n",
      "            \"mass\": 2.015650064,\n",
      "            \"name\": \"\"\n",
      "          },\n",
      "          \"smiles\": \"[H][H]\"\n",
      "        }\n",
      "      ],\n",
      "      \"step\": \"1\"\n",
      "    },\n",
      "    {\n",
      "      \"conditions\": {\n",
      "        \"pressure\": \"Atmospheric pressure\",\n",
      "        \"solvent\": \"Ethanol\",\n",
      "        \"temperature\": \"0-5 \\u00b0C\",\n",
      "        \"time\": \"30 minutes - 2 hours\"\n",
      "      },\n",
      "      \"products\": [\n",
      "        {\n",
      "          \"product_metadata\": {\n",
      "            \"chemical_formula\": \"C11H15NO5\",\n",
      "            \"mass\": 241.09502258,\n",
      "            \"name\": \"\"\n",
      "          },\n",
      "          \"smiles\": \"COc1ccc(OC)c(C(O)C(C)[N+](=O)[O-])c1\"\n",
      "        }\n",
      "      ],\n",
      "      \"reactants\": [\n",
      "        {\n",
      "          \"reactant_metadata\": {\n",
      "            \"chemical_formula\": \"C2H5NO2\",\n",
      "            \"mass\": 75.0320284,\n",
      "            \"name\": \"\"\n",
      "          },\n",
      "          \"smiles\": \"CC[N+](=O)[O-]\"\n",
      "        },\n",
      "        {\n",
      "          \"reactant_metadata\": {\n",
      "            \"chemical_formula\": \"C9H10O3\",\n",
      "            \"mass\": 166.06299418,\n",
      "            \"name\": \"\"\n",
      "          },\n",
      "          \"smiles\": \"COc1ccc(OC)c(C=O)c1\"\n",
      "        }\n",
      "      ],\n",
      "      \"reactionmetrics\": [\n",
      "        {\n",
      "          \"closestliterature\": \"Aldol addition of a nitroalkane to an aromatic aldehyde\",\n",
      "          \"confidenceestimate\": 0.75,\n",
      "          \"scalabilityindex\": \"9\"\n",
      "        }\n",
      "      ],\n",
      "      \"reagents\": [\n",
      "        {\n",
      "          \"reagent_metadata\": {\n",
      "            \"chemical_formula\": \"HO-\",\n",
      "            \"mass\": 17.00328823191,\n",
      "            \"name\": \"\"\n",
      "          },\n",
      "          \"smiles\": \"[OH-]\"\n",
      "        }\n",
      "      ],\n",
      "      \"step\": \"2\"\n",
      "    }\n",
      "  ]\n",
      "}\n",
      "\n"
     ]
    }
   ],
   "source": [
    "import requests\n",
    "import json\n",
    "\n",
    "url = \"http://ec2-3-17-191-215.us-east-2.compute.amazonaws.com:5000/api/retrosynthesis\"\n",
    "\n",
    "payload = json.dumps({\n",
    "  \"smiles\": \"COC1=CC(C(O)C(C)N)=C(OC)C=C1\",\n",
    "  \"advanced_model\": \"True\",\n",
    "  \"advanced_prompt\": \"True\",\n",
    "  \"llm\": \"fireworks_ai/accounts/fireworks/models/deepseek-r1\",\n",
    "  \"model_version\": \"USPTO\"\n",
    "})\n",
    "headers = {\n",
    "  'x-api-key': 'your-secure-api-key',\n",
    "  'Content-Type': 'application/json'\n",
    "}\n",
    "\n",
    "response = requests.request(\"POST\", url, headers=headers, data=payload)\n",
    "\n",
    "print(response.text)\n"
   ]
  },
  {
   "cell_type": "code",
   "execution_count": 54,
   "metadata": {},
   "outputs": [
    {
     "data": {
      "text/plain": [
       "requests.models.Response"
      ]
     },
     "execution_count": 54,
     "metadata": {},
     "output_type": "execute_result"
    }
   ],
   "source": [
    "type(response)"
   ]
  },
  {
   "cell_type": "code",
   "execution_count": 43,
   "metadata": {},
   "outputs": [
    {
     "data": {
      "text/plain": [
       "200"
      ]
     },
     "execution_count": 43,
     "metadata": {},
     "output_type": "execute_result"
    }
   ],
   "source": [
    "response.status_code"
   ]
  },
  {
   "cell_type": "code",
   "execution_count": 46,
   "metadata": {},
   "outputs": [],
   "source": [
    "_j = response.json()"
   ]
  },
  {
   "cell_type": "code",
   "execution_count": 47,
   "metadata": {},
   "outputs": [
    {
     "data": {
      "text/plain": [
       "dict"
      ]
     },
     "execution_count": 47,
     "metadata": {},
     "output_type": "execute_result"
    }
   ],
   "source": [
    "type(_j)"
   ]
  },
  {
   "cell_type": "code",
   "execution_count": 51,
   "metadata": {},
   "outputs": [
    {
     "data": {
      "text/plain": [
       "dict_keys"
      ]
     },
     "execution_count": 51,
     "metadata": {},
     "output_type": "execute_result"
    }
   ],
   "source": [
    "type(_j.keys())"
   ]
  },
  {
   "cell_type": "code",
   "execution_count": 66,
   "metadata": {},
   "outputs": [
    {
     "data": {
      "text/plain": [
       "['dependencies', 'steps']"
      ]
     },
     "execution_count": 66,
     "metadata": {},
     "output_type": "execute_result"
    }
   ],
   "source": [
    "list(_j.keys())"
   ]
  },
  {
   "cell_type": "code",
   "execution_count": 53,
   "metadata": {},
   "outputs": [
    {
     "data": {
      "text/plain": [
       "True"
      ]
     },
     "execution_count": 53,
     "metadata": {},
     "output_type": "execute_result"
    }
   ],
   "source": [
    "isinstance(_j, dict)"
   ]
  },
  {
   "cell_type": "code",
   "execution_count": 65,
   "metadata": {},
   "outputs": [
    {
     "data": {
      "text/plain": [
       "{'dependencies': {'1': ['2'], '2': []},\n",
       " 'steps': [{'conditions': {'pressure': 'Atmospheric pressure',\n",
       "    'solvent': 'Ethanol or methanol',\n",
       "    'temperature': 'Room temperature (20-25 °C)',\n",
       "    'time': '1-2 hours'},\n",
       "   'products': [{'product_metadata': {'chemical_formula': 'C11H17NO3',\n",
       "      'mass': 211.120843404,\n",
       "      'name': ''},\n",
       "     'smiles': 'COc1ccc(OC)c(C(O)C(C)N)c1'}],\n",
       "   'reactants': [{'reactant_metadata': {'chemical_formula': 'C11H15NO5',\n",
       "      'mass': 241.09502258,\n",
       "      'name': ''},\n",
       "     'smiles': 'COc1ccc(OC)c(C(O)C(C)[N+](=O)[O-])c1'}],\n",
       "   'reactionmetrics': [{'closestliterature': 'Reduction of a nitro group to an amine using hydrogen gas and a metal catalyst',\n",
       "     'confidenceestimate': 0.73,\n",
       "     'scalabilityindex': '8'}],\n",
       "   'reagents': [{'reagent_metadata': {'chemical_formula': 'H2',\n",
       "      'mass': 2.015650064,\n",
       "      'name': ''},\n",
       "     'smiles': '[H][H]'}],\n",
       "   'step': '1'},\n",
       "  {'conditions': {'pressure': 'Atmospheric pressure',\n",
       "    'solvent': 'Ethanol',\n",
       "    'temperature': '0-5 °C',\n",
       "    'time': '30 minutes - 2 hours'},\n",
       "   'products': [{'product_metadata': {'chemical_formula': 'C11H15NO5',\n",
       "      'mass': 241.09502258,\n",
       "      'name': ''},\n",
       "     'smiles': 'COc1ccc(OC)c(C(O)C(C)[N+](=O)[O-])c1'}],\n",
       "   'reactants': [{'reactant_metadata': {'chemical_formula': 'C2H5NO2',\n",
       "      'mass': 75.0320284,\n",
       "      'name': ''},\n",
       "     'smiles': 'CC[N+](=O)[O-]'},\n",
       "    {'reactant_metadata': {'chemical_formula': 'C9H10O3',\n",
       "      'mass': 166.06299418,\n",
       "      'name': ''},\n",
       "     'smiles': 'COc1ccc(OC)c(C=O)c1'}],\n",
       "   'reactionmetrics': [{'closestliterature': 'Aldol addition of a nitroalkane to an aromatic aldehyde',\n",
       "     'confidenceestimate': 0.75,\n",
       "     'scalabilityindex': '9'}],\n",
       "   'reagents': [{'reagent_metadata': {'chemical_formula': 'HO-',\n",
       "      'mass': 17.00328823191,\n",
       "      'name': ''},\n",
       "     'smiles': '[OH-]'}],\n",
       "   'step': '2'}]}"
      ]
     },
     "execution_count": 65,
     "metadata": {},
     "output_type": "execute_result"
    }
   ],
   "source": [
    "_j"
   ]
  },
  {
   "cell_type": "code",
   "execution_count": 49,
   "metadata": {},
   "outputs": [
    {
     "data": {
      "text/plain": [
       "False"
      ]
     },
     "execution_count": 49,
     "metadata": {},
     "output_type": "execute_result"
    }
   ],
   "source": [
    "_j.keys() == ['dependencies', 'steps']"
   ]
  },
  {
   "cell_type": "markdown",
   "metadata": {},
   "source": [
    "## OpenAI tests"
   ]
  },
  {
   "cell_type": "markdown",
   "metadata": {},
   "source": [
    "### health"
   ]
  },
  {
   "cell_type": "code",
   "execution_count": null,
   "metadata": {},
   "outputs": [],
   "source": [
    "\n",
    "# OpenAI Health\n",
    "def test_health_openai_m1p1_success():\n",
    "  \n",
    "    url = f\"{BASE_URL}{ENDPOINTS['health']}\"\n",
    "\n",
    "    payload = json.dumps({\n",
    "      \"smiles\": MOLECULE_1,\n",
    "      \"advanced_model\": \"True\",\n",
    "      \"advanced_prompt\": \"True\",\n",
    "      \"model_version\": OPENAI_MODEL})\n",
    "\n",
    "    headers = {\n",
    "      'x-api-key': X_API_KEY,\n",
    "      'Content-Type': 'application/json'\n",
    "    }\n",
    "\n",
    "    response = requests.request(\"GET\", url, headers=headers, data=payload)\n",
    "\n",
    "    assert response.status_code == 200\n",
    "\n",
    "\n",
    "def test_health_openai_m0p1_success():\n",
    "    url = f\"{BASE_URL}{ENDPOINTS['health']}\"\n",
    "\n",
    "    payload = json.dumps({\n",
    "        \"smiles\": MOLECULE_1,\n",
    "        \"advanced_model\": \"False\",\n",
    "        \"advanced_prompt\": \"True\",\n",
    "        \"model_version\": OPENAI_MODEL})\n",
    "\n",
    "    headers = {\n",
    "        'x-api-key': X_API_KEY,\n",
    "        'Content-Type': 'application/json'\n",
    "    }\n",
    "\n",
    "    response = requests.request(\"GET\", url, headers=headers, data=payload)\n",
    "\n",
    "    assert response.status_code == 200\n",
    "\n",
    "\n",
    "def test_health_openai_m1p0_success():\n",
    "    url = f\"{BASE_URL}{ENDPOINTS['health']}\"\n",
    "\n",
    "    payload = json.dumps({\n",
    "        \"smiles\": MOLECULE_1,\n",
    "        \"advanced_model\": \"True\",\n",
    "        \"advanced_prompt\": \"False\",\n",
    "        \"model_version\": OPENAI_MODEL})\n",
    "\n",
    "    headers = {\n",
    "        'x-api-key': X_API_KEY,\n",
    "        'Content-Type': 'application/json'\n",
    "    }\n",
    "\n",
    "    response = requests.request(\"GET\", url, headers=headers, data=payload)\n",
    "\n",
    "    assert response.status_code == 200\n",
    "\n",
    "\n",
    "def test_health_openai_m0p0_success():\n",
    "    url = f\"{BASE_URL}{ENDPOINTS['health']}\"\n",
    "\n",
    "    payload = json.dumps({\n",
    "        \"smiles\": MOLECULE_1,\n",
    "        \"advanced_model\": \"False\",\n",
    "        \"advanced_prompt\": \"False\",\n",
    "        \"model_version\": OPENAI_MODEL})\n",
    "\n",
    "    headers = {\n",
    "        'x-api-key': X_API_KEY,\n",
    "        'Content-Type': 'application/json'\n",
    "    }\n",
    "\n",
    "    response = requests.request(\"GET\", url, headers=headers, data=payload)\n",
    "\n",
    "    assert response.status_code == 200\n"
   ]
  },
  {
   "cell_type": "markdown",
   "metadata": {},
   "source": [
    "### retro synthesis"
   ]
  },
  {
   "cell_type": "markdown",
   "metadata": {},
   "source": [
    "#### success"
   ]
  },
  {
   "cell_type": "code",
   "execution_count": 1,
   "metadata": {},
   "outputs": [],
   "source": [
    "\n",
    "def test_health_openai_m1p1_success():\n",
    "    url = f\"{BASE_URL}{ENDPOINTS['retrosynthesis']}\"\n",
    "\n",
    "    payload = json.dumps({\n",
    "        \"smiles\": MOLECULE_1,\n",
    "        \"advanced_model\": \"True\",\n",
    "        \"advanced_prompt\": \"True\",\n",
    "        \"model_version\": OPENAI_MODEL})\n",
    "\n",
    "    headers = {\n",
    "        'x-api-key': X_API_KEY,\n",
    "        'Content-Type': 'application/json'\n",
    "    }\n",
    "\n",
    "    response = requests.request(\"POST\", url, headers=headers, data=payload)\n",
    "\n",
    "    assert response.status_code == 200\n",
    "\n",
    "\n",
    "def test_health_openai_m1p0_success():\n",
    "    url = f\"{BASE_URL}{ENDPOINTS['retrosynthesis']}\"\n",
    "\n",
    "    payload = json.dumps({\n",
    "        \"smiles\": MOLECULE_1,\n",
    "        \"advanced_model\": \"True\",\n",
    "        \"advanced_prompt\": \"False\",\n",
    "        \"model_version\": OPENAI_MODEL})\n",
    "\n",
    "    headers = {\n",
    "        'x-api-key': X_API_KEY,\n",
    "        'Content-Type': 'application/json'\n",
    "    }\n",
    "\n",
    "    response = requests.request(\"POST\", url, headers=headers, data=payload)\n",
    "\n",
    "    assert response.status_code == 200\n",
    "\n",
    "\n",
    "def test_health_openai_m0p1_success():\n",
    "    url = f\"{BASE_URL}{ENDPOINTS['retrosynthesis']}\"\n",
    "\n",
    "    payload = json.dumps({\n",
    "        \"smiles\": MOLECULE_1,\n",
    "        \"advanced_model\": \"False\",\n",
    "        \"advanced_prompt\": \"True\",\n",
    "        \"model_version\": OPENAI_MODEL})\n",
    "\n",
    "    headers = {\n",
    "        'x-api-key': X_API_KEY,\n",
    "        'Content-Type': 'application/json'\n",
    "    }\n",
    "\n",
    "    response = requests.request(\"POST\", url, headers=headers, data=payload)\n",
    "\n",
    "    assert response.status_code == 200\n",
    "\n",
    "\n",
    "def test_health_openai_m0p0_success():\n",
    "    url = f\"{BASE_URL}{ENDPOINTS['retrosynthesis']}\"\n",
    "\n",
    "    payload = json.dumps({\n",
    "        \"smiles\": MOLECULE_1,\n",
    "        \"advanced_model\": \"False\",\n",
    "        \"advanced_prompt\": \"False\",\n",
    "        \"model_version\": OPENAI_MODEL})\n",
    "\n",
    "    headers = {\n",
    "        'x-api-key': X_API_KEY,\n",
    "        'Content-Type': 'application/json'\n",
    "    }\n",
    "\n",
    "    response = requests.request(\"POST\", url, headers=headers, data=payload)\n",
    "\n",
    "    assert response.status_code == 200\n"
   ]
  },
  {
   "cell_type": "markdown",
   "metadata": {},
   "source": [
    "#### fail"
   ]
  },
  {
   "cell_type": "code",
   "execution_count": null,
   "metadata": {},
   "outputs": [],
   "source": [
    "def test_health_openai_m1p1_fail():\n",
    "    url = f\"{BASE_URL}{ENDPOINTS['retrosynthesis']}\"\n",
    "\n",
    "    payload = json.dumps({\n",
    "        \"smiles\": EMPTY_RESPONSE,\n",
    "        \"advanced_model\": \"True\",\n",
    "        \"advanced_prompt\": \"True\",\n",
    "        \"model_version\": OPENAI_MODEL})\n",
    "\n",
    "    headers = {\n",
    "        'x-api-key': X_API_KEY,\n",
    "        'Content-Type': 'application/json'\n",
    "    }\n",
    "\n",
    "    response = requests.request(\"POST\", url, headers=headers, data=payload)\n",
    "\n",
    "    assert response.status_code == 500\n",
    "\n",
    "\n",
    "def test_health_openai_m1p0_fail():\n",
    "    url = f\"{BASE_URL}{ENDPOINTS['retrosynthesis']}\"\n",
    "\n",
    "    payload = json.dumps({\n",
    "        \"smiles\": EMPTY_RESPONSE,\n",
    "        \"advanced_model\": \"True\",\n",
    "        \"advanced_prompt\": \"False\",\n",
    "        \"model_version\": OPENAI_MODEL})\n",
    "\n",
    "    headers = {\n",
    "        'x-api-key': X_API_KEY,\n",
    "        'Content-Type': 'application/json'\n",
    "    }\n",
    "\n",
    "    response = requests.request(\"POST\", url, headers=headers, data=payload)\n",
    "\n",
    "    assert response.status_code == 500\n",
    "\n",
    "\n",
    "def test_health_openai_m0p1_fail():\n",
    "    url = f\"{BASE_URL}{ENDPOINTS['retrosynthesis']}\"\n",
    "\n",
    "    payload = json.dumps({\n",
    "        \"smiles\": EMPTY_RESPONSE,\n",
    "        \"advanced_model\": \"False\",\n",
    "        \"advanced_prompt\": \"True\",\n",
    "        \"model_version\": OPENAI_MODEL})\n",
    "\n",
    "    headers = {\n",
    "        'x-api-key': X_API_KEY,\n",
    "        'Content-Type': 'application/json'\n",
    "    }\n",
    "\n",
    "    response = requests.request(\"POST\", url, headers=headers, data=payload)\n",
    "\n",
    "    assert response.status_code == 500\n",
    "\n",
    "\n",
    "def test_health_openai_m0p0_fail():\n",
    "    url = f\"{BASE_URL}{ENDPOINTS['retrosynthesis']}\"\n",
    "\n",
    "    payload = json.dumps({\n",
    "        \"smiles\": EMPTY_RESPONSE,\n",
    "        \"advanced_model\": \"False\",\n",
    "        \"advanced_prompt\": \"False\",\n",
    "        \"model_version\": OPENAI_MODEL})\n",
    "\n",
    "    headers = {\n",
    "        'x-api-key': X_API_KEY,\n",
    "        'Content-Type': 'application/json'\n",
    "    }\n",
    "\n",
    "    response = requests.request(\"POST\", url, headers=headers, data=payload)\n",
    "\n",
    "    assert response.status_code == 500\n"
   ]
  },
  {
   "cell_type": "markdown",
   "metadata": {},
   "source": [
    "### Rerun retro"
   ]
  },
  {
   "cell_type": "code",
   "execution_count": null,
   "metadata": {},
   "outputs": [],
   "source": []
  },
  {
   "cell_type": "code",
   "execution_count": null,
   "metadata": {},
   "outputs": [],
   "source": []
  },
  {
   "cell_type": "code",
   "execution_count": 71,
   "metadata": {},
   "outputs": [],
   "source": [
    "from tests.variables_test import MOLECULE_1, BASE_URL, ENDPOINTS, X_API_KEY, OPENAI_MODEL, CLAUDE_ADV_MODEL, EMPTY_RESPONSE"
   ]
  },
  {
   "cell_type": "code",
   "execution_count": 72,
   "metadata": {},
   "outputs": [],
   "source": [
    "DEEPSEEK_FIREWORKS_MODEL = \"fireworks_ai/accounts/fireworks/models/deepseek-r1:adv\"\n",
    "\n",
    "# AZ Model\n",
    "USPTO_MODEL = \"USPTO\"\n",
    "\n",
    "PISTACHIO_MODEL = \"Pistachio_25\"\n"
   ]
  },
  {
   "cell_type": "code",
   "execution_count": 73,
   "metadata": {},
   "outputs": [],
   "source": [
    "url = f\"{BASE_URL}{ENDPOINTS['rerun_retro']}\"\n",
    "\n",
    "payload = json.dumps({\n",
    "    \"smiles\": MOLECULE_1,\n",
    "    \"advanced_model\": \"True\",\n",
    "    \"advanced_prompt\": \"True\",\n",
    "    \"llm\": DEEPSEEK_FIREWORKS_MODEL,\n",
    "    \"model_version\": USPTO_MODEL})\n",
    "\n",
    "headers = {\n",
    "    'x-api-key': X_API_KEY,\n",
    "    'Content-Type': 'application/json'\n",
    "}\n",
    "\n",
    "response = requests.request(\"POST\", url, headers=headers, data=payload)\n",
    "\n",
    "# assert response.status_code == 200\n"
   ]
  },
  {
   "cell_type": "code",
   "execution_count": 85,
   "metadata": {},
   "outputs": [],
   "source": [
    "url = f\"{BASE_URL}{ENDPOINTS['rerun_retro']}\"\n",
    "\n",
    "payload = json.dumps({\n",
    "    \"smiles\": \"\",\n",
    "    \"advanced_model\": \"True\",\n",
    "    \"advanced_prompt\": \"True\",\n",
    "    \"llm\": DEEPSEEK_FIREWORKS_MODEL,\n",
    "    \"model_version\": USPTO_MODEL})\n",
    "\n",
    "headers = {\n",
    "    'x-api-key': X_API_KEY,\n",
    "    'Content-Type': 'application/json'\n",
    "}\n",
    "\n",
    "response = requests.request(\"POST\", url, headers=headers, data=payload)\n"
   ]
  },
  {
   "cell_type": "code",
   "execution_count": 86,
   "metadata": {},
   "outputs": [
    {
     "data": {
      "text/plain": [
       "500"
      ]
     },
     "execution_count": 86,
     "metadata": {},
     "output_type": "execute_result"
    }
   ],
   "source": [
    "response.status_code"
   ]
  },
  {
   "cell_type": "code",
   "execution_count": 87,
   "metadata": {},
   "outputs": [
    {
     "data": {
      "text/plain": [
       "{'error': 'Error in retrosynthesis, Please rerun'}"
      ]
     },
     "execution_count": 87,
     "metadata": {},
     "output_type": "execute_result"
    }
   ],
   "source": [
    "response.json()"
   ]
  },
  {
   "cell_type": "code",
   "execution_count": 88,
   "metadata": {},
   "outputs": [],
   "source": [
    "assert response.json() == {'error': 'Error in retrosynthesis, Please rerun'}\n"
   ]
  },
  {
   "cell_type": "code",
   "execution_count": 74,
   "metadata": {},
   "outputs": [
    {
     "data": {
      "text/plain": [
       "200"
      ]
     },
     "execution_count": 74,
     "metadata": {},
     "output_type": "execute_result"
    }
   ],
   "source": [
    "response.status_code"
   ]
  },
  {
   "cell_type": "code",
   "execution_count": 75,
   "metadata": {},
   "outputs": [
    {
     "data": {
      "text/plain": [
       "{'dependencies': {'1': ['2'], '2': []},\n",
       " 'steps': [{'conditions': {'pressure': 'Atmospheric pressure',\n",
       "    'solvent': 'Ethanol or methanol',\n",
       "    'temperature': 'Room temperature (20-25 °C)',\n",
       "    'time': '1-2 hours'},\n",
       "   'products': [{'product_metadata': {'chemical_formula': 'C11H17NO3',\n",
       "      'mass': 211.120843404,\n",
       "      'name': ''},\n",
       "     'smiles': 'COc1ccc(OC)c(C(O)C(C)N)c1'}],\n",
       "   'reactants': [{'reactant_metadata': {'chemical_formula': 'C11H15NO5',\n",
       "      'mass': 241.09502258,\n",
       "      'name': ''},\n",
       "     'smiles': 'COc1ccc(OC)c(C(O)C(C)[N+](=O)[O-])c1'}],\n",
       "   'reactionmetrics': [{'closestliterature': 'Reduction of a nitro group to an amine using hydrogen gas and a metal catalyst',\n",
       "     'confidenceestimate': 0.73,\n",
       "     'scalabilityindex': '8'}],\n",
       "   'reagents': [{'reagent_metadata': {'chemical_formula': 'H2',\n",
       "      'mass': 2.015650064,\n",
       "      'name': ''},\n",
       "     'smiles': '[H][H]'}],\n",
       "   'step': '1'},\n",
       "  {'conditions': {'pressure': 'Atmospheric pressure',\n",
       "    'solvent': 'Ethanol',\n",
       "    'temperature': '0-5 °C',\n",
       "    'time': '30 minutes - 2 hours'},\n",
       "   'products': [{'product_metadata': {'chemical_formula': 'C11H15NO5',\n",
       "      'mass': 241.09502258,\n",
       "      'name': ''},\n",
       "     'smiles': 'COc1ccc(OC)c(C(O)C(C)[N+](=O)[O-])c1'}],\n",
       "   'reactants': [{'reactant_metadata': {'chemical_formula': 'C2H5NO2',\n",
       "      'mass': 75.0320284,\n",
       "      'name': ''},\n",
       "     'smiles': 'CC[N+](=O)[O-]'},\n",
       "    {'reactant_metadata': {'chemical_formula': 'C9H10O3',\n",
       "      'mass': 166.06299418,\n",
       "      'name': ''},\n",
       "     'smiles': 'COc1ccc(OC)c(C=O)c1'}],\n",
       "   'reactionmetrics': [{'closestliterature': 'Aldol addition of a nitroalkane to an aromatic aldehyde',\n",
       "     'confidenceestimate': 0.75,\n",
       "     'scalabilityindex': '9'}],\n",
       "   'reagents': [{'reagent_metadata': {'chemical_formula': 'HO-',\n",
       "      'mass': 17.00328823191,\n",
       "      'name': ''},\n",
       "     'smiles': '[OH-]'}],\n",
       "   'step': '2'}]}"
      ]
     },
     "execution_count": 75,
     "metadata": {},
     "output_type": "execute_result"
    }
   ],
   "source": [
    "response.json()"
   ]
  },
  {
   "cell_type": "code",
   "execution_count": null,
   "metadata": {},
   "outputs": [],
   "source": [
    "\n",
    "def test_health_openai_m1p1_success():\n",
    "    url = f\"{BASE_URL}{ENDPOINTS['rerun_retro']}\"\n",
    "\n",
    "    payload = json.dumps({\n",
    "        \"smiles\": MOLECULE_1,\n",
    "        \"advanced_model\": \"True\",\n",
    "        \"advanced_prompt\": \"True\",\n",
    "        \"model_version\": OPENAI_MODEL})\n",
    "\n",
    "    headers = {\n",
    "        'x-api-key': X_API_KEY,\n",
    "        'Content-Type': 'application/json'\n",
    "    }\n",
    "\n",
    "    response = requests.request(\"POST\", url, headers=headers, data=payload)\n",
    "\n",
    "    assert response.status_code == 200\n",
    "\n",
    "\n",
    "def test_health_openai_m1p0_success():\n",
    "    url = f\"{BASE_URL}{ENDPOINTS['rerun_retro']}\"\n",
    "\n",
    "    payload = json.dumps({\n",
    "        \"smiles\": MOLECULE_1,\n",
    "        \"advanced_model\": \"True\",\n",
    "        \"advanced_prompt\": \"False\",\n",
    "        \"model_version\": OPENAI_MODEL})\n",
    "\n",
    "    headers = {\n",
    "        'x-api-key': X_API_KEY,\n",
    "        'Content-Type': 'application/json'\n",
    "    }\n",
    "\n",
    "    response = requests.request(\"POST\", url, headers=headers, data=payload)\n",
    "\n",
    "    assert response.status_code == 200\n",
    "\n",
    "\n",
    "def test_health_openai_m0p1_success():\n",
    "    url = f\"{BASE_URL}{ENDPOINTS['rerun_retro']}\"\n",
    "\n",
    "    payload = json.dumps({\n",
    "        \"smiles\": MOLECULE_1,\n",
    "        \"advanced_model\": \"False\",\n",
    "        \"advanced_prompt\": \"True\",\n",
    "        \"model_version\": OPENAI_MODEL})\n",
    "\n",
    "    headers = {\n",
    "        'x-api-key': X_API_KEY,\n",
    "        'Content-Type': 'application/json'\n",
    "    }\n",
    "\n",
    "    response = requests.request(\"POST\", url, headers=headers, data=payload)\n",
    "\n",
    "    assert response.status_code == 200\n",
    "\n",
    "\n",
    "def test_health_openai_m0p0_success():\n",
    "    url = f\"{BASE_URL}{ENDPOINTS['rerun_retro']}\"\n",
    "\n",
    "    payload = json.dumps({\n",
    "        \"smiles\": MOLECULE_1,\n",
    "        \"advanced_model\": \"False\",\n",
    "        \"advanced_prompt\": \"False\",\n",
    "        \"model_version\": OPENAI_MODEL})\n",
    "\n",
    "    headers = {\n",
    "        'x-api-key': X_API_KEY,\n",
    "        'Content-Type': 'application/json'\n",
    "    }\n",
    "\n",
    "    response = requests.request(\"POST\", url, headers=headers, data=payload)\n",
    "\n",
    "    assert response.status_code == 200\n",
    "\n"
   ]
  },
  {
   "cell_type": "code",
   "execution_count": null,
   "metadata": {},
   "outputs": [],
   "source": []
  },
  {
   "cell_type": "markdown",
   "metadata": {},
   "source": [
    "### fails"
   ]
  },
  {
   "cell_type": "code",
   "execution_count": null,
   "metadata": {},
   "outputs": [],
   "source": [
    "\n",
    "def test_health_openai_m1p1_fail():\n",
    "    url = f\"{BASE_URL}{ENDPOINTS['rerun_retro']}\"\n",
    "\n",
    "    payload = json.dumps({\n",
    "        \"smiles\": EMPTY_RESPONSE,\n",
    "        \"advanced_model\": \"True\",\n",
    "        \"advanced_prompt\": \"True\",\n",
    "        \"model_version\": OPENAI_MODEL})\n",
    "\n",
    "    headers = {\n",
    "        'x-api-key': X_API_KEY,\n",
    "        'Content-Type': 'application/json'\n",
    "    }\n",
    "\n",
    "    response = requests.request(\"POST\", url, headers=headers, data=payload)\n",
    "\n",
    "    assert response.status_code == 500\n",
    "\n",
    "\n",
    "def test_health_openai_m1p0_fail():\n",
    "    url = f\"{BASE_URL}{ENDPOINTS['rerun_retro']}\"\n",
    "\n",
    "    payload = json.dumps({\n",
    "        \"smiles\": EMPTY_RESPONSE,\n",
    "        \"advanced_model\": \"True\",\n",
    "        \"advanced_prompt\": \"False\",\n",
    "        \"model_version\": OPENAI_MODEL})\n",
    "\n",
    "    headers = {\n",
    "        'x-api-key': X_API_KEY,\n",
    "        'Content-Type': 'application/json'\n",
    "    }\n",
    "\n",
    "    response = requests.request(\"POST\", url, headers=headers, data=payload)\n",
    "\n",
    "    assert response.status_code == 500\n",
    "\n",
    "\n",
    "def test_health_openai_m0p1_fail():\n",
    "    url = f\"{BASE_URL}{ENDPOINTS['rerun_retro']}\"\n",
    "\n",
    "    payload = json.dumps({\n",
    "        \"smiles\": EMPTY_RESPONSE,\n",
    "        \"advanced_model\": \"False\",\n",
    "        \"advanced_prompt\": \"True\",\n",
    "        \"model_version\": OPENAI_MODEL})\n",
    "\n",
    "    headers = {\n",
    "        'x-api-key': X_API_KEY,\n",
    "        'Content-Type': 'application/json'\n",
    "    }\n",
    "\n",
    "    response = requests.request(\"POST\", url, headers=headers, data=payload)\n",
    "\n",
    "    assert response.status_code == 500\n",
    "\n",
    "\n",
    "def test_health_openai_m0p0_fail():\n",
    "    url = f\"{BASE_URL}{ENDPOINTS['rerun_retro']}\"\n",
    "\n",
    "    payload = json.dumps({\n",
    "        \"smiles\": EMPTY_RESPONSE,\n",
    "        \"advanced_model\": \"False\",\n",
    "        \"advanced_prompt\": \"False\",\n",
    "        \"model_version\": OPENAI_MODEL})\n",
    "\n",
    "    headers = {\n",
    "        'x-api-key': X_API_KEY,\n",
    "        'Content-Type': 'application/json'\n",
    "    }\n",
    "\n",
    "    response = requests.request(\"POST\", url, headers=headers, data=payload)\n",
    "\n",
    "    assert response.status_code == 500\n",
    "\n"
   ]
  },
  {
   "cell_type": "code",
   "execution_count": null,
   "metadata": {},
   "outputs": [],
   "source": []
  },
  {
   "cell_type": "code",
   "execution_count": null,
   "metadata": {},
   "outputs": [],
   "source": []
  },
  {
   "cell_type": "code",
   "execution_count": null,
   "metadata": {},
   "outputs": [],
   "source": []
  }
 ],
 "metadata": {
  "kernelspec": {
   "display_name": "test_env_si_challenge",
   "language": "python",
   "name": "python3"
  },
  "language_info": {
   "codemirror_mode": {
    "name": "ipython",
    "version": 3
   },
   "file_extension": ".py",
   "mimetype": "text/x-python",
   "name": "python",
   "nbconvert_exporter": "python",
   "pygments_lexer": "ipython3",
   "version": "3.9.21"
  }
 },
 "nbformat": 4,
 "nbformat_minor": 2
}
