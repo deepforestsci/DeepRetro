{
 "cells": [
  {
   "cell_type": "code",
   "execution_count": 1,
   "metadata": {},
   "outputs": [],
   "source": [
    "import requests"
   ]
  },
  {
   "cell_type": "code",
   "execution_count": 2,
   "metadata": {},
   "outputs": [],
   "source": [
    "base_url = 'ec2-3-17-191-215.us-east-2.compute.amazonaws.com:5000'"
   ]
  },
  {
   "cell_type": "code",
   "execution_count": 3,
   "metadata": {},
   "outputs": [],
   "source": [
    "retrosynthesis = \"/api/retrosynthesis\"\n",
    "health = \"/api/health\"\n",
    "retro_rerun = '/api/rerun_retrosynthesis'"
   ]
  },
  {
   "cell_type": "code",
   "execution_count": 4,
   "metadata": {},
   "outputs": [],
   "source": [
    "request_post = \"POST\""
   ]
  },
  {
   "cell_type": "code",
   "execution_count": 5,
   "metadata": {},
   "outputs": [],
   "source": [
    "API_KEY = \"your-secure-api-key\""
   ]
  },
  {
   "cell_type": "code",
   "execution_count": 6,
   "metadata": {},
   "outputs": [],
   "source": [
    "from flask import Flask, jsonify, request\n",
    "from flask_cors import CORS\n",
    "import traceback"
   ]
  },
  {
   "cell_type": "code",
   "execution_count": 7,
   "metadata": {},
   "outputs": [
    {
     "ename": "RuntimeError",
     "evalue": "Working outside of request context.\n\nThis typically means that you attempted to use functionality that needed\nan active HTTP request. Consult the documentation on testing for\ninformation about how to avoid this problem.",
     "output_type": "error",
     "traceback": [
      "\u001b[1;31m---------------------------------------------------------------------------\u001b[0m",
      "\u001b[1;31mRuntimeError\u001b[0m                              Traceback (most recent call last)",
      "Cell \u001b[1;32mIn[7], line 1\u001b[0m\n\u001b[1;32m----> 1\u001b[0m api_key \u001b[38;5;241m=\u001b[39m \u001b[43mrequest\u001b[49m\u001b[38;5;241;43m.\u001b[39;49m\u001b[43mheaders\u001b[49m\u001b[38;5;241m.\u001b[39mget(\u001b[38;5;124m'\u001b[39m\u001b[38;5;124mX-API-KEY\u001b[39m\u001b[38;5;124m'\u001b[39m)\n",
      "File \u001b[1;32mc:\\Users\\irahu\\anaconda3\\envs\\dfs_si_challenge\\lib\\site-packages\\werkzeug\\local.py:318\u001b[0m, in \u001b[0;36m_ProxyLookup.__get__\u001b[1;34m(self, instance, owner)\u001b[0m\n\u001b[0;32m    315\u001b[0m     \u001b[38;5;28;01mreturn\u001b[39;00m \u001b[38;5;28mself\u001b[39m\n\u001b[0;32m    317\u001b[0m \u001b[38;5;28;01mtry\u001b[39;00m:\n\u001b[1;32m--> 318\u001b[0m     obj \u001b[38;5;241m=\u001b[39m \u001b[43minstance\u001b[49m\u001b[38;5;241;43m.\u001b[39;49m\u001b[43m_get_current_object\u001b[49m\u001b[43m(\u001b[49m\u001b[43m)\u001b[49m\n\u001b[0;32m    319\u001b[0m \u001b[38;5;28;01mexcept\u001b[39;00m \u001b[38;5;167;01mRuntimeError\u001b[39;00m:\n\u001b[0;32m    320\u001b[0m     \u001b[38;5;28;01mif\u001b[39;00m \u001b[38;5;28mself\u001b[39m\u001b[38;5;241m.\u001b[39mfallback \u001b[38;5;129;01mis\u001b[39;00m \u001b[38;5;28;01mNone\u001b[39;00m:\n",
      "File \u001b[1;32mc:\\Users\\irahu\\anaconda3\\envs\\dfs_si_challenge\\lib\\site-packages\\werkzeug\\local.py:519\u001b[0m, in \u001b[0;36mLocalProxy.__init__.<locals>._get_current_object\u001b[1;34m()\u001b[0m\n\u001b[0;32m    517\u001b[0m     obj \u001b[38;5;241m=\u001b[39m local\u001b[38;5;241m.\u001b[39mget()\n\u001b[0;32m    518\u001b[0m \u001b[38;5;28;01mexcept\u001b[39;00m \u001b[38;5;167;01mLookupError\u001b[39;00m:\n\u001b[1;32m--> 519\u001b[0m     \u001b[38;5;28;01mraise\u001b[39;00m \u001b[38;5;167;01mRuntimeError\u001b[39;00m(unbound_message) \u001b[38;5;28;01mfrom\u001b[39;00m\u001b[38;5;250m \u001b[39m\u001b[38;5;28;01mNone\u001b[39;00m\n\u001b[0;32m    521\u001b[0m \u001b[38;5;28;01mreturn\u001b[39;00m get_name(obj)\n",
      "\u001b[1;31mRuntimeError\u001b[0m: Working outside of request context.\n\nThis typically means that you attempted to use functionality that needed\nan active HTTP request. Consult the documentation on testing for\ninformation about how to avoid this problem."
     ]
    }
   ],
   "source": [
    "api_key = request.headers.get('X-API-KEY')"
   ]
  },
  {
   "cell_type": "code",
   "execution_count": 10,
   "metadata": {},
   "outputs": [
    {
     "name": "stdout",
     "output_type": "stream",
     "text": [
      "{\n",
      "  \"dependencies\": {\n",
      "    \"1\": [\n",
      "      \"2\"\n",
      "    ],\n",
      "    \"2\": []\n",
      "  },\n",
      "  \"steps\": [\n",
      "    {\n",
      "      \"conditions\": {\n",
      "        \"pressure\": \"Atmospheric pressure\",\n",
      "        \"solvent\": \"Ethanol or methanol\",\n",
      "        \"temperature\": \"Room temperature (20-25 \\u00b0C)\",\n",
      "        \"time\": \"1-2 hours\"\n",
      "      },\n",
      "      \"products\": [\n",
      "        {\n",
      "          \"product_metadata\": {\n",
      "            \"chemical_formula\": \"C11H17NO3\",\n",
      "            \"mass\": 211.120843404,\n",
      "            \"name\": \"\"\n",
      "          },\n",
      "          \"smiles\": \"COc1ccc(OC)c(C(O)C(C)N)c1\"\n",
      "        }\n",
      "      ],\n",
      "      \"reactants\": [\n",
      "        {\n",
      "          \"reactant_metadata\": {\n",
      "            \"chemical_formula\": \"C11H15NO5\",\n",
      "            \"mass\": 241.09502258,\n",
      "            \"name\": \"\"\n",
      "          },\n",
      "          \"smiles\": \"COc1ccc(OC)c(C(O)C(C)[N+](=O)[O-])c1\"\n",
      "        }\n",
      "      ],\n",
      "      \"reactionmetrics\": [\n",
      "        {\n",
      "          \"closestliterature\": \"Reduction of a nitro group to an amine using hydrogen gas and a metal catalyst\",\n",
      "          \"confidenceestimate\": 0.73,\n",
      "          \"scalabilityindex\": \"8\"\n",
      "        }\n",
      "      ],\n",
      "      \"reagents\": [\n",
      "        {\n",
      "          \"reagent_metadata\": {\n",
      "            \"chemical_formula\": \"H2\",\n",
      "            \"mass\": 2.015650064,\n",
      "            \"name\": \"\"\n",
      "          },\n",
      "          \"smiles\": \"[H][H]\"\n",
      "        }\n",
      "      ],\n",
      "      \"step\": \"1\"\n",
      "    },\n",
      "    {\n",
      "      \"conditions\": {\n",
      "        \"pressure\": \"Atmospheric pressure\",\n",
      "        \"solvent\": \"Ethanol\",\n",
      "        \"temperature\": \"0-5 \\u00b0C\",\n",
      "        \"time\": \"30 minutes - 2 hours\"\n",
      "      },\n",
      "      \"products\": [\n",
      "        {\n",
      "          \"product_metadata\": {\n",
      "            \"chemical_formula\": \"C11H15NO5\",\n",
      "            \"mass\": 241.09502258,\n",
      "            \"name\": \"\"\n",
      "          },\n",
      "          \"smiles\": \"COc1ccc(OC)c(C(O)C(C)[N+](=O)[O-])c1\"\n",
      "        }\n",
      "      ],\n",
      "      \"reactants\": [\n",
      "        {\n",
      "          \"reactant_metadata\": {\n",
      "            \"chemical_formula\": \"C2H5NO2\",\n",
      "            \"mass\": 75.0320284,\n",
      "            \"name\": \"\"\n",
      "          },\n",
      "          \"smiles\": \"CC[N+](=O)[O-]\"\n",
      "        },\n",
      "        {\n",
      "          \"reactant_metadata\": {\n",
      "            \"chemical_formula\": \"C9H10O3\",\n",
      "            \"mass\": 166.06299418,\n",
      "            \"name\": \"\"\n",
      "          },\n",
      "          \"smiles\": \"COc1ccc(OC)c(C=O)c1\"\n",
      "        }\n",
      "      ],\n",
      "      \"reactionmetrics\": [\n",
      "        {\n",
      "          \"closestliterature\": \"Aldol addition of a nitroalkane to an aromatic aldehyde\",\n",
      "          \"confidenceestimate\": 0.75,\n",
      "          \"scalabilityindex\": \"9\"\n",
      "        }\n",
      "      ],\n",
      "      \"reagents\": [\n",
      "        {\n",
      "          \"reagent_metadata\": {\n",
      "            \"chemical_formula\": \"HO-\",\n",
      "            \"mass\": 17.00328823191,\n",
      "            \"name\": \"\"\n",
      "          },\n",
      "          \"smiles\": \"[OH-]\"\n",
      "        }\n",
      "      ],\n",
      "      \"step\": \"2\"\n",
      "    }\n",
      "  ]\n",
      "}\n",
      "\n"
     ]
    }
   ],
   "source": [
    "import requests\n",
    "import json\n",
    "\n",
    "url = \"http://ec2-3-17-191-215.us-east-2.compute.amazonaws.com:5000/api/retrosynthesis\"\n",
    "\n",
    "payload = json.dumps({\n",
    "  \"smiles\": \"COC1=CC(C(O)C(C)N)=C(OC)C=C1\",\n",
    "  \"advanced_model\": \"True\",\n",
    "  \"advanced_prompt\": \"True\",\n",
    "  \"model_version\": \"gpt-4o\"\n",
    "})\n",
    "headers = {\n",
    "  'x-api-key': 'your-secure-api-key',\n",
    "  'Content-Type': 'application/json'\n",
    "}\n",
    "\n",
    "response = requests.request(\"POST\", url, headers=headers, data=payload)\n",
    "\n",
    "print(response.text)\n"
   ]
  },
  {
   "cell_type": "code",
   "execution_count": null,
   "metadata": {},
   "outputs": [],
   "source": []
  }
 ],
 "metadata": {
  "kernelspec": {
   "display_name": "test_env_si_challenge",
   "language": "python",
   "name": "python3"
  },
  "language_info": {
   "codemirror_mode": {
    "name": "ipython",
    "version": 3
   },
   "file_extension": ".py",
   "mimetype": "text/x-python",
   "name": "python",
   "nbconvert_exporter": "python",
   "pygments_lexer": "ipython3",
   "version": "3.9.21"
  }
 },
 "nbformat": 4,
 "nbformat_minor": 2
}
