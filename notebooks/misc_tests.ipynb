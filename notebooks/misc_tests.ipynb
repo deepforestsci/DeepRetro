{
 "cells": [
  {
   "cell_type": "code",
   "execution_count": 1,
   "metadata": {},
   "outputs": [],
   "source": [
    "from litellm import completion\n",
    "from typing import Optional\n",
    "import litellm\n",
    "from dotenv import load_dotenv\n",
    "import rootutils\n",
    "\n",
    "root_path = rootutils.setup_root(\".\", indicator=\".project-root\", pythonpath=True)"
   ]
  },
  {
   "cell_type": "code",
   "execution_count": 2,
   "metadata": {},
   "outputs": [
    {
     "data": {
      "text/plain": [
       "WindowsPath('C:/Users/irahu/git_workspace/recursiveLLM')"
      ]
     },
     "execution_count": 2,
     "metadata": {},
     "output_type": "execute_result"
    }
   ],
   "source": [
    "root_path"
   ]
  },
  {
   "cell_type": "markdown",
   "metadata": {},
   "source": [
    "## Imports"
   ]
  },
  {
   "cell_type": "code",
   "execution_count": 3,
   "metadata": {},
   "outputs": [],
   "source": [
    "# from tests.variables_test import CLAUDE_ADV_MODEL\n",
    "# from scipy.sparse import linalg\n",
    "from src.prithvi import run_prithvi"
   ]
  },
  {
   "cell_type": "code",
   "execution_count": 4,
   "metadata": {},
   "outputs": [],
   "source": [
    "DEEPSEEK_FIREWORKS_MODEL = \"fireworks_ai/accounts/fireworks/models/deepseek-r1:adv\"\n",
    "molecule = \"NC(=O)C1=NC(F)=CN=C1O\""
   ]
  },
  {
   "cell_type": "code",
   "execution_count": null,
   "metadata": {},
   "outputs": [],
   "source": [
    "\"\"\" Module to run prithvi retrosynthesis on a molecule \"\"\"\n",
    "import time\n",
    "import os\n",
    "import rootutils\n",
    "import structlog\n",
    "\n",
    "from src.utils.parse import format_output\n",
    "from src.rec_prithvi import rec_run_prithvi\n",
    "from src.utils.job_context import logger as context_logger\n",
    "from src.utils.custom_logging import add_job_specific_handler\n",
    "from src.metadata import reagent_agent, conditions_agent, literature_agent\n",
    "\n",
    "root_dir = rootutils.setup_root(__file__,\n",
    "                                indicator=\".project-root\",\n",
    "                                pythonpath=True)\n",
    "\n",
    "date_dir = f'{root_dir}/logs/{time.strftime(\"%Y-%m-%d\")}'\n",
    "\n",
    "ENABLE_LOGGING = False if os.getenv(\"ENABLE_LOGGING\",\n",
    "                                    \"true\").lower() == \"false\" else True\n",
    "\n",
    "\n",
    "def log_message(message: str, logger=None):\n",
    "    \"\"\"Log the message\n",
    "\n",
    "    Parameters\n",
    "    ----------\n",
    "    message : str\n",
    "        The message to be logged\n",
    "    logger : _type_, optional\n",
    "        The logger object, by default None\n",
    "\n",
    "    Returns\n",
    "    -------\n",
    "    None\n",
    "    \"\"\"\n",
    "    if logger is not None:\n",
    "        logger.info(message)\n",
    "    else:\n",
    "        print(message)\n",
    "\n",
    "\n",
    "def run_prithvi(molecule: str,\n",
    "                llm=\"claude-3-opus-20240229\",\n",
    "                az_model: str = \"USPTO\") -> dict:\n",
    "    \"\"\"Run prithvi services to generate retrosynthesis on a molecule.\n",
    "\n",
    "    Parameters\n",
    "    ----------\n",
    "    molecule : str\n",
    "        SMILE String of the molecule.\n",
    "    llm : str, optional\n",
    "        LLM Model, by default \"claude-3-opus-20240229\"\n",
    "\n",
    "    Returns\n",
    "    -------\n",
    "    dict\n",
    "        Result after running prithvi.\n",
    "    \"\"\"\n",
    "\n",
    "    logger = context_logger.get() if ENABLE_LOGGING else None\n",
    "    log_message(f\"Calling {llm} with molecule: {molecule}\", logger)\n",
    "\n",
    "    # Generate a unique job ID using timestamp and a random suffix\n",
    "    job_id = f\"{time.strftime('%Y%m%d_%H%M%S')}_{os.getpid()}\"\n",
    "\n",
    "    job_log_file = f\"{date_dir}/job_{job_id}.log\"\n",
    "    log = structlog.get_logger().bind(job_id=job_id)\n",
    "    # Set the logger in the context variable\n",
    "    token = context_logger.set(log)\n",
    "\n",
    "    # Add job-specific handler\n",
    "    handler = add_job_specific_handler(log, job_id)\n",
    "    # log.info(f\"Starting new synthesis job {job_id} for molecule {molecule}\")\n",
    "    log_message(f\"Starting new synthesis job {job_id} for molecule {molecule}\")\n",
    "\n",
    "    try:\n",
    "        result_dict, _ = rec_run_prithvi(molecule=molecule,\n",
    "                                         job_id=job_id,\n",
    "                                         llm=llm,\n",
    "                                         az_model=az_model)\n",
    "        output_data = format_output(result_dict)\n",
    "        output_data = add_metadata(output_data)\n",
    "        return output_data\n",
    "    finally:\n",
    "        # Clean up handlers\n",
    "        log._logger.removeHandler(handler)\n",
    "        handler.close()\n",
    "        context_logger.reset(token)\n",
    "\n",
    "\n",
    "def add_metadata(output_data: dict) -> dict:\n",
    "    \"\"\"method to add metadata to reaction metrics\n",
    "\n",
    "    Parameters\n",
    "    ----------\n",
    "    output_data : dict\n",
    "        json output without metadata\n",
    "\n",
    "    Returns\n",
    "    -------\n",
    "    dict\n",
    "        json output with metadata\n",
    "    \"\"\"\n",
    "    for idx, step in enumerate(output_data['steps']):\n",
    "        status, reagents = reagent_agent(step['reactants'], step['products'])\n",
    "        output_data['steps'][idx]['reagents'].extend(reagents)\n",
    "\n",
    "        status, conditions = conditions_agent(step['reactants'],\n",
    "                                              step['products'],\n",
    "                                              step['reagents'])\n",
    "        output_data['steps'][idx]['conditions'] = conditions\n",
    "\n",
    "        status, literature = literature_agent(step['reactants'],\n",
    "                                              step['products'],\n",
    "                                              step['reagents'],\n",
    "                                              step['conditions'])\n",
    "        output_data['steps'][idx]['reactionmetrics'][0][\n",
    "            'closestliterature'] = literature\n",
    "\n",
    "    return output_data\n"
   ]
  },
  {
   "cell_type": "code",
   "execution_count": null,
   "metadata": {},
   "outputs": [],
   "source": [
    "\"\"\" Recursive function to run Prithvi on a molecule \"\"\"\n",
    "\n",
    "from src.utils.llm import llm_pipeline\n",
    "from src.utils.az import run_az\n",
    "from src.utils.job_context import logger as context_logger\n",
    "\n",
    "\n",
    "def rec_run_prithvi(molecule: str,\n",
    "                    job_id: str,\n",
    "                    llm: str = \"claude-3-opus-20240229\",\n",
    "                    az_model: str = \"USPTO\") -> tuple[dict, bool]:\n",
    "    \"\"\"Recursive function to run Prithvi on a molecule\n",
    "\n",
    "    Parameters\n",
    "    ----------\n",
    "    molecule : str\n",
    "        Molecule SMILES\n",
    "    job_id : str\n",
    "        Job ID\n",
    "    llm : str, optional\n",
    "        LLM to be used, by default \"claude-3-opus-20240229\"\n",
    "\n",
    "    Returns\n",
    "    -------\n",
    "    tuple(dict, bool)\n",
    "        result_dict: result of retrosynthesis.\n",
    "        solved: boolean value indicating if the molecule was solved.\n",
    "    \"\"\"\n",
    "    solved, result_dict = run_az(smiles=molecule, az_model=az_model)\n",
    "    result_dict = result_dict[0]\n",
    "    logger = context_logger.get()\n",
    "    if not solved:\n",
    "        logger.info(f\"AZ failed for {molecule}, running LLM\")\n",
    "        out_pathways, out_explained, out_confidence = llm_pipeline(\n",
    "            molecule, llm)\n",
    "        result_dict = {\n",
    "            'type':\n",
    "            'mol',\n",
    "            'smiles':\n",
    "            molecule,\n",
    "            # 'confidence': out_confidence,\n",
    "            \"is_chemical\":\n",
    "            True,\n",
    "            \"in_stock\":\n",
    "            False,\n",
    "            'children': [{\n",
    "                \"type\": \"reaction\",\n",
    "                \"is_reaction\": True,\n",
    "                \"metadata\": {\n",
    "                    \"policy_probability\": out_confidence,\n",
    "                },\n",
    "                \"children\": []\n",
    "            }]\n",
    "        }\n",
    "        logger.info(f\"LLM returned {out_pathways}\")\n",
    "        logger.info(f\"LLM explained {out_explained}\")\n",
    "        for pathway in out_pathways:\n",
    "            if isinstance(pathway, list):\n",
    "                temp_stat = []\n",
    "                for mol in pathway:\n",
    "                    res, stat = rec_run_prithvi(mol, job_id, llm, az_model=az_model)\n",
    "                    if stat:\n",
    "                        temp_stat.append(True)\n",
    "                        result_dict['children'][0]['children'].append(res)\n",
    "                logger.info(f\"temp_stat: {temp_stat}\")\n",
    "                if all(temp_stat):\n",
    "                    solved = True\n",
    "            else:\n",
    "                res, solved = rec_run_prithvi(pathway, job_id, llm, az_model=az_model)\n",
    "                result_dict['children'][0]['children'].append(res)\n",
    "            if solved:\n",
    "                logger.info('breaking')\n",
    "                break\n",
    "    else:\n",
    "        logger.info(f\"AZ solved {molecule}\")\n",
    "    # print(f\"Solved : {solved}, Returning {result_dict}\")\n",
    "    return result_dict, solved\n"
   ]
  },
  {
   "cell_type": "code",
   "execution_count": 14,
   "metadata": {},
   "outputs": [
    {
     "ename": "AttributeError",
     "evalue": "'PrintLogger' object has no attribute 'addHandler'",
     "output_type": "error",
     "traceback": [
      "\u001b[1;31m---------------------------------------------------------------------------\u001b[0m",
      "\u001b[1;31mAttributeError\u001b[0m                            Traceback (most recent call last)",
      "Cell \u001b[1;32mIn[14], line 1\u001b[0m\n\u001b[1;32m----> 1\u001b[0m res \u001b[38;5;241m=\u001b[39m \u001b[43mrun_prithvi\u001b[49m\u001b[43m(\u001b[49m\u001b[43mmolecule\u001b[49m\u001b[38;5;241;43m=\u001b[39;49m\u001b[43mmolecule\u001b[49m\u001b[43m,\u001b[49m\u001b[43m \u001b[49m\u001b[43mllm\u001b[49m\u001b[38;5;241;43m=\u001b[39;49m\u001b[43mDEEPSEEK_FIREWORKS_MODEL\u001b[49m\u001b[43m,\u001b[49m\u001b[43m \u001b[49m\u001b[43maz_model\u001b[49m\u001b[38;5;241;43m=\u001b[39;49m\u001b[38;5;124;43m\"\u001b[39;49m\u001b[38;5;124;43mUSPTO\u001b[39;49m\u001b[38;5;124;43m\"\u001b[39;49m\u001b[43m)\u001b[49m\n",
      "File \u001b[1;32m~\\git_workspace\\recursiveLLM\\src\\prithvi.py:47\u001b[0m, in \u001b[0;36mrun_prithvi\u001b[1;34m(molecule, llm, az_model)\u001b[0m\n\u001b[0;32m     44\u001b[0m token \u001b[38;5;241m=\u001b[39m context_logger\u001b[38;5;241m.\u001b[39mset(log)\n\u001b[0;32m     46\u001b[0m \u001b[38;5;66;03m# Add job-specific handler\u001b[39;00m\n\u001b[1;32m---> 47\u001b[0m handler \u001b[38;5;241m=\u001b[39m \u001b[43madd_job_specific_handler\u001b[49m\u001b[43m(\u001b[49m\u001b[43mlog\u001b[49m\u001b[43m,\u001b[49m\u001b[43m \u001b[49m\u001b[43mjob_id\u001b[49m\u001b[43m)\u001b[49m\n\u001b[0;32m     48\u001b[0m log\u001b[38;5;241m.\u001b[39minfo(\u001b[38;5;124mf\u001b[39m\u001b[38;5;124m\"\u001b[39m\u001b[38;5;124mStarting new synthesis job \u001b[39m\u001b[38;5;132;01m{\u001b[39;00mjob_id\u001b[38;5;132;01m}\u001b[39;00m\u001b[38;5;124m for molecule \u001b[39m\u001b[38;5;132;01m{\u001b[39;00mmolecule\u001b[38;5;132;01m}\u001b[39;00m\u001b[38;5;124m\"\u001b[39m)\n\u001b[0;32m     50\u001b[0m \u001b[38;5;28;01mtry\u001b[39;00m:\n",
      "File \u001b[1;32m~\\git_workspace\\recursiveLLM\\src\\utils\\custom_logging.py:66\u001b[0m, in \u001b[0;36madd_job_specific_handler\u001b[1;34m(logger, job_id)\u001b[0m\n\u001b[0;32m     63\u001b[0m formatter \u001b[38;5;241m=\u001b[39m ProcessorFormatter(\n\u001b[0;32m     64\u001b[0m     processor\u001b[38;5;241m=\u001b[39mstructlog\u001b[38;5;241m.\u001b[39mdev\u001b[38;5;241m.\u001b[39mConsoleRenderer(colors\u001b[38;5;241m=\u001b[39m\u001b[38;5;28;01mFalse\u001b[39;00m), )\n\u001b[0;32m     65\u001b[0m handler\u001b[38;5;241m.\u001b[39msetFormatter(formatter)\n\u001b[1;32m---> 66\u001b[0m \u001b[43mlogger\u001b[49m\u001b[38;5;241;43m.\u001b[39;49m\u001b[43m_logger\u001b[49m\u001b[38;5;241;43m.\u001b[39;49m\u001b[43maddHandler\u001b[49m(handler)\n\u001b[0;32m     67\u001b[0m \u001b[38;5;28;01mreturn\u001b[39;00m handler\n",
      "\u001b[1;31mAttributeError\u001b[0m: 'PrintLogger' object has no attribute 'addHandler'"
     ]
    }
   ],
   "source": [
    "res = run_prithvi(molecule=molecule, llm=DEEPSEEK_FIREWORKS_MODEL, az_model=\"USPTO\")\n"
   ]
  },
  {
   "cell_type": "code",
   "execution_count": null,
   "metadata": {},
   "outputs": [],
   "source": []
  },
  {
   "cell_type": "code",
   "execution_count": null,
   "metadata": {},
   "outputs": [],
   "source": []
  },
  {
   "cell_type": "code",
   "execution_count": null,
   "metadata": {},
   "outputs": [],
   "source": []
  },
  {
   "cell_type": "code",
   "execution_count": null,
   "metadata": {},
   "outputs": [],
   "source": []
  },
  {
   "cell_type": "code",
   "execution_count": null,
   "metadata": {},
   "outputs": [],
   "source": []
  },
  {
   "cell_type": "markdown",
   "metadata": {},
   "source": [
    "# New tests"
   ]
  },
  {
   "cell_type": "code",
   "execution_count": 5,
   "metadata": {},
   "outputs": [],
   "source": [
    "from src.prithvi import run_prithvi, add_metadata"
   ]
  },
  {
   "cell_type": "code",
   "execution_count": 17,
   "metadata": {},
   "outputs": [],
   "source": [
    "import pytest\n",
    "from unittest import mock as mock\n",
    "from unittest.mock import patch, MagicMock"
   ]
  },
  {
   "cell_type": "code",
   "execution_count": 8,
   "metadata": {},
   "outputs": [],
   "source": [
    "@pytest.fixture\n",
    "def mock_context_logger():\n",
    "    with patch('src.prithvi.context_logger') as mock_logger:\n",
    "        yield mock_logger"
   ]
  },
  {
   "cell_type": "code",
   "execution_count": 9,
   "metadata": {},
   "outputs": [],
   "source": [
    "@pytest.fixture\n",
    "def mock_structlog():\n",
    "    with patch('src.prithvi.structlog') as mock_log:\n",
    "        yield mock_log"
   ]
  },
  {
   "cell_type": "code",
   "execution_count": 10,
   "metadata": {},
   "outputs": [],
   "source": [
    "@pytest.fixture\n",
    "def mock_add_job_specific_handler():\n",
    "    with patch('src.prithvi.add_job_specific_handler') as mock_handler:\n",
    "        yield mock_handler"
   ]
  },
  {
   "cell_type": "code",
   "execution_count": 11,
   "metadata": {},
   "outputs": [],
   "source": [
    "@pytest.fixture\n",
    "def mock_rec_run_prithvi():\n",
    "    with patch('src.prithvi.rec_run_prithvi') as mock_run:\n",
    "        yield mock_run"
   ]
  },
  {
   "cell_type": "code",
   "execution_count": 12,
   "metadata": {},
   "outputs": [],
   "source": [
    "@pytest.fixture\n",
    "def mock_format_output():\n",
    "    with patch('src.prithvi.format_output') as mock_format:\n",
    "        yield mock_format"
   ]
  },
  {
   "cell_type": "code",
   "execution_count": 13,
   "metadata": {},
   "outputs": [],
   "source": [
    "MOLECULE = \"NC(=O)C1=NC(F)=CN=C1O\""
   ]
  },
  {
   "cell_type": "code",
   "execution_count": null,
   "metadata": {},
   "outputs": [],
   "source": [
    "def test_run_prithvi_success(mock_context_logger, mock_structlog, mock_add_job_specific_handler, mock_rec_run_prithvi, mock_format_output):\n",
    "    \n",
    "    mock_rec_run_prithvi.return_value = ({'steps': []}, None)\n",
    "    mock_format_output.return_value = {'steps': []}\n",
    "    mock_add_job_specific_handler.return_value = MagicMock()\n",
    "\n",
    "    result = run_prithvi(molecule=MOLECULE)\n",
    "\n",
    "    assert result == {'steps': []}\n",
    "    mock_rec_run_prithvi.assert_called_once()\n",
    "    mock_format_output.assert_called_once()"
   ]
  },
  {
   "cell_type": "code",
   "execution_count": null,
   "metadata": {},
   "outputs": [],
   "source": [
    "mock_rec_run_prithvi.return_value = ({'steps': []}, None)\n",
    "mock_format_output.return_value = {'steps': []}\n"
   ]
  },
  {
   "cell_type": "code",
   "execution_count": null,
   "metadata": {},
   "outputs": [],
   "source": [
    "# @mock.patch(\"src.prithvi.run_prithvi\")\n",
    "def test_run_prithvi(mock_structlog, mock_context_logger, mock_add_job_specific_handler, mock_rec_run_prithvi):\n",
    "\n",
    "    assert isinstance(result, dict)\n",
    "    assert 'steps' in result"
   ]
  },
  {
   "cell_type": "code",
   "execution_count": null,
   "metadata": {},
   "outputs": [],
   "source": []
  },
  {
   "cell_type": "code",
   "execution_count": null,
   "metadata": {},
   "outputs": [],
   "source": []
  },
  {
   "cell_type": "code",
   "execution_count": 8,
   "metadata": {},
   "outputs": [
    {
     "ename": "AttributeError",
     "evalue": "'PrintLogger' object has no attribute 'addHandler'",
     "output_type": "error",
     "traceback": [
      "\u001b[1;31m---------------------------------------------------------------------------\u001b[0m",
      "\u001b[1;31mAttributeError\u001b[0m                            Traceback (most recent call last)",
      "Cell \u001b[1;32mIn[8], line 1\u001b[0m\n\u001b[1;32m----> 1\u001b[0m output_data \u001b[38;5;241m=\u001b[39m \u001b[43mrun_prithvi\u001b[49m\u001b[43m(\u001b[49m\u001b[38;5;124;43m\"\u001b[39;49m\u001b[38;5;124;43mNC(=O)C1=NC(F)=CN=C1O\u001b[39;49m\u001b[38;5;124;43m\"\u001b[39;49m\u001b[43m,\u001b[49m\u001b[43m \u001b[49m\u001b[43mllm\u001b[49m\u001b[38;5;241;43m=\u001b[39;49m\u001b[38;5;124;43m\"\u001b[39;49m\u001b[38;5;124;43mclaude-3-opus-20240229\u001b[39;49m\u001b[38;5;124;43m\"\u001b[39;49m\u001b[43m,\u001b[49m\u001b[43m \u001b[49m\u001b[43maz_model\u001b[49m\u001b[38;5;241;43m=\u001b[39;49m\u001b[38;5;124;43m\"\u001b[39;49m\u001b[38;5;124;43mUSPTO\u001b[39;49m\u001b[38;5;124;43m\"\u001b[39;49m\u001b[43m)\u001b[49m\n",
      "File \u001b[1;32m~\\git_workspace\\recursiveLLM\\src\\prithvi.py:49\u001b[0m, in \u001b[0;36mrun_prithvi\u001b[1;34m(molecule, llm, az_model)\u001b[0m\n\u001b[0;32m     46\u001b[0m token \u001b[38;5;241m=\u001b[39m context_logger\u001b[38;5;241m.\u001b[39mset(log)\n\u001b[0;32m     48\u001b[0m \u001b[38;5;66;03m# Add job-specific handler\u001b[39;00m\n\u001b[1;32m---> 49\u001b[0m handler \u001b[38;5;241m=\u001b[39m \u001b[43madd_job_specific_handler\u001b[49m\u001b[43m(\u001b[49m\u001b[43mlog\u001b[49m\u001b[43m,\u001b[49m\u001b[43m \u001b[49m\u001b[43mjob_id\u001b[49m\u001b[43m)\u001b[49m\n\u001b[0;32m     50\u001b[0m log\u001b[38;5;241m.\u001b[39minfo(\u001b[38;5;124mf\u001b[39m\u001b[38;5;124m\"\u001b[39m\u001b[38;5;124mStarting new synthesis job \u001b[39m\u001b[38;5;132;01m{\u001b[39;00mjob_id\u001b[38;5;132;01m}\u001b[39;00m\u001b[38;5;124m for molecule \u001b[39m\u001b[38;5;132;01m{\u001b[39;00mmolecule\u001b[38;5;132;01m}\u001b[39;00m\u001b[38;5;124m\"\u001b[39m)\n\u001b[0;32m     52\u001b[0m \u001b[38;5;28;01mtry\u001b[39;00m:\n",
      "File \u001b[1;32m~\\git_workspace\\recursiveLLM\\src\\utils\\custom_logging.py:66\u001b[0m, in \u001b[0;36madd_job_specific_handler\u001b[1;34m(logger, job_id)\u001b[0m\n\u001b[0;32m     63\u001b[0m formatter \u001b[38;5;241m=\u001b[39m ProcessorFormatter(\n\u001b[0;32m     64\u001b[0m     processor\u001b[38;5;241m=\u001b[39mstructlog\u001b[38;5;241m.\u001b[39mdev\u001b[38;5;241m.\u001b[39mConsoleRenderer(colors\u001b[38;5;241m=\u001b[39m\u001b[38;5;28;01mFalse\u001b[39;00m), )\n\u001b[0;32m     65\u001b[0m handler\u001b[38;5;241m.\u001b[39msetFormatter(formatter)\n\u001b[1;32m---> 66\u001b[0m \u001b[43mlogger\u001b[49m\u001b[38;5;241;43m.\u001b[39;49m\u001b[43m_logger\u001b[49m\u001b[38;5;241;43m.\u001b[39;49m\u001b[43maddHandler\u001b[49m(handler)\n\u001b[0;32m     67\u001b[0m \u001b[38;5;28;01mreturn\u001b[39;00m handler\n",
      "\u001b[1;31mAttributeError\u001b[0m: 'PrintLogger' object has no attribute 'addHandler'"
     ]
    }
   ],
   "source": [
    "output_data = run_prithvi(\"NC(=O)C1=NC(F)=CN=C1O\", llm=\"claude-3-opus-20240229\", az_model=\"USPTO\")"
   ]
  },
  {
   "cell_type": "code",
   "execution_count": null,
   "metadata": {},
   "outputs": [],
   "source": []
  },
  {
   "cell_type": "code",
   "execution_count": null,
   "metadata": {},
   "outputs": [],
   "source": []
  },
  {
   "cell_type": "code",
   "execution_count": null,
   "metadata": {},
   "outputs": [],
   "source": []
  },
  {
   "cell_type": "code",
   "execution_count": null,
   "metadata": {},
   "outputs": [],
   "source": []
  },
  {
   "cell_type": "code",
   "execution_count": null,
   "metadata": {},
   "outputs": [],
   "source": []
  },
  {
   "cell_type": "code",
   "execution_count": null,
   "metadata": {},
   "outputs": [],
   "source": []
  },
  {
   "cell_type": "code",
   "execution_count": null,
   "metadata": {},
   "outputs": [],
   "source": []
  },
  {
   "cell_type": "code",
   "execution_count": null,
   "metadata": {},
   "outputs": [],
   "source": []
  },
  {
   "cell_type": "code",
   "execution_count": null,
   "metadata": {},
   "outputs": [],
   "source": []
  }
 ],
 "metadata": {
  "kernelspec": {
   "display_name": "test_env_si_challenge",
   "language": "python",
   "name": "python3"
  },
  "language_info": {
   "codemirror_mode": {
    "name": "ipython",
    "version": 3
   },
   "file_extension": ".py",
   "mimetype": "text/x-python",
   "name": "python",
   "nbconvert_exporter": "python",
   "pygments_lexer": "ipython3",
   "version": "3.9.21"
  }
 },
 "nbformat": 4,
 "nbformat_minor": 2
}
